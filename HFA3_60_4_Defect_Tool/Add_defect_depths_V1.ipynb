{
 "cells": [
  {
   "cell_type": "markdown",
   "metadata": {},
   "source": [
    "#### Add defect depths to parsed XML csv\n",
    "----------------------------\n",
    "Version 1"
   ]
  },
  {
   "cell_type": "markdown",
   "metadata": {},
   "source": [
    "### Imports"
   ]
  },
  {
   "cell_type": "code",
   "execution_count": 1,
   "metadata": {},
   "outputs": [],
   "source": [
    "import numpy as np\n",
    "import pandas as pd\n",
    "\n",
    "import os\n",
    "from os import listdir"
   ]
  },
  {
   "cell_type": "markdown",
   "metadata": {},
   "source": [
    "### File Paths\n",
    "\n",
    "Set file paths to directories containing the csv outputs, parsed XML csv, and desired output for cleaned file"
   ]
  },
  {
   "cell_type": "code",
   "execution_count": 2,
   "metadata": {},
   "outputs": [],
   "source": [
    "# Set to directory containing the dicoms and ouput folder\n",
    "output_fp = \"/Users/nicolebrye/Desktop/HGC/Data_Management/HFA3_60_4_Defect_Tool/AF_DCM_Matlab20210818-Z7VjKdO6X4\"\n",
    "\n",
    "# Set to directory containing the parsed XML csv file, include the name of the file in the file path\n",
    "csv_fp = \"/Users/nicolebrye/Desktop/HGC/Data_Management/HFA3_60_4_Defect_Tool/testConvertedXML60-4.csv\"\n",
    "\n",
    "# Set to directory where the new csv will be written to\n",
    "out_fp = \"/Users/nicolebrye/Desktop/HGC/Data_Management/HFA3_60_4_Defect_Tool\""
   ]
  },
  {
   "cell_type": "markdown",
   "metadata": {},
   "source": [
    "### Reading in files\n",
    "\n",
    "Files are read in, tests are run to ensure paths are set correctly"
   ]
  },
  {
   "cell_type": "code",
   "execution_count": 3,
   "metadata": {},
   "outputs": [],
   "source": [
    "path = os.path.join(output_fp, \"output\")\n",
    "\n",
    "try:\n",
    "    files = [file for file in listdir(path) if file.endswith(\".csv\")]\n",
    "except FileNotFoundError:\n",
    "    print(\"Output folder directory error - double check and make sure output_fp is pointing to the right spot\")\n",
    "    \n",
    "try:\n",
    "    temp = pd.read_csv(csv_fp)\n",
    "except FileNotFoundError:\n",
    "    print(\"Parsed XML directory error - double check and make sure csv_fp is pointing to the right spot\")\n",
    "\n",
    "DATA = temp.copy()"
   ]
  },
  {
   "cell_type": "markdown",
   "metadata": {},
   "source": [
    "### Adding defect depths to parsed XML\n",
    "\n",
    "Files are looped over, each defect depth column is added as a row to the parsed XML data frame"
   ]
  },
  {
   "cell_type": "code",
   "execution_count": 4,
   "metadata": {},
   "outputs": [],
   "source": [
    "for i, x in enumerate(files):\n",
    "    \n",
    "    # Read in the exam data\n",
    "    dat = pd.read_csv(os.path.join(path, x))\n",
    "    \n",
    "    # Save important attributes for exam data\n",
    "    date  = str(pd.to_datetime(dat[\"ExamDate\"][0]).date())\n",
    "    ID    = dat[\"PatientID\"][0]\n",
    "    time  = dat[\"ExamTime\"][0]\n",
    "    depth = dat[\"defect_depth\"]\n",
    "    \n",
    "    # Determine which columns to replace data for\n",
    "    start = np.where(DATA.columns == \"N30_S42_Defect\")[0][0]\n",
    "    end   = np.where(DATA.columns == \"T18_I54_Defect\")[0][0] + 1\n",
    "    \n",
    "    DATA.loc[(DATA.PATIENT_ID == ID) &\n",
    "             (DATA.VISIT_DATE == date) &\n",
    "             (DATA.EXAM_TIME == time), \n",
    "             DATA.columns[start:end]] = list(depth)\n",
    "    "
   ]
  },
  {
   "cell_type": "markdown",
   "metadata": {},
   "source": [
    "### Write to csv\n",
    "\n",
    "File with defect depths added is written to a csv, it will be saved at the specified out path"
   ]
  },
  {
   "cell_type": "code",
   "execution_count": 5,
   "metadata": {},
   "outputs": [],
   "source": [
    "try: \n",
    "    DATA.to_csv(os.path.join(out_fp, \"defect_depths.csv\"), index = False)\n",
    "except FileNotFoundError:\n",
    "    print(\"Csv output directory error - double check and make sure out_fp is pointing to the right spot\")\n",
    "    "
   ]
  },
  {
   "cell_type": "code",
   "execution_count": null,
   "metadata": {},
   "outputs": [],
   "source": []
  }
 ],
 "metadata": {
  "kernelspec": {
   "display_name": "Python 3",
   "language": "python",
   "name": "python3"
  },
  "language_info": {
   "codemirror_mode": {
    "name": "ipython",
    "version": 3
   },
   "file_extension": ".py",
   "mimetype": "text/x-python",
   "name": "python",
   "nbconvert_exporter": "python",
   "pygments_lexer": "ipython3",
   "version": "3.8.5"
  }
 },
 "nbformat": 4,
 "nbformat_minor": 4
}
