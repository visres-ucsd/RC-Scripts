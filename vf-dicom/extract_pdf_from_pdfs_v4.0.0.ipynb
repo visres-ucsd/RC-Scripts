{
 "cells": [
  {
   "cell_type": "markdown",
   "metadata": {},
   "source": [
    "### Extract PDF from PDFs\n",
    "\n",
    "v.4.0.0"
   ]
  },
  {
   "cell_type": "markdown",
   "metadata": {},
   "source": [
    "----------------------------"
   ]
  },
  {
   "cell_type": "markdown",
   "metadata": {},
   "source": [
    "## Input / Output Path"
   ]
  },
  {
   "cell_type": "markdown",
   "metadata": {},
   "source": [
    "Set to the directory containing the pdfs"
   ]
  },
  {
   "cell_type": "code",
   "execution_count": 1,
   "metadata": {},
   "outputs": [],
   "source": [
    "input_dir = \"/Users/nicolebrye/Desktop/HGC/Data_Management/vf-dicom/20210816_10-2\""
   ]
  },
  {
   "cell_type": "markdown",
   "metadata": {},
   "source": [
    "Set to the directory where the pdfs will be copied to "
   ]
  },
  {
   "cell_type": "code",
   "execution_count": 2,
   "metadata": {},
   "outputs": [],
   "source": [
    "output_dir = \"/Users/nicolebrye/Desktop\""
   ]
  },
  {
   "cell_type": "markdown",
   "metadata": {},
   "source": [
    "Set to the directory that contains the subset table"
   ]
  },
  {
   "cell_type": "code",
   "execution_count": 3,
   "metadata": {},
   "outputs": [],
   "source": [
    "subset = \"/Users/nicolebrye/Desktop/HGC/Data_Management/vf-dicom/test4.csv\""
   ]
  },
  {
   "cell_type": "markdown",
   "metadata": {},
   "source": [
    "------------------------------------"
   ]
  },
  {
   "cell_type": "markdown",
   "metadata": {},
   "source": [
    "## Imports\n",
    "\n",
    "The imports below are now setup so that if the package is not currently installed on your machine, the code below will do the installation for you. "
   ]
  },
  {
   "cell_type": "code",
   "execution_count": 4,
   "metadata": {},
   "outputs": [],
   "source": [
    "import re\n",
    "import os\n",
    "import numpy as np\n",
    "import pandas as pd\n",
    "\n",
    "# Packages that may not be installed\n",
    "try:\n",
    "    from shutil import copyfile\n",
    "except:\n",
    "    !pip install shutil\n",
    "    from shutil import copyfile"
   ]
  },
  {
   "cell_type": "markdown",
   "metadata": {},
   "source": [
    "---"
   ]
  },
  {
   "cell_type": "markdown",
   "metadata": {},
   "source": [
    "## Creating a Lookup Table"
   ]
  },
  {
   "cell_type": "markdown",
   "metadata": {},
   "source": [
    "Function for formatting the lookup structure"
   ]
  },
  {
   "cell_type": "code",
   "execution_count": 5,
   "metadata": {},
   "outputs": [],
   "source": [
    "def nestValues(x):\n",
    "    '''\n",
    "    Converts the values of a lookup table into a nested dictionary containing \n",
    "    information for masked id, eye, and date\n",
    "    \n",
    "    :param x: A row of the table\n",
    "    :returns: A nested dictionary\n",
    "    '''\n",
    "    \n",
    "    # If the maskedID hasn't been added yet, add a new dictionary\n",
    "    try:\n",
    "        SUB[x[\"maskedID\"]]\n",
    "    except KeyError:\n",
    "        SUB[x[\"maskedID\"]] = {}\n",
    "    \n",
    "    try:\n",
    "        d1 = x[\"Date\"]\n",
    "    except KeyError:\n",
    "        d1 = \"null\"\n",
    "        \n",
    "    # Check if the table contains an Eye column\n",
    "    try:\n",
    "        d2 = x[\"Eye\"]\n",
    "    except KeyError:\n",
    "        d2 = \"null\"\n",
    "        \n",
    "    try:\n",
    "        SUB[x[\"maskedID\"]][d2].update({d1:0})\n",
    "    except:\n",
    "        SUB[x[\"maskedID\"]][d2] = {d1:0}\n",
    "        \n",
    "    return None\n"
   ]
  },
  {
   "cell_type": "markdown",
   "metadata": {},
   "source": [
    "<br>\n",
    "Function for extracting maskedID, Eye, and Date from a filename"
   ]
  },
  {
   "cell_type": "code",
   "execution_count": 6,
   "metadata": {},
   "outputs": [],
   "source": [
    "def parseValues(x):\n",
    "    '''\n",
    "    Given a pdf filename, extracts the maskedID, Eye, and Date\n",
    "    \n",
    "    :param x: A filename as a string\n",
    "    :returns: A list of the desired elements\n",
    "    '''\n",
    "    \n",
    "    ID   = re.search(\"^[A-Z]{2}[0-9]{4}\", x).group(0)\n",
    "    Eye  = re.search(\"_(OD|OS)_\", x).group(0).replace(\"_\", \"\")\n",
    "    Date = re.search(\"[0-9]{8}\", x).group(0)\n",
    "    \n",
    "    return [ID, Eye, Date]"
   ]
  },
  {
   "cell_type": "markdown",
   "metadata": {},
   "source": [
    "<br>\n",
    "Function for looking up desired information in the nested dictionary lookup structure"
   ]
  },
  {
   "cell_type": "code",
   "execution_count": 7,
   "metadata": {},
   "outputs": [],
   "source": [
    "def lookupValues(x):\n",
    "    '''\n",
    "    Given a pdf filename, checks if the information matches any of the values\n",
    "    that can be found in the lookup table\n",
    "    \n",
    "    :param x: A row of the filenames table\n",
    "    :returns: A boolean stating whether the file is in the lookup table\n",
    "    '''\n",
    "    \n",
    "    try: \n",
    "        temp = SUB[x[\"maskedID\"]]\n",
    "    except:\n",
    "        return False\n",
    "    \n",
    "    try:\n",
    "        temp = temp[x[\"Eye\"]]\n",
    "        v1   = x[\"Eye\"]\n",
    "        \n",
    "    except KeyError:\n",
    "        \n",
    "        if \"null\" in temp.keys():\n",
    "            temp = temp[\"null\"]\n",
    "            v1   = \"null\"\n",
    "            \n",
    "        else:\n",
    "            return False\n",
    "        \n",
    "    # Keep track of missing values\n",
    "    try:\n",
    "        if x[\"Date\"] in temp.keys():\n",
    "            SUB[x[\"maskedID\"]][v1][x[\"Date\"]] += 1\n",
    "            return True\n",
    "        \n",
    "        elif \"null\" in temp.keys():\n",
    "            SUB[x[\"maskedID\"]][v1][\"null\"] += 1\n",
    "            return True\n",
    "        \n",
    "        else:\n",
    "            return False\n",
    "        \n",
    "    except KeyError:\n",
    "        return False\n"
   ]
  },
  {
   "cell_type": "markdown",
   "metadata": {},
   "source": [
    "---"
   ]
  },
  {
   "cell_type": "markdown",
   "metadata": {},
   "source": [
    "## Listing all of the Files"
   ]
  },
  {
   "cell_type": "markdown",
   "metadata": {},
   "source": [
    "Creating the table"
   ]
  },
  {
   "cell_type": "code",
   "execution_count": 8,
   "metadata": {},
   "outputs": [
    {
     "data": {
      "text/plain": [
       "{'SD4560': {'null': {'20180621': 0}}}"
      ]
     },
     "execution_count": 8,
     "metadata": {},
     "output_type": "execute_result"
    }
   ],
   "source": [
    "table = pd.read_csv(subset)\n",
    "\n",
    "# Fix dates\n",
    "try:\n",
    "    table[\"Date\"] = pd.to_datetime(table[\"Date\"]).astype(str).str.replace(\"-\", \"\")\n",
    "    table[\"Date\"] = table[\"Date\"].replace(\"NaT\", np.NaN)\n",
    "except KeyError:\n",
    "    pass\n",
    "\n",
    "table = table.replace(np.NaN, \"null\")\n",
    "\n",
    "# Create the nested dictionary structure\n",
    "SUB = {}\n",
    "table.apply(nestValues, axis = 1)\n",
    "SUB"
   ]
  },
  {
   "cell_type": "markdown",
   "metadata": {},
   "source": [
    "<br>\n",
    "Looping through files and folders to ensure everything is in the correct format"
   ]
  },
  {
   "cell_type": "code",
   "execution_count": 9,
   "metadata": {},
   "outputs": [],
   "source": [
    "\n",
    "pattern = \"^[A-Z]{2}[0-9]{4}_[A-Z]{2}_[0-9]{8}.*\\.pdf$\"\n",
    "\n",
    "PDFS  = [f for f in os.listdir(input_dir) if re.match(pattern, f)]\n",
    "outer = np.repeat(input_dir, len(PDFS))\n",
    "\n",
    "# Now loop through the folders and add additional pdfs on\n",
    "folders = [f for f in os.listdir(input_dir) if os.path.isdir(os.path.join(input_dir, f))]\n",
    "\n",
    "files = []\n",
    "inner = np.array([])\n",
    "\n",
    "for folder in folders:\n",
    "    temp = [f for f in os.listdir(os.path.join(input_dir, folder)) if re.match(pattern, f)]\n",
    "    files += temp\n",
    "\n",
    "    inner = np.append(inner, np.repeat(os.path.join(input_dir, folder), len(temp)))\n",
    "\n",
    "\n",
    "# Add the files together\n",
    "s1 = list(outer) + list(inner)\n",
    "s2 = PDFS + files\n",
    "\n",
    "fnames = pd.Series(zip(s1, s2)).apply(lambda x: os.path.join(x[0], x[1]))"
   ]
  },
  {
   "cell_type": "markdown",
   "metadata": {},
   "source": [
    "---"
   ]
  },
  {
   "cell_type": "markdown",
   "metadata": {},
   "source": [
    "## Extracting all information from the file names"
   ]
  },
  {
   "cell_type": "markdown",
   "metadata": {},
   "source": [
    "Looping through each of the files to extract information using the `parseValues` function defined above"
   ]
  },
  {
   "cell_type": "code",
   "execution_count": 10,
   "metadata": {},
   "outputs": [],
   "source": [
    "\n",
    "# Create a DataFrame of information\n",
    "DF = pd.DataFrame(list(pd.Series(s2).apply(parseValues).values), \n",
    "                  columns = [\"maskedID\", \"Eye\", \"Date\"])\n",
    "\n",
    "# Assign file names\n",
    "DF = DF.assign(fp = fnames)\n",
    "DF = DF.assign(status = DF.apply(lookupValues, axis = 1))\n",
    "\n",
    "SUBSET = DF.loc[DF[\"status\"]]\n",
    "\n",
    "# Loop through the desired fps and copy to another directory\n",
    "for fp in SUBSET[\"fp\"]:\n",
    "    \n",
    "    fold = fp.split(\"/\")[-2]\n",
    "    file = fp.split(\"/\")[-1]\n",
    "    \n",
    "    src = fp\n",
    "    out = os.path.join(output_dir, fold + \"_subset\")\n",
    "    dst = os.path.join(out, file)\n",
    "    \n",
    "    if not os.path.isdir(out):\n",
    "        os.makedirs(out)\n",
    "    \n",
    "    copyfile(src, dst)"
   ]
  },
  {
   "cell_type": "markdown",
   "metadata": {},
   "source": [
    "---"
   ]
  },
  {
   "cell_type": "markdown",
   "metadata": {},
   "source": [
    "## Display Information about missing files"
   ]
  },
  {
   "cell_type": "code",
   "execution_count": 11,
   "metadata": {},
   "outputs": [
    {
     "name": "stdout",
     "output_type": "stream",
     "text": [
      "All files were copied to the output directory successfully :D\n"
     ]
    }
   ],
   "source": [
    "# Level 1\n",
    "MVALS = []\n",
    "KEY1  = list(SUB.keys())\n",
    "VAL1  = list(SUB.values())\n",
    "\n",
    "for i, v1 in enumerate(VAL1):\n",
    "    \n",
    "    # Level 2\n",
    "    KEY2 = list(v1.keys())\n",
    "    VAL2 = list(v1.values())\n",
    "    \n",
    "    for j, v2 in enumerate(VAL2):\n",
    "        \n",
    "        # Level 3\n",
    "        KEY3 = list(v2.keys())\n",
    "        VAL3 = list(v2.values())\n",
    "        \n",
    "        if 0 in VAL3:\n",
    "            idx = np.where(np.array(VAL3) == 0)[0]\n",
    "            \n",
    "            for k in idx:\n",
    "                MVALS.append([KEY1[i], KEY2[j], KEY3[k]])\n",
    "\n",
    "                \n",
    "                \n",
    "# Print out the results\n",
    "if len(MVALS) == 0:\n",
    "    print(\"All files were copied to the output directory successfully :D\")\n",
    "    \n",
    "else:\n",
    "    print(\"Could not find any pdfs for the following information:\\n\")\n",
    "    \n",
    "    OUT = pd.DataFrame(MVALS, columns = [\"maskedID\", \"Eye\", \"Date\"])\n",
    "    OUT = OUT.replace(\"null\", \"Not Specified\")\n",
    "    \n",
    "    print(OUT)"
   ]
  },
  {
   "cell_type": "code",
   "execution_count": null,
   "metadata": {},
   "outputs": [],
   "source": []
  }
 ],
 "metadata": {
  "kernelspec": {
   "display_name": "Python 3 (ipykernel)",
   "language": "python",
   "name": "python3"
  },
  "language_info": {
   "codemirror_mode": {
    "name": "ipython",
    "version": 3
   },
   "file_extension": ".py",
   "mimetype": "text/x-python",
   "name": "python",
   "nbconvert_exporter": "python",
   "pygments_lexer": "ipython3",
   "version": "3.9.7"
  }
 },
 "nbformat": 4,
 "nbformat_minor": 4
}
