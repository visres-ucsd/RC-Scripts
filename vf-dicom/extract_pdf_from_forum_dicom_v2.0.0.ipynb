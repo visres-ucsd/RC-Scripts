{
 "cells": [
  {
   "cell_type": "markdown",
   "metadata": {},
   "source": [
    "##### Extract PDF from Forum DICOM\n",
    "----------------------------\n",
    "v.2.0.0"
   ]
  },
  {
   "cell_type": "markdown",
   "metadata": {},
   "source": [
    "## Imports"
   ]
  },
  {
   "cell_type": "code",
   "execution_count": 1,
   "metadata": {},
   "outputs": [],
   "source": [
    "import os\n",
    "import os.path\n",
    "import pandas as pd\n",
    "import numpy as np\n",
    "import datetime\n",
    "from os import listdir\n",
    "from datetime import date\n",
    "\n",
    "import pydicom"
   ]
  },
  {
   "cell_type": "markdown",
   "metadata": {},
   "source": [
    "## Input / Output Path\n",
    "\n",
    "Set path to the Forum .dcm file containing the pdf and directory to store output"
   ]
  },
  {
   "cell_type": "code",
   "execution_count": 2,
   "metadata": {},
   "outputs": [],
   "source": [
    "\n",
    "# Set to directory that contains the dcm files and where the pdfs will be placed\n",
    "input_dir = '/Users/nicolebrye/Desktop/HGC/Projects/vf-dicom'\n",
    "\n",
    "# Set to directory that contains the subset table, type \"False\" (without quotes) after the equal sign if there \n",
    "# is no subset being used.\n",
    "subset = '/Users/nicolebrye/Desktop/HGC/Projects/vf-dicom'\n"
   ]
  },
  {
   "cell_type": "code",
   "execution_count": 3,
   "metadata": {},
   "outputs": [],
   "source": [
    "files = [file for file in listdir(input_dir) if file.endswith('.dcm')]\n"
   ]
  },
  {
   "cell_type": "code",
   "execution_count": 4,
   "metadata": {},
   "outputs": [],
   "source": [
    "# Create a class to throw exceptions\n",
    "class ContinueOuter(Exception):\n",
    "    pass\n",
    "\n",
    "# Create a dictionary with the info\n",
    "try:\n",
    "    table = pd.read_csv(subset)\n",
    "    info = {table[\"maskedID\"][i] : [] for i in range(len(table.index))}\n",
    "\n",
    "    for i in range(len(table.index)):\n",
    "    \n",
    "        key = table[\"maskedID\"][i]\n",
    "    \n",
    "        try:\n",
    "            Eye = table[\"Eye\"][i]\n",
    "        except:\n",
    "            Eye = np.NaN\n",
    "        \n",
    "        try:\n",
    "            day = table[\"Date\"][i]\n",
    "        except:\n",
    "            day = np.NaN\n",
    "    \n",
    "        if type(day) == str:\n",
    "            day = day.split(\"/\")\n",
    "            day = datetime.datetime(int(day[-1]), int(day[0]), int(day[1]))\n",
    "            day = day.strftime('%y-%m-%d').replace(\"-\", \"\")\n",
    "    \n",
    "        value = [Eye, day, 0]\n",
    "        info[key].append(value)\n",
    "        \n",
    "except:\n",
    "    info = None"
   ]
  },
  {
   "cell_type": "markdown",
   "metadata": {},
   "source": [
    "## Extract PDF and write to ouptut\n",
    "\n",
    "File is written to out directory with same name as input file (using .pdf extension)"
   ]
  },
  {
   "cell_type": "code",
   "execution_count": 10,
   "metadata": {},
   "outputs": [],
   "source": [
    "\n",
    "# Tag for test type\n",
    "x = 0x7717\n",
    "y = 0x1001\n",
    "\n",
    "# Set today's date\n",
    "today = str(date.today())\n",
    "today = today.replace('-', '')\n",
    "\n",
    "for f in files:\n",
    "\n",
    "    # File to read\n",
    "    input_path = os.path.join(input_dir, f)\n",
    "    \n",
    "    # Read DICOM\n",
    "    dcm = pydicom.read_file(input_path)\n",
    "    pdf_data = bytearray(dcm.EncapsulatedDocument)\n",
    "    \n",
    "    # Set title and remove overview\n",
    "    title = dcm.DocumentTitle\n",
    "    \n",
    "    if title.startswith('OVERVIEW'):\n",
    "        continue\n",
    "    \n",
    "    # Patient ID\n",
    "    try:\n",
    "        patient_id = dcm.OriginalAttributesSequence[1].ModifiedAttributesSequence[0].PatientID\n",
    "    except:\n",
    "        patient_id = dcm.PatientID\n",
    "    \n",
    "    # Eye\n",
    "    if dcm.ImageLaterality == 'L':\n",
    "        eye = 'OS'\n",
    "    else:\n",
    "        eye = 'OD'\n",
    "        \n",
    "    # Date\n",
    "    visit_date = dcm.StudyDate\n",
    "    visit_time = dcm.AcquisitionDateTime[8:12]\n",
    "    \n",
    "    # Only output pdfs for DICOMS that are in the subset  \n",
    "    if isinstance(subset, str):\n",
    "        try:\n",
    "            values = info[patient_id]\n",
    "        \n",
    "            for j in range(len(values)):\n",
    "        \n",
    "                entry_0 = values[j][0]\n",
    "                entry_1 = values[j][1]\n",
    "            \n",
    "                if entry_0 == eye and entry_1 == visit_date[2:]:\n",
    "                    values[j][-1] += 1\n",
    "                    break\n",
    "                    \n",
    "                if entry_0 == eye and isinstance(entry_1, float):\n",
    "                    values[j][-1] += 1\n",
    "                    break\n",
    "                \n",
    "                if entry_1 == visit_date[2:] and isinstance(entry_0, float):\n",
    "                    values[j][-1] += 1\n",
    "                    break\n",
    "            \n",
    "                if entry_0 != eye and isinstance(entry_0, str):\n",
    "                    if j == (len(values) - 1):\n",
    "                        raise ContinueOuter\n",
    "                    \n",
    "                if entry_1 != visit_date[2:] and isinstance(entry_1, str):\n",
    "                    if j == (len(values) - 1):\n",
    "                        raise ContinueOuter\n",
    "                    \n",
    "                values[j][-1] += 1\n",
    "    \n",
    "        except ContinueOuter:\n",
    "            continue\n",
    "    \n",
    "        except KeyError:\n",
    "            continue\n",
    "    \n",
    "    # Determine the type of test\n",
    "    char_list = [char for char in dcm[x,y].value if char.isdigit()]\n",
    "    char_list.insert(2, \"-\")\n",
    "    test_type = \"\"\n",
    "    test_type = test_type.join(char_list)\n",
    "    \n",
    "    # Set output directory\n",
    "    output_dir = input_dir + '/' + today + '_' + test_type\n",
    "    \n",
    "    # Create output location, overwriting file if it exists\n",
    "    if not os.path.isdir(output_dir):\n",
    "        os.makedirs(output_dir)\n",
    "    \n",
    "    separate = '_' \n",
    "    pdf_path = [patient_id, eye, visit_date, test_type, visit_time]\n",
    "    pdf_path = separate.join(pdf_path) + '.pdf'\n",
    "    pdf_path = os.path.join(output_dir, pdf_path)\n",
    "    pdf_file = open(pdf_path,'wb')\n",
    "\n",
    "    # Write data to output\n",
    "    pdf_file.write(pdf_data)\n",
    "\n",
    "    pdf_file.flush()\n",
    "    pdf_file.close()\n"
   ]
  },
  {
   "cell_type": "code",
   "execution_count": 11,
   "metadata": {},
   "outputs": [
    {
     "name": "stdout",
     "output_type": "stream",
     "text": [
      "All files in the subset were converted to PDFs successfully :D\n"
     ]
    }
   ],
   "source": [
    "# Run this cell to find which entries in the table, if any, were not found in the subset of files\n",
    "try:\n",
    "    count = 0\n",
    "    for i in info.keys():\n",
    "        for j in info[i]:\n",
    "            if j[-1] == 0:\n",
    "                \n",
    "                first = str(j[0])\n",
    "                second = str(j[1])\n",
    "                \n",
    "                if first == \"nan\":\n",
    "                    first = \"(not given)\"\n",
    "                if second == \"nan\":\n",
    "                    second = \"(not given)\"\n",
    "                    \n",
    "                print(\"A DICOM for ID \" + i + \", eye \" + first + \", and date \" + second + \" was not found\")\n",
    "                count += 1\n",
    "            \n",
    "    if count == 0:\n",
    "        print(\"All files in the subset were converted to PDFs successfully :D\")\n",
    "        \n",
    "except:\n",
    "    print(\"All files were converted to PDFs successfully :D\")"
   ]
  },
  {
   "cell_type": "code",
   "execution_count": null,
   "metadata": {},
   "outputs": [],
   "source": []
  }
 ],
 "metadata": {
  "kernelspec": {
   "display_name": "Python 3",
   "language": "python",
   "name": "python3"
  },
  "language_info": {
   "codemirror_mode": {
    "name": "ipython",
    "version": 3
   },
   "file_extension": ".py",
   "mimetype": "text/x-python",
   "name": "python",
   "nbconvert_exporter": "python",
   "pygments_lexer": "ipython3",
   "version": "3.8.5"
  }
 },
 "nbformat": 4,
 "nbformat_minor": 4
}
