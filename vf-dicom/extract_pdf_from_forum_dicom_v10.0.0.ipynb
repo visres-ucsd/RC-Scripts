{
 "cells": [
  {
   "cell_type": "markdown",
   "metadata": {},
   "source": [
    "##### Extract PDF from Forum DICOM\n",
    "----------------------------\n",
    "v.10.0.0"
   ]
  },
  {
   "cell_type": "markdown",
   "metadata": {},
   "source": [
    "## Imports"
   ]
  },
  {
   "cell_type": "code",
   "execution_count": 1,
   "metadata": {},
   "outputs": [],
   "source": [
    "import re\n",
    "import os\n",
    "import os.path\n",
    "import shutil\n",
    "from os import listdir\n",
    "from datetime import date\n",
    "\n",
    "import pydicom\n",
    "import pdfquery as pq\n",
    "\n",
    "# Image imports\n",
    "import numpy as np\n",
    "import PIL.Image as Image\n",
    "from pdf2image import convert_from_path\n",
    "import pytesseract as pt"
   ]
  },
  {
   "cell_type": "markdown",
   "metadata": {},
   "source": [
    "## Input / Output Path\n",
    "\n",
    "Set path to the Forum .dcm file containing the pdf and directory to store output"
   ]
  },
  {
   "cell_type": "code",
   "execution_count": 2,
   "metadata": {},
   "outputs": [],
   "source": [
    "# Set to directory that contains the dcm files\n",
    "input_dir = '/Volumes/glaucoma/SHILEY_VISUAL_FIELDS/Upload_DICOM_PDF'\n",
    "\n",
    "# Set to directory where the pdfs will be placed\n",
    "output_dir = '/Volumes/glaucoma/SHILEY_VISUAL_FIELDS/Upload_DICOM_PDF'\n"
   ]
  },
  {
   "cell_type": "markdown",
   "metadata": {},
   "source": [
    "## Functions\n",
    "Functions for extracting files and converting DICOMS to PDF"
   ]
  },
  {
   "cell_type": "code",
   "execution_count": 3,
   "metadata": {},
   "outputs": [],
   "source": [
    "# Functions to extract DICOMS from a folder\n",
    "def extract_dcm(fp):\n",
    "    return [f for f in listdir(fp) if f.endswith('.dcm')]\n",
    "\n",
    "# Function to extract subfolders\n",
    "def extract_folders(fp):\n",
    "    return [f for f in listdir(fp) if os.path.isdir(os.path.join(fp, f))]\n",
    "\n",
    "# Function to check whether or not the pdf requires OCR\n",
    "def check_OCR(fp):\n",
    "    img = np.array(convert_from_path(fp)[0])[300:400, 100:200]\n",
    "    ofp = os.path.join(output_dir, today + \"_Requires_OCR\")\n",
    "    \n",
    "    if not os.path.isdir(ofp):\n",
    "        os.makedirs(ofp)\n",
    "    \n",
    "    if img.mean() == 255.0:\n",
    "        shutil.move(fp, ofp)"
   ]
  },
  {
   "cell_type": "code",
   "execution_count": 4,
   "metadata": {},
   "outputs": [],
   "source": [
    "# Function to convert DICOMS to PDF\n",
    "def convert_dcm(files, input_dir):\n",
    "\n",
    "    for f in files:\n",
    "\n",
    "        # File to read\n",
    "        input_path = os.path.join(input_dir, f)\n",
    "    \n",
    "        # Read DICOM\n",
    "        dcm = pydicom.read_file(input_path)\n",
    "        pdf_data = bytearray(dcm.EncapsulatedDocument)\n",
    "    \n",
    "        # Set title and remove overview\n",
    "        title = dcm.DocumentTitle\n",
    "    \n",
    "        if title.startswith('OVERVIEW'):\n",
    "            continue\n",
    "    \n",
    "        if 'SFA' in title:\n",
    "            title = 'SFA'\n",
    "    \n",
    "        if 'GPA' in title:\n",
    "            title = 'GPA'\n",
    "        \n",
    "        if 'THREE_IN_ONE' in title:\n",
    "            title = 'THREE_IN_ONE'\n",
    "    \n",
    "        # Patient ID\n",
    "        patient_id = dcm.PatientID\n",
    "    \n",
    "        # Eye and visit times\n",
    "        if dcm.Laterality == 'L':\n",
    "            eye = 'OS'\n",
    "        else:\n",
    "            eye = 'OD'\n",
    "        \n",
    "        visit_date = dcm.AcquisitionDateTime[0:8]\n",
    "        visit_time = dcm.AcquisitionDateTime[8:12]\n",
    "    \n",
    "        # Determine the type of test and determine the pdf name\n",
    "        try:\n",
    "            test_type = re.search(\"\\d{2}-\\d\", str(dcm[x, y])).group()\n",
    "        \n",
    "            out_path = output_dir + '/' + today + '_' + test_type\n",
    "            pdf_path = [patient_id, eye, visit_date, title, test_type, visit_time]\n",
    "        \n",
    "            dup = \"_\".join([patient_id, eye, visit_date, title, visit_time])\n",
    "        \n",
    "            if dup in produced:\n",
    "                continue\n",
    "            produced.add(dup)\n",
    "        \n",
    "        except:\n",
    "            pdf_path  = [patient_id, eye, visit_date, title, visit_time]\n",
    "        \n",
    "            missing.append(\"_\".join(pdf_path))\n",
    "            m_files.append(pdf_data)\n",
    "            continue\n",
    "        \n",
    "        # Create output location, overwriting file if it exists\n",
    "        op = os.path.join(out_path, title)\n",
    "        if not os.path.isdir(op):\n",
    "            os.makedirs(op)\n",
    "        \n",
    "        pdf_path = '_'.join(pdf_path) + '.pdf'\n",
    "        pdf_path = os.path.join(op, pdf_path)\n",
    "        pdf_file = open(pdf_path,'wb')\n",
    "\n",
    "        # Write data to output\n",
    "        pdf_file.write(pdf_data)\n",
    "\n",
    "        pdf_file.flush()\n",
    "        pdf_file.close()\n",
    "        \n",
    "        # Check to see if the pdf requires OCR\n",
    "        check_OCR(pdf_path)"
   ]
  },
  {
   "cell_type": "markdown",
   "metadata": {},
   "source": [
    "## Extract PDF and write to ouptut\n",
    "\n",
    "File is written to out directory with a name containing the patient ID, eye, visit date, test type, and visit time (using .pdf extension)"
   ]
  },
  {
   "cell_type": "code",
   "execution_count": 5,
   "metadata": {},
   "outputs": [],
   "source": [
    "files = extract_dcm(input_dir)"
   ]
  },
  {
   "cell_type": "code",
   "execution_count": 6,
   "metadata": {},
   "outputs": [],
   "source": [
    "# Tag for test type\n",
    "x = 0x7717\n",
    "y = 0x1001\n",
    "\n",
    "# Set today's date\n",
    "today = str(date.today())\n",
    "today = today.replace('-', '')\n",
    "\n",
    "# Sets for missing and produced files\n",
    "produced = set()\n",
    "missing  = list()\n",
    "m_files  = list()\n",
    "\n",
    "# Convert DICOMS to PDF\n",
    "if len(files) > 0:\n",
    "    convert_dcm(files, input_dir)\n",
    "\n",
    "else:\n",
    "    folders = extract_folders(input_dir)\n",
    "    \n",
    "    for folder in folders:\n",
    "        \n",
    "        sub_dir = os.path.join(input_dir, folder)\n",
    "        files   = extract_dcm(sub_dir)\n",
    "        convert_dcm(files, sub_dir)"
   ]
  },
  {
   "cell_type": "markdown",
   "metadata": {},
   "source": [
    "## DICOMs with missing information\n",
    "\n",
    "Any pdfs that are missing information will be placed into a separate folder and have the necessary information extracted"
   ]
  },
  {
   "cell_type": "code",
   "execution_count": 9,
   "metadata": {},
   "outputs": [],
   "source": [
    "out_path = output_dir + '/' + today + \"_Missing_tags\"\n",
    "        \n",
    "# Create output location, overwriting file if it exists\n",
    "if not os.path.isdir(out_path):\n",
    "    os.makedirs(out_path)\n",
    "\n",
    "for i in np.arange(14271, len(m_files)):\n",
    "    \n",
    "    # If the missing file has a duplicate continue\n",
    "    if missing[i] in produced:\n",
    "        continue\n",
    "        \n",
    "    else:  \n",
    "        pdf_path = missing[i] + '.pdf'\n",
    "        pdf_path = os.path.join(out_path, pdf_path)\n",
    "        pdf_file = open(pdf_path,'wb')\n",
    "        \n",
    "        # Write data to output\n",
    "        pdf_file.write(m_files[i])\n",
    "\n",
    "        pdf_file.flush()\n",
    "        pdf_file.close()  \n",
    "    \n",
    "    \n",
    "#for i, f in enumerate(m_files):\n",
    "\n",
    "    # If the missing file has a duplicate continue\n",
    "#     if missing[i] in produced:\n",
    "#         continue\n",
    "        \n",
    "#     else:  \n",
    "#         pdf_path = missing[i] + '.pdf'\n",
    "#         pdf_path = os.path.join(out_path, pdf_path)\n",
    "#         pdf_file = open(pdf_path,'wb')\n",
    "        \n",
    "#         # Write data to output\n",
    "#         pdf_file.write(f)\n",
    "\n",
    "#         pdf_file.flush()\n",
    "#         pdf_file.close()   "
   ]
  },
  {
   "cell_type": "code",
   "execution_count": 10,
   "metadata": {},
   "outputs": [
    {
     "data": {
      "text/plain": [
       "18902"
      ]
     },
     "execution_count": 10,
     "metadata": {},
     "output_type": "execute_result"
    }
   ],
   "source": [
    "i"
   ]
  },
  {
   "cell_type": "markdown",
   "metadata": {},
   "source": [
    "## Extract information and write to output\n",
    "\n",
    "Extract test type information using PDFQuery"
   ]
  },
  {
   "cell_type": "code",
   "execution_count": 11,
   "metadata": {},
   "outputs": [],
   "source": [
    "# Function to extract test type using pytesseract OCR\n",
    "def extract_test(fp):\n",
    "    \n",
    "    img = np.array(convert_from_path(fp)[0])\n",
    "    tst = img[200:250, 175:485]\n",
    "    \n",
    "    im = Image.fromarray(tst)\n",
    "    im.save(os.path.join(input_dir, \"image.jpeg\"))\n",
    "    \n",
    "    test = pt.image_to_string(Image.open(os.path.join(input_dir, \"image.jpeg\")))\n",
    "    out  = re.search(\"\\d{2}-\\d\", test).group()\n",
    "    \n",
    "    return out"
   ]
  },
  {
   "cell_type": "code",
   "execution_count": null,
   "metadata": {},
   "outputs": [],
   "source": [
    "# List out files with missing tags\n",
    "move_files = os.listdir(os.path.join(output_dir, today + \"_Missing_tags\"))\n",
    "\n",
    "for i, f in enumerate(move_files):\n",
    "\n",
    "    # Load in each pdf\n",
    "    old_op = os.path.join(output_dir, today + \"_Missing_tags\", f)\n",
    "    new_op = os.path.join(output_dir, today + \"_Requires_OCR\")\n",
    "    \n",
    "    if not os.path.isdir(new_op):\n",
    "        os.makedirs(new_op)       \n",
    "    \n",
    "    pdf = pq.PDFQuery(old_op)\n",
    "    pdf.load()\n",
    "    \n",
    "    bbox  = [430.17, 711.35225, 551.4795, 721.10225]\n",
    "    \n",
    "    # Extract values from the desired bbox\n",
    "    query = pdf.pq(f'''LTTextLineHorizontal:overlaps_bbox(\"{','.join([str(int(coord)) for coord in bbox])}\")''')\n",
    "    query = [item.layout.get_text() for item in query]\n",
    "    \n",
    "    # Extract the test type\n",
    "    try:\n",
    "        test_type = re.search(\"\\d{2}-\\d\", query[0]).group()\n",
    "    except:\n",
    "        \n",
    "        try:\n",
    "            test_type = extract_test(old_op)\n",
    "        except:\n",
    "            continue\n",
    "        \n",
    "        if not os.path.isdir(os.path.join(new_op, test_type)):\n",
    "            os.makedirs(os.path.join(new_op, test_type))\n",
    "            \n",
    "        ilist  = f.split(\"_\")\n",
    "        fname  = ilist[:4] + [test_type] + ilist[4:]\n",
    "        fname  = \"_\".join(fname)\n",
    "        \n",
    "        shutil.move(old_op, os.path.join(new_op, test_type, fname))\n",
    "        continue\n",
    "        \n",
    "    \n",
    "    # Place file into appropriate folder\n",
    "    ilist  = f.split(\"_\")\n",
    "    method = ilist[3]\n",
    "    fname  = ilist[:4] + [test_type] + ilist[4:]\n",
    "    fname  = \"_\".join(fname)\n",
    "    \n",
    "    new_op = os.path.join(output_dir, today + \"_\" + test_type, method)\n",
    "    \n",
    "    # Create output location, overwriting file if it exists\n",
    "    if not os.path.isdir(new_op):\n",
    "        os.makedirs(new_op)\n",
    "        \n",
    "    shutil.move(old_op, os.path.join(new_op, fname))\n",
    "\n",
    "    \n",
    "# Remove the temporary image file \n",
    "try:\n",
    "    os.remove(os.path.join(input_dir, \"image.jpeg\"))\n",
    "except:\n",
    "    pass\n",
    "\n",
    "# Delete the Missing Tags Folder\n",
    "try:\n",
    "    os.rmdir(os.path.join(output_dir, today + \"_Missing_tags\"))\n",
    "    print(\"All files have been placed into folders successfully :D\")\n",
    "except:\n",
    "    print(\"There are still files with missing information\")"
   ]
  },
  {
   "cell_type": "code",
   "execution_count": 15,
   "metadata": {},
   "outputs": [
    {
     "data": {
      "text/plain": [
       "0"
      ]
     },
     "execution_count": 15,
     "metadata": {},
     "output_type": "execute_result"
    }
   ],
   "source": [
    "i"
   ]
  }
 ],
 "metadata": {
  "kernelspec": {
   "display_name": "Python 3 (ipykernel)",
   "language": "python",
   "name": "python3"
  },
  "language_info": {
   "codemirror_mode": {
    "name": "ipython",
    "version": 3
   },
   "file_extension": ".py",
   "mimetype": "text/x-python",
   "name": "python",
   "nbconvert_exporter": "python",
   "pygments_lexer": "ipython3",
   "version": "3.9.7"
  }
 },
 "nbformat": 4,
 "nbformat_minor": 4
}
