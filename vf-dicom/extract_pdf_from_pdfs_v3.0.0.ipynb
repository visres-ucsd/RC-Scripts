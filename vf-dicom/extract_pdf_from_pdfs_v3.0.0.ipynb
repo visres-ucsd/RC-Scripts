{
 "cells": [
  {
   "cell_type": "markdown",
   "metadata": {},
   "source": [
    "##### Extract PDF from PDFs\n",
    "----------------------------\n",
    "v.3.0.0"
   ]
  },
  {
   "cell_type": "markdown",
   "metadata": {},
   "source": [
    "## Imports"
   ]
  },
  {
   "cell_type": "code",
   "execution_count": 85,
   "metadata": {},
   "outputs": [],
   "source": [
    "import re\n",
    "import os\n",
    "import numpy as np\n",
    "import pandas as pd\n",
    "\n",
    "from os import listdir\n",
    "from shutil import copyfile"
   ]
  },
  {
   "cell_type": "markdown",
   "metadata": {},
   "source": [
    "## Input / Output Path"
   ]
  },
  {
   "cell_type": "code",
   "execution_count": 40,
   "metadata": {},
   "outputs": [],
   "source": [
    "# Set to the directory containing the pdfs\n",
    "input_dir = \"/Users/nicolebrye/Desktop/HGC/Data_Management/vf-dicom\"\n",
    "\n",
    "# Set to the directory where the pdfs will be copied to\n",
    "output_dir = \"/Users/nicolebrye/Desktop\"\n",
    "\n",
    "# Set to directory that contains the subset table, type \"False\" (without quotes) after the equal sign if there \n",
    "# is no subset being used.\n",
    "subset = \"/Users/nicolebrye/Desktop/HGC/Data_Management/vf-dicom/test1.csv\""
   ]
  },
  {
   "cell_type": "markdown",
   "metadata": {},
   "source": [
    "### Creating a Faster Lookup Table"
   ]
  },
  {
   "cell_type": "code",
   "execution_count": 105,
   "metadata": {},
   "outputs": [],
   "source": [
    "folders = [folder for folder in os.listdir(input_dir) if os.path.isdir(os.path.join(input_dir, folder))]\n",
    "\n",
    "if len(folders) == 0:\n",
    "    folders   = [input_dir.split(\"/\")[-1]]\n",
    "    input_dir = \"/\" + \"/\".join(input_dir.split(\"/\")[1:-1])"
   ]
  },
  {
   "cell_type": "code",
   "execution_count": 108,
   "metadata": {},
   "outputs": [],
   "source": [
    "try:\n",
    "    table = pd.read_csv(subset)\n",
    "\n",
    "    # Fix dates\n",
    "    try:\n",
    "        table[\"Date\"] = pd.to_datetime(table[\"Date\"]).astype(str).str.replace(\"-\", \"\")\n",
    "        table[\"Date\"] = table[\"Date\"].replace(\"NaT\", np.NaN)\n",
    "    except KeyError:\n",
    "        pass\n",
    "\n",
    "    # Create sets for IDs and a dictionary of sets for other attributes\n",
    "    IDS  = set(table[\"maskedID\"])\n",
    "    cols = list(table.columns)\n",
    "    \n",
    "    cols.remove(\"maskedID\")\n",
    "    if len(cols) == 0:\n",
    "        attrs   = IDS\n",
    "        missing = IDS.copy()\n",
    "    else:\n",
    "        attrs   = table[cols].apply(set, 1).to_dict()\n",
    "        missing = table.apply(list, 1).to_dict()\n",
    "    \n",
    "except ValueError:\n",
    "    \n",
    "    table   = None\n",
    "    missing = None"
   ]
  },
  {
   "cell_type": "markdown",
   "metadata": {},
   "source": [
    "### Loop through files and copy to output directory"
   ]
  },
  {
   "cell_type": "code",
   "execution_count": 109,
   "metadata": {},
   "outputs": [],
   "source": [
    "for f in folders:\n",
    "    \n",
    "    # Extract pfs from folders\n",
    "    fp    = os.path.join(input_dir, f)\n",
    "    files = [file for file in listdir(fp) if file.endswith(\".pdf\")]\n",
    "    \n",
    "    # Create output location, overwriting file if it exists\n",
    "    out_path = os.path.join(output_dir, f + \"_subset\")\n",
    "    \n",
    "    if not os.path.isdir(out_path):\n",
    "        os.makedirs(out_path)\n",
    "    \n",
    "    # Loop through each file to determine whether it should be copied\n",
    "    for i, x in enumerate(files):\n",
    "        \n",
    "        # Source and destination paths\n",
    "        src = os.path.join(input_dir, f, x)\n",
    "        dst = os.path.join(output_dir, f + \"_subset\", x)\n",
    "        \n",
    "        if not isinstance(table, pd.core.frame.DataFrame):  \n",
    "            copyfile(src, dst)\n",
    "            continue\n",
    "            \n",
    "        # Extract ID, eye, and date from file name\n",
    "        ID   = re.search('^[A-Z]{2}\\d{4}', x).group(0)\n",
    "        eye  = re.search('_(OS|OD)_', x).group(0).replace(\"_\", \"\")\n",
    "        date = re.search('\\d{8}', x).group(0)\n",
    "    \n",
    "        # Check if the ID is in the input table\n",
    "        if ID in IDS:\n",
    "            \n",
    "            if isinstance(attrs, set):\n",
    "                copyfile(src, dst)\n",
    "                \n",
    "                try:\n",
    "                    missing.remove(ID)\n",
    "                except KeyError:\n",
    "                    pass\n",
    "                \n",
    "                continue\n",
    "            else:\n",
    "                idx = table.loc[table[\"maskedID\"] == ID].index\n",
    "        else:\n",
    "            continue\n",
    "        \n",
    "        for j in idx:\n",
    "            \n",
    "            sub    = attrs[j]\n",
    "            copied = False\n",
    "            \n",
    "            if len(sub) == 1 and np.NaN in sub:\n",
    "                copyfile(src, dst)\n",
    "                copied = True\n",
    "                \n",
    "            elif len(sub) == 1 and eye in sub:\n",
    "                copyfile(src, dst)\n",
    "                copied = True\n",
    "                \n",
    "            elif len(sub) == 1 and date in sub:\n",
    "                copyfile(src, dst)\n",
    "                copied = True\n",
    "            \n",
    "            elif eye in sub and date in sub:\n",
    "                copyfile(src, dst)\n",
    "                copied = True\n",
    "                \n",
    "            elif eye in sub and np.NaN in sub:\n",
    "                copyfile(src, dst) \n",
    "                copied = True\n",
    "                \n",
    "            elif date in sub and np.NaN in sub:\n",
    "                copyfile(src, dst)\n",
    "                copied = True\n",
    "                \n",
    "            else:\n",
    "                continue\n",
    "                \n",
    "            if copied:\n",
    "                try:\n",
    "                    del missing[j]\n",
    "                except KeyError:\n",
    "                    pass\n",
    "        \n",
    "    # Remove the folder if there are no pdfs\n",
    "    copied = [file for file in listdir(out_path)]\n",
    "        \n",
    "    if len(copied) == 0:\n",
    "        os.rmdir(out_path)"
   ]
  },
  {
   "cell_type": "markdown",
   "metadata": {},
   "source": [
    "### Message for any file in the subset that could not be moved"
   ]
  },
  {
   "cell_type": "code",
   "execution_count": 110,
   "metadata": {},
   "outputs": [
    {
     "name": "stdout",
     "output_type": "stream",
     "text": [
      "Could not find any pdfs for the following ID(s): NY8236\n"
     ]
    }
   ],
   "source": [
    "# Message for if no subset was used\n",
    "if not subset:\n",
    "    print(\"All files were copied to the output directory successfully :D\")\n",
    "\n",
    "# Messages for if a subset was used\n",
    "else:\n",
    "    if len(missing) == 0:\n",
    "        print(\"All files in the subset were copied to the output directory successfully :D\")\n",
    "    \n",
    "    elif isinstance(missing, set):\n",
    "\n",
    "        info = \", \".join(missing)\n",
    "        print(f\"Could not find any pdfs for the following ID(s): {info}\")\n",
    "    \n",
    "    else:\n",
    "        for key in missing:\n",
    "        \n",
    "            info = missing[key]\n",
    "            info = [x for x in info if not pd.isnull(x)]\n",
    "            info = \", \".join(info)\n",
    "        \n",
    "            print(f\"Could not find any pdfs for the following information: {info}\")"
   ]
  }
 ],
 "metadata": {
  "kernelspec": {
   "display_name": "Python 3 (ipykernel)",
   "language": "python",
   "name": "python3"
  },
  "language_info": {
   "codemirror_mode": {
    "name": "ipython",
    "version": 3
   },
   "file_extension": ".py",
   "mimetype": "text/x-python",
   "name": "python",
   "nbconvert_exporter": "python",
   "pygments_lexer": "ipython3",
   "version": "3.9.7"
  }
 },
 "nbformat": 4,
 "nbformat_minor": 4
}
