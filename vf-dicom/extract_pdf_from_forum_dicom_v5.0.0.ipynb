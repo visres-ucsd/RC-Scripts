{
 "cells": [
  {
   "cell_type": "markdown",
   "metadata": {},
   "source": [
    "##### Extract PDF from Forum DICOM\n",
    "----------------------------\n",
    "v.4.0.0"
   ]
  },
  {
   "cell_type": "markdown",
   "metadata": {},
   "source": [
    "## Imports"
   ]
  },
  {
   "cell_type": "code",
   "execution_count": 1,
   "metadata": {},
   "outputs": [],
   "source": [
    "import re\n",
    "import os\n",
    "import os.path\n",
    "from os import listdir\n",
    "from datetime import date\n",
    "\n",
    "import pydicom"
   ]
  },
  {
   "cell_type": "markdown",
   "metadata": {},
   "source": [
    "## Input / Output Path\n",
    "\n",
    "Set path to the Forum .dcm file containing the pdf and directory to store output"
   ]
  },
  {
   "cell_type": "code",
   "execution_count": 9,
   "metadata": {},
   "outputs": [],
   "source": [
    "\n",
    "# Set to directory that contains the dcm files\n",
    "input_dir = '/Users/nicolebrye/Desktop/HGC/Data_Management/vf-dicom'\n",
    "\n",
    "# Set to directory where the pdfs will be placed\n",
    "output_dir = '/Users/nicolebrye/Desktop/HGC/Data_Management/vf-dicom'\n"
   ]
  },
  {
   "cell_type": "code",
   "execution_count": 10,
   "metadata": {},
   "outputs": [],
   "source": [
    "files = [file for file in listdir(input_dir) if file.endswith('.dcm')]"
   ]
  },
  {
   "cell_type": "markdown",
   "metadata": {},
   "source": [
    "## Extract PDF and write to ouptut\n",
    "\n",
    "File is written to out directory with a name containing the patient ID, eye, visit date, test type, and visit time (using .pdf extension)"
   ]
  },
  {
   "cell_type": "code",
   "execution_count": 8,
   "metadata": {},
   "outputs": [],
   "source": [
    "\n",
    "# Tag for test type\n",
    "x = 0x7717\n",
    "y = 0x1001\n",
    "\n",
    "# Set today's date\n",
    "today = str(date.today())\n",
    "today = today.replace('-', '')\n",
    "\n",
    "produced = set()\n",
    "missing  = list()\n",
    "m_files  = list()\n",
    "\n",
    "titles = []\n",
    "for f in files:\n",
    "\n",
    "    # File to read\n",
    "    input_path = os.path.join(input_dir, f)\n",
    "    \n",
    "    # Read DICOM\n",
    "    dcm = pydicom.read_file(input_path)\n",
    "    pdf_data = bytearray(dcm.EncapsulatedDocument)\n",
    "    \n",
    "    # Set title and remove overview\n",
    "    title = dcm.DocumentTitle\n",
    "    titles.append(title)\n",
    "    \n",
    "    if title.startswith('OVERVIEW'):\n",
    "        continue\n",
    "    \n",
    "    if 'SFA' in title:\n",
    "        title = 'SFA'\n",
    "    \n",
    "    if 'GPA' in title:\n",
    "        title = 'GPA'\n",
    "        \n",
    "    if 'THREE_IN_ONE' in title:\n",
    "        title = 'THREE_IN_ONE'\n",
    "    \n",
    "    # Patient ID\n",
    "    patient_id = dcm.PatientID\n",
    "    \n",
    "    # Eye and visit times\n",
    "    if dcm.Laterality == 'L':\n",
    "        eye = 'OS'\n",
    "    else:\n",
    "        eye = 'OD'\n",
    "        \n",
    "    visit_date = dcm.AcquisitionDateTime[0:8]\n",
    "    visit_time = dcm.AcquisitionDateTime[8:12]\n",
    "    \n",
    "    # Determine the type of test and determine the pdf name\n",
    "    try:\n",
    "        test_type = re.search(\"\\d{2}-\\d\", str(dcm[x, y])).group()\n",
    "        \n",
    "        out_path = output_dir + '/' + today + '_' + test_type\n",
    "        pdf_path = [patient_id, eye, visit_date, title, test_type, visit_time]\n",
    "        \n",
    "        dup = \"_\".join([patient_id, eye, visit_date, title, visit_time])\n",
    "        \n",
    "        if dup in produced:\n",
    "            continue\n",
    "        produced.add(dup)\n",
    "        \n",
    "    except:\n",
    "        pdf_path  = [patient_id, eye, visit_date, title, visit_time]\n",
    "        \n",
    "        missing.append(\"_\".join(pdf_path))\n",
    "        m_files.append(pdf_data)\n",
    "        continue\n",
    "        \n",
    "    # Create output location, overwriting file if it exists\n",
    "    if not os.path.isdir(out_path):\n",
    "        os.makedirs(out_path)\n",
    "        \n",
    "    pdf_path = '_'.join(pdf_path) + '.pdf'\n",
    "    pdf_path = os.path.join(out_path, pdf_path)\n",
    "    pdf_file = open(pdf_path,'wb')\n",
    "\n",
    "    # Write data to output\n",
    "    pdf_file.write(pdf_data)\n",
    "\n",
    "    pdf_file.flush()\n",
    "    pdf_file.close()\n",
    "    "
   ]
  },
  {
   "cell_type": "markdown",
   "metadata": {},
   "source": [
    "## Write files with missing tags to a separate folder\n",
    "\n",
    "Any pdfs that are missing information will be written to a separate folder with today's date and \"Missing_tags\""
   ]
  },
  {
   "cell_type": "code",
   "execution_count": 10,
   "metadata": {},
   "outputs": [
    {
     "name": "stdout",
     "output_type": "stream",
     "text": [
      "All files have been placed into folders successfully :D\n"
     ]
    }
   ],
   "source": [
    "for i, f in enumerate(m_files):\n",
    "    \n",
    "    # If the missing file has a duplicate continue\n",
    "    if missing[i] in produced:\n",
    "        continue\n",
    "    else:\n",
    "        out_path = output_dir + '/' + today + \"_Missing_tags\"\n",
    "        \n",
    "        # Create output location, overwriting file if it exists\n",
    "        if not os.path.isdir(out_path):\n",
    "            os.makedirs(out_path)\n",
    "            \n",
    "        pdf_path = missing[i] + '.pdf'\n",
    "        pdf_path = os.path.join(out_path, pdf_path)\n",
    "        pdf_file = open(pdf_path,'wb')\n",
    "        \n",
    "        # Write data to output\n",
    "        pdf_file.write(f)\n",
    "\n",
    "        pdf_file.flush()\n",
    "        pdf_file.close()\n",
    "        \n",
    "print(\"All files have been placed into folders successfully :D\")"
   ]
  }
 ],
 "metadata": {
  "kernelspec": {
   "display_name": "Python 3",
   "language": "python",
   "name": "python3"
  },
  "language_info": {
   "codemirror_mode": {
    "name": "ipython",
    "version": 3
   },
   "file_extension": ".py",
   "mimetype": "text/x-python",
   "name": "python",
   "nbconvert_exporter": "python",
   "pygments_lexer": "ipython3",
   "version": "3.8.5"
  }
 },
 "nbformat": 4,
 "nbformat_minor": 4
}
