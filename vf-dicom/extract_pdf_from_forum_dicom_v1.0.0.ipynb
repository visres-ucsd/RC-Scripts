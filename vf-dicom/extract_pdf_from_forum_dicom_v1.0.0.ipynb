{
 "cells": [
  {
   "cell_type": "markdown",
   "metadata": {},
   "source": [
    "##### Extract PDF from Forum DICOM\n",
    "----------------------------\n",
    "v.1.0.0"
   ]
  },
  {
   "cell_type": "markdown",
   "metadata": {},
   "source": [
    "## Imports"
   ]
  },
  {
   "cell_type": "code",
   "execution_count": 1,
   "metadata": {},
   "outputs": [],
   "source": [
    "import os\n",
    "import os.path\n",
    "from os import listdir\n",
    "from datetime import date\n",
    "\n",
    "import pydicom"
   ]
  },
  {
   "cell_type": "markdown",
   "metadata": {},
   "source": [
    "## Input / Output Path\n",
    "\n",
    "Set path to the Forum .dcm file containing the pdf and directory to store output"
   ]
  },
  {
   "cell_type": "code",
   "execution_count": 2,
   "metadata": {},
   "outputs": [],
   "source": [
    "\n",
    "# Set to directory that contains the dcm files and where the pdfs will be placed\n",
    "input_dir = '/Users/nicolebrye/Desktop/HGC/Projects/vf-dicom'\n"
   ]
  },
  {
   "cell_type": "code",
   "execution_count": 3,
   "metadata": {},
   "outputs": [],
   "source": [
    "files = [file for file in listdir(input_dir) if file.endswith('.dcm')]\n"
   ]
  },
  {
   "cell_type": "markdown",
   "metadata": {},
   "source": [
    "## Extract PDF and write to ouptut\n",
    "\n",
    "File is written to out directory with same name as input file (using .pdf extension)"
   ]
  },
  {
   "cell_type": "code",
   "execution_count": 4,
   "metadata": {},
   "outputs": [],
   "source": [
    "\n",
    "# Tag for test type\n",
    "x = 0x7717\n",
    "y = 0x1001\n",
    "\n",
    "# Set today's date\n",
    "today = str(date.today())\n",
    "today = today.replace('-', '')\n",
    "\n",
    "for f in files:\n",
    "\n",
    "    # File to read\n",
    "    input_path = os.path.join(input_dir, f)\n",
    "    \n",
    "    # Read DICOM\n",
    "    dcm = pydicom.read_file(input_path)\n",
    "    pdf_data = bytearray(dcm.EncapsulatedDocument)\n",
    "    \n",
    "    # Set title and remove overview\n",
    "    title = dcm.DocumentTitle\n",
    "    \n",
    "    if title.startswith('OVERVIEW'):\n",
    "        continue\n",
    "    \n",
    "    # Determine the type of test\n",
    "    char_list = [char for char in dcm[x,y].value if char.isdigit()]\n",
    "    char_list.insert(2, \"-\")\n",
    "    test_type = \"\"\n",
    "    test_type = test_type.join(char_list)\n",
    "    \n",
    "    # Patient ID\n",
    "    try:\n",
    "        patient_id = dcm.OriginalAttributesSequence[1].ModifiedAttributesSequence[0].PatientID\n",
    "    except:\n",
    "        patient_id = dcm.PatientID\n",
    "    \n",
    "    # Eye and visit times\n",
    "    if dcm.ImageLaterality == 'L':\n",
    "        eye = 'OS'\n",
    "    else:\n",
    "        eye = 'OD'\n",
    "        \n",
    "    visit_date = dcm.StudyDate\n",
    "    visit_time = dcm.AcquisitionDateTime[8:12]\n",
    "    \n",
    "    # Set output directory\n",
    "    output_dir = input_dir + '/' + today + '_' + test_type\n",
    "    \n",
    "    # Create output location, overwriting file if it exists\n",
    "    if not os.path.isdir(output_dir):\n",
    "        os.makedirs(output_dir)\n",
    "    \n",
    "    separate = '_' \n",
    "    pdf_path = [patient_id, eye, visit_date, test_type, visit_time]\n",
    "    pdf_path = separate.join(pdf_path) + '.pdf'\n",
    "    pdf_path = os.path.join(output_dir, pdf_path)\n",
    "    pdf_file = open(pdf_path,'wb')\n",
    "\n",
    "    # Write data to output\n",
    "    pdf_file.write(pdf_data)\n",
    "\n",
    "    pdf_file.flush()\n",
    "    pdf_file.close()\n"
   ]
  },
  {
   "cell_type": "code",
   "execution_count": null,
   "metadata": {},
   "outputs": [],
   "source": []
  }
 ],
 "metadata": {
  "kernelspec": {
   "display_name": "Python 3 (ipykernel)",
   "language": "python",
   "name": "python3"
  },
  "language_info": {
   "codemirror_mode": {
    "name": "ipython",
    "version": 3
   },
   "file_extension": ".py",
   "mimetype": "text/x-python",
   "name": "python",
   "nbconvert_exporter": "python",
   "pygments_lexer": "ipython3",
   "version": "3.9.7"
  }
 },
 "nbformat": 4,
 "nbformat_minor": 4
}
