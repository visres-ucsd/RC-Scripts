{
 "cells": [
  {
   "cell_type": "markdown",
   "id": "1fbf9f12",
   "metadata": {},
   "source": [
    "### Textract Optical Character Recognition for PDFs"
   ]
  },
  {
   "cell_type": "markdown",
   "id": "538284d2",
   "metadata": {},
   "source": [
    "#### Imports"
   ]
  },
  {
   "cell_type": "code",
   "execution_count": 1,
   "id": "d9532c96",
   "metadata": {},
   "outputs": [],
   "source": [
    "import boto3\n",
    "import time\n",
    "\n",
    "import re\n",
    "import os\n",
    "import json\n",
    "import numpy as np\n",
    "import pandas as pd\n",
    "import datetime as dt"
   ]
  },
  {
   "cell_type": "markdown",
   "id": "ea6cba8d",
   "metadata": {},
   "source": [
    "#### Upload documents to the AWS Bucket\n",
    "\n",
    "The below may take a few minutes to run, all documents in the specified folder will be uploaded to the cloud"
   ]
  },
  {
   "cell_type": "code",
   "execution_count": 2,
   "id": "042e3795",
   "metadata": {},
   "outputs": [],
   "source": [
    "# Set to the directory containing the pdfs\n",
    "input_dir = \"/Users/nicolebrye/Desktop/HGC/Data_Management/pdf-ocr/SD4000s_20220426_24-2\"\n",
    "\n",
    "# Set to the directory where the pdfs will be stored\n",
    "output_dir = \"/Users/nicolebrye/Desktop/HGC/Data_Management/pdf-ocr/Test_PDFs\"\n",
    "\n",
    "# Set to the name of the AWS S3 bucket\n",
    "s3BucketName = \"pdf-ocr-bucket\"\n"
   ]
  },
  {
   "cell_type": "code",
   "execution_count": 3,
   "id": "d4715abe",
   "metadata": {},
   "outputs": [],
   "source": [
    "# Upload the documents to the cloud\n",
    "PDFS = os.listdir(input_dir)\n",
    "\n",
    "# Call s3 as a resource\n",
    "s3 = boto3.resource(\"s3\")\n",
    "\n",
    "# for pdf in PDFS:\n",
    "#     data = open(os.path.join(input_dir, pdf), \"rb\")\n",
    "#     s3.Bucket(s3BucketName).put_object(Key = pdf, Body = data)"
   ]
  },
  {
   "cell_type": "markdown",
   "id": "fca3db19",
   "metadata": {},
   "source": [
    "#### Important Global Variables"
   ]
  },
  {
   "cell_type": "code",
   "execution_count": 4,
   "id": "5b7d2be3",
   "metadata": {},
   "outputs": [],
   "source": [
    "# Column names for output\n",
    "cols = ['Batch_UID', 'Exam_UID', 'InstrumentModel', 'InstrumentSerialNumber', \n",
    "        'InstrumentSoftwareVersion', 'PatientID', 'GIVEN_NAME', 'LAST_NAME', \n",
    "        'StudyCode', 'aeDOB', 'Eye', 'SeriesDateTime',\n",
    "        'aeExamDate', 'aeExamTime', 'ExamDuration', 'aeIsShileyClinicHFAExam', 'aeDIGSTestType',\n",
    "        'TestType', 'TestPattern', 'TestStrategy', 'StimulusColor', 'StimulusSize', \n",
    "        'BackgroundColor', 'FixationTarget', 'FixationMonitor', 'TrialRXSphereRaw', \n",
    "        'TrialRXCylRaw', 'TrialRXAxisRaw', 'PupilDiameter', 'VAType', 'BlindSpotX','BlindSpotY',\n",
    "        'BlindSpotStimulusSize', 'FalseNegativePercent', 'FalsePositivePercent',\n",
    "        'aeFixationCheckPercentage', 'FovealResult', 'FovealThreshold', 'ClinicalNotes',\n",
    "        'SFStatus', 'SF', 'SFProb', 'SWAPFTGeneralHeight', 'GHTType', 'MD', 'MDProb', 'PSD',\n",
    "        'PSDProb', 'CPSD', 'CPSDProb', 'FovealThresholdProb', 'aePDPCen4LT5Count', \n",
    "        'aeHasHighRawThreshold', 'FLAGAssessment', 'FLAGSeverity', 'AGISScore', 'AGISNas', \n",
    "        'AGISInf', 'AGISSup', 'GHSupThrSum', 'GHSupThrMean', 'GHSupThrStd', 'GHSupTDSum',\n",
    "        'GHSupTDMean', 'GHSupTDStd', 'GHSupPDSum', 'GHSupPDMean', 'GHSupPDStd', 'GHSupPDCntLT50p',\n",
    "        'GHSupPDCntLT10p', 'GHSupNasThrSum', 'GHSupNasThrMean', 'GHSupNasThrStd', 'GHSupNasTDSum',\n",
    "        'GHSupNasTDMean', 'GHSupNasTDStd', 'GHSupNasPDSum', 'GHSupNasPDMean', 'GHSupNasPDStd',\n",
    "        'GHSupNasPDCntLT50p', 'GHSupNasPDCntLT10p', 'GHInfThrSum', 'GHInfThrMean', 'GHInfThrStd',\n",
    "        'GHInfTDSum', 'GHInfTDMean', 'GHInfTDStd', 'GHInfPDSum', 'GHInfPDMean', 'GHInfPDStd',\n",
    "        'GHInfPDCntLT50p', 'GHInfPDCntLT10p', 'GHInfNasThrSum', 'GHInfNasThrMean', 'GHInfNasThrStd',\n",
    "        'GHInfNasTDSum', 'GHInfNasTDMean', 'GHInfNasTDStd', 'GHInfNasPDSum', 'GHInfNasPDMean',\n",
    "        'GHInfNasPDStd', 'GHInfNasPDCntLT50p', 'GHInfNasPDCntLT10p', 'GHCentralThrSum',\n",
    "        'GHCentralThrMean', 'GHCentralThrStd', 'GHCentralTDSum', 'GHCentralTDMean', 'GHCentralTDStd',\n",
    "        'GHCentralPDSum', 'GHCentralPDMean', 'GHCentralPDStd', 'GHCentralPDCntLT50p', \n",
    "        'GHCentralPDCntLT10p', 'GHTemporalThrSum', 'GHTemporalThrMean', 'GHTemporalThrStd',\n",
    "        'GHTemporalTDSum', 'GHTemporalTDMean', 'GHTemporalTDStd', 'GHTemporalPDSum', \n",
    "        'GHTemporalPDMean', 'GHTemporalPDStd', 'GHTemporalPDCntLT50p', 'GHTemporalPDCntLT10p',\n",
    "        'N9_S27_Thr', 'N3_S27_Thr', 'T3_S27_Thr', 'T9_S27_Thr', 'N15_S21_Thr', 'N9_S21_Thr',\n",
    "        'N3_S21_Thr', 'T3_S21_Thr', 'T9_S21_Thr', 'T15_S21_Thr', 'N21_S15_Thr', 'N15_S15_Thr', \n",
    "        'N9_S15_Thr', 'N3_S15_Thr', 'T3_S15_Thr', 'T9_S15_Thr', 'T15_S15_Thr', 'T21_S15_Thr',\n",
    "        'N27_S9_Thr', 'N21_S9_Thr', 'N15_S9_Thr', 'N9_S9_Thr', 'N3_S9_Thr', 'T3_S9_Thr', 'T9_S9_Thr',\n",
    "        'T15_S9_Thr', 'T21_S9_Thr', 'T27_S9_Thr', 'N27_S3_Thr', 'N21_S3_Thr', 'N15_S3_Thr', \n",
    "        'N9_S3_Thr',  'N3_S3_Thr', 'T3_S3_Thr', 'T9_S3_Thr', 'T21_S3_Thr', 'T27_S3_Thr', \n",
    "        'N27_I3_Thr', 'N21_I3_Thr', 'N15_I3_Thr', 'N9_I3_Thr', 'N3_I3_Thr', 'T3_I3_Thr', 'T9_I3_Thr', \n",
    "        'T21_I3_Thr', 'T27_I3_Thr', 'N27_I9_Thr', 'N21_I9_Thr', 'N15_I9_Thr', 'N9_I9_Thr', \n",
    "        'N3_I9_Thr', 'T3_I9_Thr', 'T9_I9_Thr', 'T15_I9_Thr', 'T21_I9_Thr', 'T27_I9_Thr', \n",
    "        'N21_I15_Thr', 'N15_I15_Thr', 'N9_I15_Thr', 'N3_I15_Thr', 'T3_I15_Thr', 'T9_I15_Thr', \n",
    "        'T15_I15_Thr', 'T21_I15_Thr', 'N15_I21_Thr', 'N9_I21_Thr', 'N3_I21_Thr', 'T3_I21_Thr',\n",
    "        'T9_I21_Thr', 'T15_I21_Thr', 'N9_I27_Thr', 'N3_I27_Thr', 'T3_I27_Thr', 'T9_I27_Thr', \n",
    "        'N9_S27_TD', 'N3_S27_TD', 'T3_S27_TD', 'T9_S27_TD', 'N15_S21_TD', 'N9_S21_TD', 'N3_S21_TD', \n",
    "        'T3_S21_TD', 'T9_S21_TD', 'T15_S21_TD', 'N21_S15_TD', 'N15_S15_TD', 'N9_S15_TD', 'N3_S15_TD',\n",
    "        'T3_S15_TD', 'T9_S15_TD', 'T15_S15_TD', 'T21_S15_TD', 'N27_S9_TD', 'N21_S9_TD', 'N15_S9_TD', \n",
    "        'N9_S9_TD', 'N3_S9_TD', 'T3_S9_TD', 'T9_S9_TD', 'T15_S9_TD', 'T21_S9_TD', 'T27_S9_TD', \n",
    "        'N27_S3_TD', 'N21_S3_TD', 'N15_S3_TD', 'N9_S3_TD', 'N3_S3_TD', 'T3_S3_TD', 'T9_S3_TD', \n",
    "        'T21_S3_TD', 'T27_S3_TD', 'N27_I3_TD', 'N21_I3_TD', 'N15_I3_TD', 'N9_I3_TD', 'N3_I3_TD',\n",
    "        'T3_I3_TD', 'T9_I3_TD', 'T21_I3_TD', 'T27_I3_TD', 'N27_I9_TD', 'N21_I9_TD', 'N15_I9_TD', \n",
    "        'N9_I9_TD', 'N3_I9_TD', 'T3_I9_TD', 'T9_I9_TD', 'T15_I9_TD', 'T21_I9_TD', 'T27_I9_TD',\n",
    "        'N21_I15_TD', 'N15_I15_TD', 'N9_I15_TD', 'N3_I15_TD', 'T3_I15_TD', 'T9_I15_TD', 'T15_I15_TD',\n",
    "        'T21_I15_TD', 'N15_I21_TD', 'N9_I21_TD', 'N3_I21_TD', 'T3_I21_TD', 'T9_I21_TD', 'T15_I21_TD',\n",
    "        'N9_I27_TD', 'N3_I27_TD', 'T3_I27_TD', 'T9_I27_TD', 'N9_S27_PD', 'N3_S27_PD', 'T3_S27_PD', \n",
    "        'T9_S27_PD', 'N15_S21_PD', 'N9_S21_PD', 'N3_S21_PD', 'T3_S21_PD', 'T9_S21_PD', 'T15_S21_PD',\n",
    "        'N21_S15_PD', 'N15_S15_PD', 'N9_S15_PD', 'N3_S15_PD', 'T3_S15_PD', 'T9_S15_PD', 'T15_S15_PD',\n",
    "        'T21_S15_PD', 'N27_S9_PD', 'N21_S9_PD', 'N15_S9_PD', 'N9_S9_PD', 'N3_S9_PD', 'T3_S9_PD', \n",
    "        'T9_S9_PD', 'T15_S9_PD', 'T21_S9_PD', 'T27_S9_PD', 'N27_S3_PD', 'N21_S3_PD', 'N15_S3_PD', \n",
    "        'N9_S3_PD', 'N3_S3_PD', 'T3_S3_PD', 'T9_S3_PD', 'T21_S3_PD', 'T27_S3_PD', 'N27_I3_PD',\n",
    "        'N21_I3_PD', 'N15_I3_PD', 'N9_I3_PD', 'N3_I3_PD', 'T3_I3_PD', 'T9_I3_PD', 'T21_I3_PD', \n",
    "        'T27_I3_PD', 'N27_I9_PD', 'N21_I9_PD', 'N15_I9_PD', 'N9_I9_PD', 'N3_I9_PD', 'T3_I9_PD', \n",
    "        'T9_I9_PD', 'T15_I9_PD', 'T21_I9_PD', 'T27_I9_PD', 'N21_I15_PD', 'N15_I15_PD', 'N9_I15_PD',\n",
    "        'N3_I15_PD', 'T3_I15_PD', 'T9_I15_PD', 'T15_I15_PD', 'T21_I15_PD', 'N15_I21_PD', 'N9_I21_PD', \n",
    "        'N3_I21_PD', 'T3_I21_PD', 'T9_I21_PD', 'T15_I21_PD', 'N9_I27_PD', 'N3_I27_PD', 'T3_I27_PD',\n",
    "        'T9_I27_PD', 'N9_S27_TDP', 'N3_S27_TDP', 'T3_S27_TDP', 'T9_S27_TDP', 'N15_S21_TDP', 'N9_S21_TDP', \n",
    "        'N3_S21_TDP', 'T3_S21_TDP', 'T9_S21_TDP', 'T15_S21_TDP', 'N21_S15_TDP', 'N15_S15_TDP', \n",
    "        'N9_S15_TDP', 'N3_S15_TDP', 'T3_S15_TDP', 'T9_S15_TDP', 'T15_S15_TDP', 'T21_S15_TDP', \n",
    "        'N27_S9_TDP', 'N21_S9_TDP', 'N15_S9_TDP', 'N9_S9_TDP', 'N3_S9_TDP', 'T3_S9_TDP', 'T9_S9_TDP', \n",
    "        'T15_S9_TDP', 'T21_S9_TDP', 'T27_S9_TDP', 'N27_S3_TDP', 'N21_S3_TDP', 'N15_S3_TDP', 'N9_S3_TDP', \n",
    "        'N3_S3_TDP', 'T3_S3_TDP', 'T9_S3_TDP', 'T21_S3_TDP', 'T27_S3_TDP', 'N27_I3_TDP', 'N21_I3_TDP',\n",
    "        'N15_I3_TDP', 'N9_I3_TDP', 'N3_I3_TDP', 'T3_I3_TDP', 'T9_I3_TDP', 'T21_I3_TDP', 'T27_I3_TDP',\n",
    "        'N27_I9_TDP', 'N21_I9_TDP', 'N15_I9_TDP', 'N9_I9_TDP', 'N3_I9_TDP', 'T3_I9_TDP', 'T9_I9_TDP',\n",
    "        'T15_I9_TDP', 'T21_I9_TDP', 'T27_I9_TDP', 'N21_I15_TDP', 'N15_I15_TDP', 'N9_I15_TDP', \n",
    "        'N3_I15_TDP', 'T3_I15_TDP', 'T9_I15_TDP', 'T15_I15_TDP', 'T21_I15_TDP', 'N15_I21_TDP', \n",
    "        'N9_I21_TDP', 'N3_I21_TDP', 'T3_I21_TDP', 'T9_I21_TDP', 'T15_I21_TDP', 'N9_I27_TDP', \n",
    "        'N3_I27_TDP', 'T3_I27_TDP', 'T9_I27_TDP', 'N9_S27_PDP', 'N3_S27_PDP', 'T3_S27_PDP', \n",
    "        'T9_S27_PDP', 'N15_S21_PDP', 'N9_S21_PDP', 'N3_S21_PDP', 'T3_S21_PDP', 'T9_S21_PDP', \n",
    "        'T15_S21_PDP', 'N21_S15_PDP', 'N15_S15_PDP', 'N9_S15_PDP', 'N3_S15_PDP', 'T3_S15_PDP', \n",
    "        'T9_S15_PDP', 'T15_S15_PDP', 'T21_S15_PDP', 'N27_S9_PDP', 'N21_S9_PDP', 'N15_S9_PDP',\n",
    "        'N9_S9_PDP', 'N3_S9_PDP', 'T3_S9_PDP', 'T9_S9_PDP', 'T15_S9_PDP', 'T21_S9_PDP', 'T27_S9_PDP', \n",
    "        'N27_S3_PDP', 'N21_S3_PDP', 'N15_S3_PDP', 'N9_S3_PDP', 'N3_S3_PDP', 'T3_S3_PDP', \n",
    "        'T9_S3_PDP', 'T21_S3_PDP', 'T27_S3_PDP', 'N27_I3_PDP', 'N21_I3_PDP', 'N15_I3_PDP',\n",
    "        'N9_I3_PDP', 'N3_I3_PDP', 'T3_I3_PDP', 'T9_I3_PDP', 'T21_I3_PDP', 'T27_I3_PDP',\n",
    "        'N27_I9_PDP', 'N21_I9_PDP', 'N15_I9_PDP', 'N9_I9_PDP', 'N3_I9_PDP', 'T3_I9_PDP', \n",
    "        'T9_I9_PDP', 'T15_I9_PDP', 'T21_I9_PDP', 'T27_I9_PDP', 'N21_I15_PDP', 'N15_I15_PDP',\n",
    "        'N9_I15_PDP', 'N3_I15_PDP', 'T3_I15_PDP', 'T9_I15_PDP', 'T15_I15_PDP', 'T21_I15_PDP',\n",
    "        'N15_I21_PDP', 'N9_I21_PDP', 'N3_I21_PDP', 'T3_I21_PDP', 'T9_I21_PDP', 'T15_I21_PDP',\n",
    "        'N9_I27_PDP', 'N3_I27_PDP', 'T3_I27_PDP', 'T9_I27_PDP', 'cAutoQCStatus', 'QCFieldUsable',\n",
    "        'QCReliable', 'cQCFN33Status', 'cQCAHSManualStatus', 'cQCRimArtifactStatus',\n",
    "        'cQCInattentionStatus', 'cQCLearningEffectStatus', 'cQCFatigueStatus', 'cQCFixationStatus', \n",
    "        'cQCOtherDefectStatus', 'cQCUnreliableByTechnicianStatus', 'cQCUnaccPupilSizeStatus','VFI',\n",
    "        'kPrevUsable_ExamTimeStamp', 'aeExamTimeStamp', 'kNextUsable_ExamTimeStamp', \n",
    "        'kPrevUsable_FLAGAssessment', 'kNextUsable_FLAGAssessment', \n",
    "        'cFLAG_Confirmation_Status_ByTestType', 'cIsABNORMAL_FLAG_Confirmed_ByTestType',\n",
    "        'cIsNORMAL_FLAG_Confirmed_ByTestType', 'cCnt_TDP_LessThan5', 'cCnt_PDP_LessThan5',\n",
    "        'cCnt_TDP_LessThan2', 'cCnt_PDP_LessThan2', 'cCnt_TDP_LessThan1', 'cCnt_PDP_LessThan1',\n",
    "        'cCnt_TDP_LessThan05', 'cCnt_PDP_LessThan05', 'kUsedADAGESBL09','sFLAGAbn3ConsecConfirmed',\n",
    "        'sFLAGAbn3ConsecUnconfirmed', 'sFLAGNorm3ConsecConfirmed', 'sFLAGNorm3ConsecUnconfirmed',\n",
    "        'LowPatientReliabilityStatus']"
   ]
  },
  {
   "cell_type": "markdown",
   "id": "1fa0349b",
   "metadata": {},
   "source": [
    "#### Important Global Variables"
   ]
  },
  {
   "cell_type": "code",
   "execution_count": 5,
   "id": "7716d970",
   "metadata": {},
   "outputs": [],
   "source": [
    "# Initialize the s3 bucket\n",
    "bucket = s3.Bucket(s3BucketName)\n",
    "\n",
    "# Loop through all the files in the bucket and append them to a list\n",
    "files = []\n",
    "for i in bucket.objects.all():\n",
    "    files.append(i.key)"
   ]
  },
  {
   "cell_type": "code",
   "execution_count": 6,
   "id": "91f46a79",
   "metadata": {},
   "outputs": [],
   "source": [
    "# Subset the files, just for testing\n",
    "files = files[:5]"
   ]
  },
  {
   "cell_type": "markdown",
   "id": "304d06d7",
   "metadata": {},
   "source": [
    "#### Key Value Function\n",
    "\n",
    "This function converts the raw text of the PDF to key value pairs which can have information extracted easily. This must be called before the raw text function."
   ]
  },
  {
   "cell_type": "code",
   "execution_count": 6,
   "id": "aea7d554",
   "metadata": {},
   "outputs": [],
   "source": [
    "def key_value_output(text):\n",
    "    \n",
    "    # Convert text into key value pairs\n",
    "    temp = {}\n",
    "    for i in range(len(text)):\n",
    "    \n",
    "        val = text[i].split(\":\")\n",
    "    \n",
    "        if len(val) == 2:\n",
    "            if val[1] == \"\":\n",
    "                temp[val[0].strip()] = text[i+1].strip().strip(\",\")\n",
    "            else:\n",
    "                temp[val[0].strip()] = val[1].strip().strip(\",\")\n",
    "                \n",
    "    # Save the keys in a Series\n",
    "    KEYS = pd.Series(temp.keys())\n",
    "                \n",
    "    # Initialize pandas DataFrame\n",
    "    output = pd.DataFrame(columns=cols, index=[0])\n",
    "    \n",
    "    # Important dates\n",
    "    DOB = pd.to_datetime(temp[\"Date of Birth\"])\n",
    "    VIS = pd.to_datetime(temp[\"Date\"])\n",
    "\n",
    "    # Patient Info\n",
    "    output[\"PatientID\"]  = temp[\"Patient ID\"]\n",
    "    output[\"GIVEN_NAME\"] = temp[\"Patient\"]\n",
    "    output[\"LAST_NAME\"]  = temp[\"Patient\"]\n",
    "    output[\"aeDOB\"] = str(DOB.month) + \"/\" + str(DOB.day) + \"/\" + str(DOB.year) #[-2:]\n",
    "    \n",
    "    # Visit Info\n",
    "    output[\"aeExamTime\"] = temp[\"Time\"].split()[0]\n",
    "    output[\"aeExamDate\"] = str(VIS.month) + \"/\" + str(VIS.day) + \"/\" + str(VIS.year) #[-2:]\n",
    "    output[\"TestStrategy\"] = temp[\"Strategy\"]\n",
    "    output[\"ExamDuration\"] = temp[\"Test Duration\"]\n",
    "    \n",
    "    # Eye Info\n",
    "    output[\"VAType\"] = temp[\"Visual Acuity\"]\n",
    "    \n",
    "    MDKEY  = KEYS[KEYS.str.contains(\"MD\").idxmax()]\n",
    "    PSDKEY = KEYS[KEYS.str.contains(\"PSD\").idxmax()]\n",
    "    \n",
    "    # MD and MDProb\n",
    "    if temp[MDKEY].endswith(\"dB\"):\n",
    "        output[\"MD\"]     = temp[MDKEY].strip(\" dB\")\n",
    "        output[\"MDProb\"] = \"Not Significant\"\n",
    "        \n",
    "    elif temp[MDKEY].endswith(\"%\"):\n",
    "        output[\"MD\"]     = temp[MDKEY].split(\" dB \")[0]\n",
    "        output[\"MDProb\"] = temp[MDKEY].split(\" dB \")[1]\n",
    "\n",
    "    \n",
    "    # PSD and PSDProb\n",
    "    if temp[PSDKEY].endswith(\"dB\"):\n",
    "        output[\"PSD\"]     = temp[PSDKEY].strip(\" dB\")\n",
    "        output[\"PSDProb\"] = \"Not Significant\"\n",
    "        \n",
    "    elif temp[PSDKEY].endswith(\"%\"):\n",
    "        output[\"PSD\"]     = temp[PSDKEY].split(\" dB \")[0]\n",
    "        output[\"PSDProb\"] = temp[PSDKEY].split(\" dB \")[1]\n",
    "\n",
    "    \n",
    "    # Other Info\n",
    "    output[\"FixationTarget\"]  = temp[\"Fixation Target\"]\n",
    "    output[\"FixationMonitor\"] = temp[\"Fixation Monitor\"]\n",
    "    output[\"StimulusSize\"]    = temp[\"Stimulus\"].split(\", \")[0]\n",
    "    output[\"StimulusColor\"]   = temp[\"Stimulus\"].split()[1]\n",
    "    output[\"BackgroundColor\"] = output[\"StimulusColor\"] + \" (\" + temp[\"Background\"] + \")\"\n",
    "    output[\"PupilDiameter\"]   = temp[\"Pupil Diameter\"].split()[0]\n",
    "    output[\"FovealThreshold\"] = temp[\"Fovea\"].strip(\" dB\")\n",
    "    output[\"GHTType\"]         = temp[\"GHT\"]\n",
    "    \n",
    "    try:\n",
    "        output[\"VFI\"] = temp[\"VFI\"].strip(\"%\")\n",
    "    except:\n",
    "        pass\n",
    "    \n",
    "    #output[\"FIXATION_CHECK_ERRORS\"]  = temp[\"Fixation Losses\"].split(\"/\")[0]\n",
    "    #output[\"FIXATION_CHECK_TRIALS\"]  = temp[\"Fixation Losses\"].split(\"/\")[1]\n",
    "    err, trials = temp[\"Fixation Losses\"].split()[0].split(\"/\")\n",
    "    output[\"aeFixationCheckPercentage\"] = round(float(err) / float(trials) * 100, 2)\n",
    "    output[\"FalsePositivePercent\"] = temp[\"False POS Errors\"].strip(\"%\")\n",
    "    output[\"FalseNegativePercent\"] = temp[\"False NEG Errors\"].strip(\"%\")\n",
    "    #output[\"INSTRUMENT_MANUFACTURER\"] = \"Carl Zeiss Meditec\"\n",
    "    \n",
    "    return output"
   ]
  },
  {
   "cell_type": "markdown",
   "id": "54ec3c65",
   "metadata": {},
   "source": [
    "#### Raw Text Function\n",
    "\n",
    "This function takes an output DataFrame provided by the key value function and a list of text from the pdf. This function analyzes the raw text to extract values from the pdf."
   ]
  },
  {
   "cell_type": "code",
   "execution_count": 16,
   "id": "6562f1e1",
   "metadata": {},
   "outputs": [],
   "source": [
    "def raw_text_output(output, text):\n",
    "    \n",
    "    # Find the thr points as well as other important information\n",
    "    count  = 0\n",
    "    scount = 0\n",
    "    THR   = []\n",
    "    POINTS = []\n",
    "    \n",
    "    for i, x in enumerate(text):\n",
    "        \n",
    "        point2 = re.search(\"^(\\-\\d{1,2}|\\d{1,2}|\\-\\d{1,2}\\s[^A-z]+|\\d{1,2}\\s[^A-z]+|<0)$\", x)\n",
    "        negp   = re.search(\"^(\\-\\d{1,2}\\-[^A-z]+|\\d{1,2}\\-[^A-z]+)$\", x)\n",
    "\n",
    "        point  = re.search(\"^\\d{2}$\", x)\n",
    "        small  = re.search(\"^\\d$\", x)\n",
    "        #point2 = re.search(\"^(\\d{1,2}|\\-<0)$\", x)\n",
    "        \n",
    "        \n",
    "        eye    = re.search(\"(^OD$|^OS$)\", x)\n",
    "        test   = re.search(\"\\s\\d{2}-\\d\\s\", x)\n",
    "        inst   = re.search(\"HFA\", x)\n",
    "        vers   = re.search(\"Version\", x)\n",
    "        rx     = re.search(\"Rx:\\s.*\", x)\n",
    "        field  = re.search(\"°\", x)\n",
    "        status = re.search(\"\\*{3}(.*)\\*{3}\", x)\n",
    "        \n",
    "        if point2:\n",
    "            value  = point2.group(0).split()\n",
    "            POINTS = POINTS + value\n",
    "            \n",
    "        if negp:\n",
    "            fbool = negp.group(0).startswith(\"-\")\n",
    "            nums  = negp.group(0).strip(\"-\").split(\"-\")\n",
    "            \n",
    "            if fbool:\n",
    "                value = list(map(lambda x: \"-\" + x, nums))\n",
    "            else:\n",
    "                value = nums[0] + list(map(lambda x: \"-\" + x, nums[1:]))\n",
    "                \n",
    "            POINTS = POINTS + value\n",
    "        \n",
    "        if point:\n",
    "            count += 1\n",
    "            THR.append(x)\n",
    "            \n",
    "        if small:\n",
    "            scount += 1\n",
    "                \n",
    "            if scount == 1 and count < 40:\n",
    "                THR.append(x)\n",
    "\n",
    "        if eye:\n",
    "            Eye = eye.group(0)\n",
    "\n",
    "        if test:\n",
    "            words = x.split()\n",
    "\n",
    "            TestPattern = \" \".join([words[0], words[1]])\n",
    "            TestType    = words[2]\n",
    "\n",
    "        if inst:\n",
    "            inst_info = x.split()\n",
    "\n",
    "            InstrumentName = \" \".join([inst_info[0], inst_info[1]])\n",
    "            InstrumentModel = inst_info[-1].split(\"-\")[0]\n",
    "            InstrumentSerialNumber = inst_info[-1].split(\"-\")[1][:4]\n",
    "            InstrumentSoftwareVersion = inst_info[-1].split(\"/\")[-1]\n",
    "\n",
    "        if vers:\n",
    "            Version = x.split()[1]  \n",
    "\n",
    "        if rx:\n",
    "            rxval = rx.group(0)\n",
    "            TrialRXSphereRaw = re.findall(\"(\\d+\\.\\d+)\\s?DS\", rxval)[0]\n",
    "            TrialRXCylRaw    = re.findall(\"(\\d+\\.\\d+)\\s?DC\", rxval)[0]\n",
    "            TrialRXAxisRaw   = re.findall(\"X(.*)\", rxval)[0]\n",
    "\n",
    "        if field:\n",
    "            FieldSize = x.strip()\n",
    "            \n",
    "        if status:\n",
    "            LowPatientReliabilityStatus = status.strip(\"***\").strip()\n",
    "\n",
    "    # Remove age\n",
    "    #THR = THR[1:]\n",
    "    POINTS = POINTS[1:]\n",
    "    print(POINTS)\n",
    "    print(len(POINTS))\n",
    "    \n",
    "    if len(POINTS) == 158:\n",
    "        THR  = POINTS[:54]\n",
    "        TDPD = POINTS[54:]\n",
    "         \n",
    "    # Find the TD and PD Points\n",
    "    TDPD = []\n",
    "    for i, x in enumerate(text):\n",
    "\n",
    "        point = re.search(\"(^\\-\\d|^\\d|^\\-\\d\\s[^A-z]+|\\d\\s[^A-z]+)$\", x)\n",
    "\n",
    "        if point:\n",
    "            value = point.group(0).split()\n",
    "            TDPD  = TDPD + value\n",
    "           \n",
    "    # Remove small threshold point\n",
    "    if len(TDPD) != 104:\n",
    "        TDPD = TDPD[1:]\n",
    "\n",
    "    # Split into TD and PD\n",
    "    TD = TDPD[:4] + TDPD[8:14] + TDPD[20:28] + TDPD[36:44] + TDPD[52:60] + TDPD[68:76] + TDPD[84:90] + TDPD[96:100]\n",
    "    PD = TDPD[4:8] + TDPD[14:20] + TDPD[28:36] + TDPD[44:52] + TDPD[60:68] + TDPD[76:84] + TDPD[90:96] + TDPD[100:]\n",
    "    \n",
    "    # Order the plot points\n",
    "    if Eye == \"OS\":\n",
    "        ORDER = ['T9_S21', 'T3_S21', 'N3_S21', 'N9_S21', 'T15_S15',\n",
    "                 'T9_S15', 'T3_S15', 'N3_S15', 'N9_S15', 'N15_S15',\n",
    "                 'T21_S9', 'T15_S9', 'T9_S9', 'T3_S9', 'N3_S9','N9_S9',\n",
    "                 'N15_S9', 'N21_S9', 'T21_S3', 'T15_S3', 'T9_S3','T3_S3',\n",
    "                 'N3_S3', 'N9_S3', 'N15_S3', 'N21_S3', 'N27_S3', \n",
    "                 'T21_I3', 'T15_I3', 'T9_I3', 'T3_I3', 'N3_I3', 'N9_I3',\n",
    "                 'N15_I3', 'N21_I3', 'N27_I3', 'T21_I9', 'T15_I9',\n",
    "                 'T9_I9', 'T3_I9', 'N3_I9', 'N9_I9', 'N15_I9', 'N21_I9',\n",
    "                 'T15_I15', 'T9_I15', 'T3_I15', 'N3_I15', 'N9_I15',\n",
    "                 'N15_I15', 'T9_I21', 'T3_I21', 'N3_I21', 'N9_I21'\n",
    "                ]\n",
    "        blind_spots = [19, 28]\n",
    "        \n",
    "    else:\n",
    "        ORDER = ['N9_S21', 'N3_S21', 'T3_S21', 'T9_S21', 'N15_S15',\n",
    "                 'N9_S15', 'N3_S15', 'T3_S15', 'T9_S15', 'T15_S15',\n",
    "                 'N21_S9', 'N15_S9', 'N9_S9', 'N3_S9', 'T3_S9',\n",
    "                 'T9_S9', 'T15_S9', 'T21_S9', 'N27_S3', 'N21_S3',\n",
    "                 'N15_S3', 'N9_S3', 'N3_S3', 'T3_S3', 'T9_S3',\n",
    "                 'T15_S3', 'T21_S3', 'N27_I3', 'N21_I3', 'N15_I3',\n",
    "                 'N9_I3', 'N3_I3', 'T3_I3', 'T9_I3', 'T15_I3',\n",
    "                 'T21_I3', 'N21_I9', 'N15_I9', 'N9_I9', 'N3_I9',\n",
    "                 'T3_I9', 'T9_I9', 'T15_I9', 'T21_I9', 'N15_I15',\n",
    "                 'N9_I15', 'N3_I15', 'T3_I15', 'T9_I15', 'T15_I15',\n",
    "                 'N9_I21', 'N3_I21', 'T3_I21', 'T9_I21']\n",
    "        blind_spots = [25, 34]\n",
    "        \n",
    "    if len(THR) == 54:\n",
    "        del THR[blind_spots[1]]\n",
    "        del THR[blind_spots[0]]\n",
    "    elif len(THR) == 53:\n",
    "        del THR[blind_spots[0]]\n",
    "        \n",
    "    ORDER.remove(\"T15_S3\")\n",
    "    ORDER.remove(\"T15_I3\")\n",
    "\n",
    "    thr_order = [x + \"_Thr\" for x in ORDER]\n",
    "    td_order  = [x + \"_TD\" for x in ORDER]\n",
    "    pd_order  = [x + \"_PD\" for x in ORDER]\n",
    "\n",
    "    # Populate the data frame with thr points\n",
    "    output[\"Eye\"] = Eye\n",
    "    \n",
    "    try:\n",
    "        output[thr_order] = THR\n",
    "    except:\n",
    "        pass\n",
    "\n",
    "    # Populate the data frame with td points\n",
    "    output[td_order] = TD\n",
    "\n",
    "    # Populate the data frame with pd points\n",
    "    output[pd_order] = PD\n",
    "    \n",
    "    # Populate the data frame with other acquired info\n",
    "    output[\"TestType\"]       = TestType\n",
    "    output[\"TestPattern\"]    = TestPattern\n",
    "    output[\"TrialRXSphereRaw\"] = TrialRXSphereRaw\n",
    "    output[\"TrialRXCylRaw\"]    = TrialRXCylRaw\n",
    "    output[\"TrialRXAxisRaw\"]   = TrialRXAxisRaw\n",
    "    #output[\"FIELD_SIZE\"]      = FIELD_SIZE\n",
    "\n",
    "    #output[\"INSTRUMENT_NAME\"] = INSTRUMENT_NAME\n",
    "    output[\"InstrumentModel\"] = InstrumentModel\n",
    "    output[\"InstrumentSerialNumber\"] = InstrumentSerialNumber\n",
    "    output[\"InstrumentSoftwareVersion\"] = InstrumentSoftwareVersion\n",
    "    \n",
    "    try:\n",
    "        output[\"LowPatientReliabilityStatus\"] = LowPatientReliabilityStatus\n",
    "    except:\n",
    "        pass\n",
    "        \n",
    "\n",
    "    return output, TestPattern"
   ]
  },
  {
   "cell_type": "code",
   "execution_count": null,
   "id": "07397512",
   "metadata": {},
   "outputs": [],
   "source": [
    "def probability_points(output, text):\n",
    "    \n",
    "    \n",
    "    return ..."
   ]
  },
  {
   "cell_type": "markdown",
   "id": "bc02be69",
   "metadata": {},
   "source": [
    "#### Loop through files and create outputs\n",
    "\n",
    "This cell uses the two functions from above to create an output. It starts and checks the progress of the OCR job, then formats the output"
   ]
  },
  {
   "cell_type": "code",
   "execution_count": 18,
   "id": "cae9413a",
   "metadata": {},
   "outputs": [],
   "source": [
    "files = [\"SD4000_OD_20090825_SFA_24-2_1145.pdf\", \n",
    "         \"SD4207_19460428_20210915_1040_OD_SFA_CENTRAL_24_2_THRESHOLD_TEST_OD_1.2.276.0.75.2.5.80.25.3.211013101917075.345048637379.pdf\",\n",
    "         \"SD4372_19481031_20150715_1312_OD_SFA_CENTRAL_24_2_THRESHOLD_TEST_OD_1.2.276.0.75.2.5.80.25.3.200820152201566.345048637379.pdf\"\n",
    "        ]\n",
    "\n"
   ]
  },
  {
   "cell_type": "code",
   "execution_count": 17,
   "id": "dea18670",
   "metadata": {},
   "outputs": [
    {
     "name": "stdout",
     "output_type": "stream",
     "text": [
      "['29', '31', '27', '30', '32', '31', '31', '30', '31', '31', '29', '32', '32', '32', '32', '32', '30', '30', '27', '29', '31', '32', '32', '32', '32', '29', '33', '31', '32', '32', '33', '33', '33', '33', '10', '31', '32', '32', '33', '34', '33', '33', '32', '31', '32', '31', '32', '33', '32', '32', '33', '32', '32', '27', '2', '4', '0', '4', '-1', '1', '-2', '1', '3', '2', '2', '1', '2', '3', '0', '-1', '-1', '-2', '-1', '0', '1', '2', '1', '0', '1', '1', '1', '1', '-2', '-1', '-2', '-3', '-2', '-2', '-2', '-2', '0', '0', '0', '0', '0', '0', '1', '3', '-3', '-3', '-3', '-3', '-3', '-3', '-2', '0', '4', '2', '0', '1', '1', '0', '1', '1', '1', '-1', '-3', '-2', '-2', '-3', '-2', '-2', '3', '1', '1', '2', '1', '1', '1', '1', '0', '-2', '-2', '-1', '-2', '-2', '-2', '-2', '2', '1', '1', '2', '1', '2', '-1', '-2', '-2', '-1', '-2', '-1', '4', '2', '2', '-2', '1', '-1', '-1', '-5']\n",
      "158\n",
      "['<0', '1', '17', '16', '<0', '<0', '1', '3', '22', '21', '<0', '7', '<0', '<0', '0', '<0', '20', '27', '0', '<0', '<0', '<0', '<0', '11', '0', '20', '27', '16', '21', '24', '26', '5', '30', '28', '<0', '28', '24', '27', '28', '28', '25', '24', '28', '26', '26', '29', '28', '29', '30', '28', '28', '28', '30', '28', '-28', '-25', '-9', '9', '-27', '-24', '-8', '-9', '-29', '-30', '-27', '-25', '-5', '-5', '-29', '-30', '-27', '-25', '-5', '-5', '-29', '-22', '-32', '-32', '-30', '-31', '-8', '-1', '-29', '-22', '-31', '-32', '-29', '-31 ', '-8 0', '-25', '-30', '-32', '-33', '-33', '-20', '-30', '-1', '-24', '-30', '-32', '-32', '-33', '-19', '-30', '0', '-2', '-3', '-1', '-1', '-2', '0', '-4', '-3', '-3', '-3', '-6', '-6', '-2', '-3', '-3', '-2', '-2', '-2', '-5', '-6', '-1', '-3', '-2', '-1', '-2', '-1', '0', '-1', '-2', '0', '-1', '0', '1', '-1', '0', '-1', '1', '0', '0', '0', '1', '0']\n",
      "147\n"
     ]
    },
    {
     "ename": "ValueError",
     "evalue": "Columns must be same length as key",
     "output_type": "error",
     "traceback": [
      "\u001b[0;31m---------------------------------------------------------------------------\u001b[0m",
      "\u001b[0;31mValueError\u001b[0m                                Traceback (most recent call last)",
      "\u001b[0;32m/var/folders/7m/n2zn61593k18rvyz907d2skc0000gn/T/ipykernel_1302/2226886039.py\u001b[0m in \u001b[0;36m<module>\u001b[0;34m\u001b[0m\n\u001b[1;32m     36\u001b[0m \u001b[0;34m\u001b[0m\u001b[0m\n\u001b[1;32m     37\u001b[0m     \u001b[0;31m# Second round of outputs\u001b[0m\u001b[0;34m\u001b[0m\u001b[0;34m\u001b[0m\u001b[0m\n\u001b[0;32m---> 38\u001b[0;31m     \u001b[0moutput\u001b[0m\u001b[0;34m,\u001b[0m \u001b[0mtest_type\u001b[0m \u001b[0;34m=\u001b[0m \u001b[0mraw_text_output\u001b[0m\u001b[0;34m(\u001b[0m\u001b[0moutput\u001b[0m\u001b[0;34m,\u001b[0m \u001b[0mtext\u001b[0m\u001b[0;34m)\u001b[0m\u001b[0;34m\u001b[0m\u001b[0;34m\u001b[0m\u001b[0m\n\u001b[0m\u001b[1;32m     39\u001b[0m \u001b[0;34m\u001b[0m\u001b[0m\n\u001b[1;32m     40\u001b[0m     \u001b[0;32mif\u001b[0m \u001b[0mtest_type\u001b[0m \u001b[0;34m==\u001b[0m \u001b[0;34m\"Central 24-2\"\u001b[0m\u001b[0;34m:\u001b[0m\u001b[0;34m\u001b[0m\u001b[0;34m\u001b[0m\u001b[0m\n",
      "\u001b[0;32m/var/folders/7m/n2zn61593k18rvyz907d2skc0000gn/T/ipykernel_1302/548808784.py\u001b[0m in \u001b[0;36mraw_text_output\u001b[0;34m(output, text)\u001b[0m\n\u001b[1;32m    161\u001b[0m \u001b[0;34m\u001b[0m\u001b[0m\n\u001b[1;32m    162\u001b[0m     \u001b[0;31m# Populate the data frame with td points\u001b[0m\u001b[0;34m\u001b[0m\u001b[0;34m\u001b[0m\u001b[0m\n\u001b[0;32m--> 163\u001b[0;31m     \u001b[0moutput\u001b[0m\u001b[0;34m[\u001b[0m\u001b[0mtd_order\u001b[0m\u001b[0;34m]\u001b[0m \u001b[0;34m=\u001b[0m \u001b[0mTD\u001b[0m\u001b[0;34m\u001b[0m\u001b[0;34m\u001b[0m\u001b[0m\n\u001b[0m\u001b[1;32m    164\u001b[0m \u001b[0;34m\u001b[0m\u001b[0m\n\u001b[1;32m    165\u001b[0m     \u001b[0;31m# Populate the data frame with pd points\u001b[0m\u001b[0;34m\u001b[0m\u001b[0;34m\u001b[0m\u001b[0m\n",
      "\u001b[0;32m~/opt/anaconda3/lib/python3.9/site-packages/pandas/core/frame.py\u001b[0m in \u001b[0;36m__setitem__\u001b[0;34m(self, key, value)\u001b[0m\n\u001b[1;32m   3598\u001b[0m             \u001b[0mself\u001b[0m\u001b[0;34m.\u001b[0m\u001b[0m_setitem_frame\u001b[0m\u001b[0;34m(\u001b[0m\u001b[0mkey\u001b[0m\u001b[0;34m,\u001b[0m \u001b[0mvalue\u001b[0m\u001b[0;34m)\u001b[0m\u001b[0;34m\u001b[0m\u001b[0;34m\u001b[0m\u001b[0m\n\u001b[1;32m   3599\u001b[0m         \u001b[0;32melif\u001b[0m \u001b[0misinstance\u001b[0m\u001b[0;34m(\u001b[0m\u001b[0mkey\u001b[0m\u001b[0;34m,\u001b[0m \u001b[0;34m(\u001b[0m\u001b[0mSeries\u001b[0m\u001b[0;34m,\u001b[0m \u001b[0mnp\u001b[0m\u001b[0;34m.\u001b[0m\u001b[0mndarray\u001b[0m\u001b[0;34m,\u001b[0m \u001b[0mlist\u001b[0m\u001b[0;34m,\u001b[0m \u001b[0mIndex\u001b[0m\u001b[0;34m)\u001b[0m\u001b[0;34m)\u001b[0m\u001b[0;34m:\u001b[0m\u001b[0;34m\u001b[0m\u001b[0;34m\u001b[0m\u001b[0m\n\u001b[0;32m-> 3600\u001b[0;31m             \u001b[0mself\u001b[0m\u001b[0;34m.\u001b[0m\u001b[0m_setitem_array\u001b[0m\u001b[0;34m(\u001b[0m\u001b[0mkey\u001b[0m\u001b[0;34m,\u001b[0m \u001b[0mvalue\u001b[0m\u001b[0;34m)\u001b[0m\u001b[0;34m\u001b[0m\u001b[0;34m\u001b[0m\u001b[0m\n\u001b[0m\u001b[1;32m   3601\u001b[0m         \u001b[0;32melif\u001b[0m \u001b[0misinstance\u001b[0m\u001b[0;34m(\u001b[0m\u001b[0mvalue\u001b[0m\u001b[0;34m,\u001b[0m \u001b[0mDataFrame\u001b[0m\u001b[0;34m)\u001b[0m\u001b[0;34m:\u001b[0m\u001b[0;34m\u001b[0m\u001b[0;34m\u001b[0m\u001b[0m\n\u001b[1;32m   3602\u001b[0m             \u001b[0mself\u001b[0m\u001b[0;34m.\u001b[0m\u001b[0m_set_item_frame_value\u001b[0m\u001b[0;34m(\u001b[0m\u001b[0mkey\u001b[0m\u001b[0;34m,\u001b[0m \u001b[0mvalue\u001b[0m\u001b[0;34m)\u001b[0m\u001b[0;34m\u001b[0m\u001b[0;34m\u001b[0m\u001b[0m\n",
      "\u001b[0;32m~/opt/anaconda3/lib/python3.9/site-packages/pandas/core/frame.py\u001b[0m in \u001b[0;36m_setitem_array\u001b[0;34m(self, key, value)\u001b[0m\n\u001b[1;32m   3654\u001b[0m \u001b[0;34m\u001b[0m\u001b[0m\n\u001b[1;32m   3655\u001b[0m             \u001b[0;32melse\u001b[0m\u001b[0;34m:\u001b[0m\u001b[0;34m\u001b[0m\u001b[0;34m\u001b[0m\u001b[0m\n\u001b[0;32m-> 3656\u001b[0;31m                 \u001b[0mself\u001b[0m\u001b[0;34m.\u001b[0m\u001b[0m_iset_not_inplace\u001b[0m\u001b[0;34m(\u001b[0m\u001b[0mkey\u001b[0m\u001b[0;34m,\u001b[0m \u001b[0mvalue\u001b[0m\u001b[0;34m)\u001b[0m\u001b[0;34m\u001b[0m\u001b[0;34m\u001b[0m\u001b[0m\n\u001b[0m\u001b[1;32m   3657\u001b[0m \u001b[0;34m\u001b[0m\u001b[0m\n\u001b[1;32m   3658\u001b[0m     \u001b[0;32mdef\u001b[0m \u001b[0m_iset_not_inplace\u001b[0m\u001b[0;34m(\u001b[0m\u001b[0mself\u001b[0m\u001b[0;34m,\u001b[0m \u001b[0mkey\u001b[0m\u001b[0;34m,\u001b[0m \u001b[0mvalue\u001b[0m\u001b[0;34m)\u001b[0m\u001b[0;34m:\u001b[0m\u001b[0;34m\u001b[0m\u001b[0;34m\u001b[0m\u001b[0m\n",
      "\u001b[0;32m~/opt/anaconda3/lib/python3.9/site-packages/pandas/core/frame.py\u001b[0m in \u001b[0;36m_iset_not_inplace\u001b[0;34m(self, key, value)\u001b[0m\n\u001b[1;32m   3673\u001b[0m         \u001b[0;32mif\u001b[0m \u001b[0mself\u001b[0m\u001b[0;34m.\u001b[0m\u001b[0mcolumns\u001b[0m\u001b[0;34m.\u001b[0m\u001b[0mis_unique\u001b[0m\u001b[0;34m:\u001b[0m\u001b[0;34m\u001b[0m\u001b[0;34m\u001b[0m\u001b[0m\n\u001b[1;32m   3674\u001b[0m             \u001b[0;32mif\u001b[0m \u001b[0mnp\u001b[0m\u001b[0;34m.\u001b[0m\u001b[0mshape\u001b[0m\u001b[0;34m(\u001b[0m\u001b[0mvalue\u001b[0m\u001b[0;34m)\u001b[0m\u001b[0;34m[\u001b[0m\u001b[0;34m-\u001b[0m\u001b[0;36m1\u001b[0m\u001b[0;34m]\u001b[0m \u001b[0;34m!=\u001b[0m \u001b[0mlen\u001b[0m\u001b[0;34m(\u001b[0m\u001b[0mkey\u001b[0m\u001b[0;34m)\u001b[0m\u001b[0;34m:\u001b[0m\u001b[0;34m\u001b[0m\u001b[0;34m\u001b[0m\u001b[0m\n\u001b[0;32m-> 3675\u001b[0;31m                 \u001b[0;32mraise\u001b[0m \u001b[0mValueError\u001b[0m\u001b[0;34m(\u001b[0m\u001b[0;34m\"Columns must be same length as key\"\u001b[0m\u001b[0;34m)\u001b[0m\u001b[0;34m\u001b[0m\u001b[0;34m\u001b[0m\u001b[0m\n\u001b[0m\u001b[1;32m   3676\u001b[0m \u001b[0;34m\u001b[0m\u001b[0m\n\u001b[1;32m   3677\u001b[0m             \u001b[0;32mfor\u001b[0m \u001b[0mi\u001b[0m\u001b[0;34m,\u001b[0m \u001b[0mcol\u001b[0m \u001b[0;32min\u001b[0m \u001b[0menumerate\u001b[0m\u001b[0;34m(\u001b[0m\u001b[0mkey\u001b[0m\u001b[0;34m)\u001b[0m\u001b[0;34m:\u001b[0m\u001b[0;34m\u001b[0m\u001b[0;34m\u001b[0m\u001b[0m\n",
      "\u001b[0;31mValueError\u001b[0m: Columns must be same length as key"
     ]
    }
   ],
   "source": [
    "# Start up the client\n",
    "client = boto3.client('textract', 'us-east-1')\n",
    "\n",
    "CSVS_242 = []\n",
    "for i, x in enumerate(files):\n",
    "    \n",
    "    response = client.start_document_text_detection(\n",
    "        DocumentLocation={\n",
    "            'S3Object': {\n",
    "                'Bucket': s3BucketName,\n",
    "                'Name': x\n",
    "            }\n",
    "        })\n",
    "    \n",
    "    jobId = response[\"JobId\"]\n",
    "    \n",
    "    # Extract text\n",
    "    textractmodule = client.get_document_text_detection(JobId=jobId)\n",
    "    \n",
    "    # Check if the OCR is complete\n",
    "    status = textractmodule[\"JobStatus\"]\n",
    "    \n",
    "    while(status == \"IN_PROGRESS\"):\n",
    "        time.sleep(5)\n",
    "        textractmodule = client.get_document_text_detection(JobId=jobId)\n",
    "        status = textractmodule[\"JobStatus\"]\n",
    "        \n",
    "    # Extract text from the module\n",
    "    text = []\n",
    "    for block in textractmodule[\"Blocks\"]:\n",
    "        if block[\"BlockType\"] == \"LINE\":\n",
    "            text.append(block[\"Text\"])\n",
    "            \n",
    "    # First round of outputs\n",
    "    output = key_value_output(text)\n",
    "    \n",
    "    # Second round of outputs\n",
    "    output, test_type = raw_text_output(output, text)\n",
    "    \n",
    "    if test_type == \"Central 24-2\":\n",
    "        CSVS_242.append(output)\n",
    "    \n",
    "    # Save the output as a csv\n",
    "#     filename = x.strip(\".pdf\") + \".csv\"\n",
    "#     output.to_csv(os.path.join(output_dir, filename), index=False)"
   ]
  },
  {
   "cell_type": "code",
   "execution_count": 15,
   "id": "c05678d2",
   "metadata": {},
   "outputs": [],
   "source": [
    "re.search(\"^(<.*|\\d{1,2} .*|\\-.*)\", \"dB\")"
   ]
  },
  {
   "cell_type": "code",
   "execution_count": 94,
   "id": "f1b0ab75",
   "metadata": {},
   "outputs": [],
   "source": [
    "# Save the batch of files as a csv\n",
    "DF = pd.concat(CSVS_242)\n",
    "DF.to_csv(os.path.join(output_dir, \"24_2.csv\"), index = False)"
   ]
  },
  {
   "cell_type": "markdown",
   "id": "76012c1c",
   "metadata": {},
   "source": [
    "#### Screenshots for points"
   ]
  },
  {
   "cell_type": "code",
   "execution_count": 21,
   "id": "5a8be9c4",
   "metadata": {},
   "outputs": [
    {
     "ename": "PDFPageCountError",
     "evalue": "Unable to get page count.\nI/O Error: Couldn't open file 'example.pdf': No such file or directory.\n",
     "output_type": "error",
     "traceback": [
      "\u001b[0;31m---------------------------------------------------------------------------\u001b[0m",
      "\u001b[0;31mValueError\u001b[0m                                Traceback (most recent call last)",
      "\u001b[0;32m~/opt/anaconda3/lib/python3.9/site-packages/pdf2image/pdf2image.py\u001b[0m in \u001b[0;36mpdfinfo_from_path\u001b[0;34m(pdf_path, userpw, poppler_path, rawdates, timeout)\u001b[0m\n\u001b[1;32m    478\u001b[0m         \u001b[0;32mif\u001b[0m \u001b[0;34m\"Pages\"\u001b[0m \u001b[0;32mnot\u001b[0m \u001b[0;32min\u001b[0m \u001b[0md\u001b[0m\u001b[0;34m:\u001b[0m\u001b[0;34m\u001b[0m\u001b[0;34m\u001b[0m\u001b[0m\n\u001b[0;32m--> 479\u001b[0;31m             \u001b[0;32mraise\u001b[0m \u001b[0mValueError\u001b[0m\u001b[0;34m\u001b[0m\u001b[0;34m\u001b[0m\u001b[0m\n\u001b[0m\u001b[1;32m    480\u001b[0m \u001b[0;34m\u001b[0m\u001b[0m\n",
      "\u001b[0;31mValueError\u001b[0m: ",
      "\nDuring handling of the above exception, another exception occurred:\n",
      "\u001b[0;31mPDFPageCountError\u001b[0m                         Traceback (most recent call last)",
      "\u001b[0;32m/var/folders/7m/n2zn61593k18rvyz907d2skc0000gn/T/ipykernel_1302/550150115.py\u001b[0m in \u001b[0;36m<module>\u001b[0;34m\u001b[0m\n\u001b[1;32m      2\u001b[0m \u001b[0;34m\u001b[0m\u001b[0m\n\u001b[1;32m      3\u001b[0m \u001b[0;31m# Store Pdf with convert_from_path function\u001b[0m\u001b[0;34m\u001b[0m\u001b[0;34m\u001b[0m\u001b[0m\n\u001b[0;32m----> 4\u001b[0;31m \u001b[0mimages\u001b[0m \u001b[0;34m=\u001b[0m \u001b[0mconvert_from_path\u001b[0m\u001b[0;34m(\u001b[0m\u001b[0;34m'example.pdf'\u001b[0m\u001b[0;34m)\u001b[0m\u001b[0;34m\u001b[0m\u001b[0;34m\u001b[0m\u001b[0m\n\u001b[0m\u001b[1;32m      5\u001b[0m \u001b[0;34m\u001b[0m\u001b[0m\n\u001b[1;32m      6\u001b[0m \u001b[0;32mfor\u001b[0m \u001b[0mi\u001b[0m \u001b[0;32min\u001b[0m \u001b[0mrange\u001b[0m\u001b[0;34m(\u001b[0m\u001b[0mlen\u001b[0m\u001b[0;34m(\u001b[0m\u001b[0mimages\u001b[0m\u001b[0;34m)\u001b[0m\u001b[0;34m)\u001b[0m\u001b[0;34m:\u001b[0m\u001b[0;34m\u001b[0m\u001b[0;34m\u001b[0m\u001b[0m\n",
      "\u001b[0;32m~/opt/anaconda3/lib/python3.9/site-packages/pdf2image/pdf2image.py\u001b[0m in \u001b[0;36mconvert_from_path\u001b[0;34m(pdf_path, dpi, output_folder, first_page, last_page, fmt, jpegopt, thread_count, userpw, use_cropbox, strict, transparent, single_file, output_file, poppler_path, grayscale, size, paths_only, use_pdftocairo, timeout, hide_annotations)\u001b[0m\n\u001b[1;32m     96\u001b[0m         \u001b[0mpoppler_path\u001b[0m \u001b[0;34m=\u001b[0m \u001b[0mpoppler_path\u001b[0m\u001b[0;34m.\u001b[0m\u001b[0mas_posix\u001b[0m\u001b[0;34m(\u001b[0m\u001b[0;34m)\u001b[0m\u001b[0;34m\u001b[0m\u001b[0;34m\u001b[0m\u001b[0m\n\u001b[1;32m     97\u001b[0m \u001b[0;34m\u001b[0m\u001b[0m\n\u001b[0;32m---> 98\u001b[0;31m     \u001b[0mpage_count\u001b[0m \u001b[0;34m=\u001b[0m \u001b[0mpdfinfo_from_path\u001b[0m\u001b[0;34m(\u001b[0m\u001b[0mpdf_path\u001b[0m\u001b[0;34m,\u001b[0m \u001b[0muserpw\u001b[0m\u001b[0;34m,\u001b[0m \u001b[0mpoppler_path\u001b[0m\u001b[0;34m=\u001b[0m\u001b[0mpoppler_path\u001b[0m\u001b[0;34m)\u001b[0m\u001b[0;34m[\u001b[0m\u001b[0;34m\"Pages\"\u001b[0m\u001b[0;34m]\u001b[0m\u001b[0;34m\u001b[0m\u001b[0;34m\u001b[0m\u001b[0m\n\u001b[0m\u001b[1;32m     99\u001b[0m \u001b[0;34m\u001b[0m\u001b[0m\n\u001b[1;32m    100\u001b[0m     \u001b[0;31m# We start by getting the output format, the buffer processing function and if we need pdftocairo\u001b[0m\u001b[0;34m\u001b[0m\u001b[0;34m\u001b[0m\u001b[0m\n",
      "\u001b[0;32m~/opt/anaconda3/lib/python3.9/site-packages/pdf2image/pdf2image.py\u001b[0m in \u001b[0;36mpdfinfo_from_path\u001b[0;34m(pdf_path, userpw, poppler_path, rawdates, timeout)\u001b[0m\n\u001b[1;32m    486\u001b[0m         )\n\u001b[1;32m    487\u001b[0m     \u001b[0;32mexcept\u001b[0m \u001b[0mValueError\u001b[0m\u001b[0;34m:\u001b[0m\u001b[0;34m\u001b[0m\u001b[0;34m\u001b[0m\u001b[0m\n\u001b[0;32m--> 488\u001b[0;31m         raise PDFPageCountError(\n\u001b[0m\u001b[1;32m    489\u001b[0m             \u001b[0;34m\"Unable to get page count.\\n%s\"\u001b[0m \u001b[0;34m%\u001b[0m \u001b[0merr\u001b[0m\u001b[0;34m.\u001b[0m\u001b[0mdecode\u001b[0m\u001b[0;34m(\u001b[0m\u001b[0;34m\"utf8\"\u001b[0m\u001b[0;34m,\u001b[0m \u001b[0;34m\"ignore\"\u001b[0m\u001b[0;34m)\u001b[0m\u001b[0;34m\u001b[0m\u001b[0;34m\u001b[0m\u001b[0m\n\u001b[1;32m    490\u001b[0m         )\n",
      "\u001b[0;31mPDFPageCountError\u001b[0m: Unable to get page count.\nI/O Error: Couldn't open file 'example.pdf': No such file or directory.\n"
     ]
    }
   ],
   "source": [
    "from pdf2image import convert_from_path\n",
    " \n",
    "# Store Pdf with convert_from_path function\n",
    "images = convert_from_path('example.pdf')\n",
    " \n",
    "for i in range(len(images)):\n",
    "   \n",
    "      # Save pages as images in the pdf\n",
    "    images[i].save('page'+ str(i) +'.jpg', 'JPEG')"
   ]
  },
  {
   "cell_type": "markdown",
   "id": "a1e102ce",
   "metadata": {},
   "source": [
    "#### Individual Testing"
   ]
  },
  {
   "cell_type": "code",
   "execution_count": 19,
   "id": "bca6c007",
   "metadata": {},
   "outputs": [],
   "source": [
    "#files = [\"SD4207_19460428_20210915_1040_OD_SFA_CENTRAL_24_2_THRESHOLD_TEST_OD_1.2.276.0.75.2.5.80.25.3.211013101917075.345048637379.pdf\"]\n",
    "\n",
    "files = files[2]"
   ]
  },
  {
   "cell_type": "code",
   "execution_count": 16,
   "id": "cc97a512",
   "metadata": {},
   "outputs": [],
   "source": [
    "# Start up the client\n",
    "client = boto3.client('textract', 'us-east-1')\n",
    "\n",
    "response = client.start_document_text_detection(\n",
    "    DocumentLocation={\n",
    "        'S3Object': {\n",
    "            'Bucket': s3BucketName,\n",
    "            'Name': files[0]\n",
    "        }\n",
    "    })\n",
    "    \n",
    "jobId = response[\"JobId\"]\n",
    "    \n",
    "# Extract text\n",
    "textractmodule = client.get_document_text_detection(JobId=jobId)\n",
    "    \n",
    "# Check if the OCR is complete\n",
    "status = textractmodule[\"JobStatus\"]\n",
    "    \n",
    "while(status == \"IN_PROGRESS\"):\n",
    "    time.sleep(5)\n",
    "    textractmodule = client.get_document_text_detection(JobId=jobId)\n",
    "    status = textractmodule[\"JobStatus\"]\n",
    "        \n",
    "# Extract text from the module\n",
    "text = []\n",
    "for block in textractmodule[\"Blocks\"]:\n",
    "    if block[\"BlockType\"] == \"LINE\":\n",
    "        text.append(block[\"Text\"])"
   ]
  },
  {
   "cell_type": "code",
   "execution_count": 35,
   "id": "c6ef2d75",
   "metadata": {},
   "outputs": [
    {
     "data": {
      "text/plain": [
       "'SD4207_19460428_20210915_1040_OD_SFA_CENTRAL_24_2_THRESHOLD_TEST_OD_1.2.276.0.75.2.5.80.25.3.211013101917075.345048637379.pdf'"
      ]
     },
     "execution_count": 35,
     "metadata": {},
     "output_type": "execute_result"
    }
   ],
   "source": [
    "files[1]"
   ]
  },
  {
   "cell_type": "code",
   "execution_count": 41,
   "id": "b2c1ee7d",
   "metadata": {},
   "outputs": [],
   "source": [
    "import PIL.Image as Image"
   ]
  },
  {
   "cell_type": "code",
   "execution_count": 22,
   "id": "62b4bc94",
   "metadata": {},
   "outputs": [],
   "source": [
    "img = np.array(convert_from_path(os.path.join(\"/Users/nicolebrye/Desktop\", files))[0])"
   ]
  },
  {
   "cell_type": "code",
   "execution_count": 37,
   "id": "18038621",
   "metadata": {},
   "outputs": [],
   "source": [
    "img2 = img[1130:1390, 190:480]"
   ]
  },
  {
   "cell_type": "code",
   "execution_count": 50,
   "id": "e81e677d",
   "metadata": {},
   "outputs": [],
   "source": [
    "img3 = img[1130:1390, 700:990]"
   ]
  },
  {
   "cell_type": "code",
   "execution_count": 52,
   "id": "f53da43d",
   "metadata": {},
   "outputs": [],
   "source": [
    "im = Image.fromarray(img3)\n",
    "im.save(\"/Users/nicolebrye/Desktop/testimg2.jpg\")"
   ]
  },
  {
   "cell_type": "code",
   "execution_count": 51,
   "id": "20273b96",
   "metadata": {},
   "outputs": [
    {
     "data": {
      "image/png": "[encoded data removed]",
      "text/plain": [
       "<Figure size 432x288 with 1 Axes>"
      ]
     },
     "metadata": {
      "needs_background": "light"
     },
     "output_type": "display_data"
    }
   ],
   "source": [
    "import matplotlib.pyplot as plt\n",
    "import matplotlib.image as mpimg\n",
    "#img = mpimg.imread('your_image.png')\n",
    "imgplot = plt.imshow(img3)\n",
    "plt.show()"
   ]
  },
  {
   "cell_type": "code",
   "execution_count": 53,
   "id": "4e0555a4",
   "metadata": {},
   "outputs": [
    {
     "data": {
      "text/plain": [
       "s3.Object(bucket_name='pdf-ocr-images', key='testimg2.jpg')"
      ]
     },
     "execution_count": 53,
     "metadata": {},
     "output_type": "execute_result"
    }
   ],
   "source": [
    "imdata = open(os.path.join(\"/Users/nicolebrye/Desktop\", \"testimg2.jpg\"), \"rb\")\n",
    "s3.Bucket(\"pdf-ocr-images\").put_object(Key = \"testimg2.jpg\", Body = imdata)"
   ]
  },
  {
   "cell_type": "code",
   "execution_count": 54,
   "id": "181175ec",
   "metadata": {},
   "outputs": [
    {
     "data": {
      "text/plain": [
       "_io.BufferedReader"
      ]
     },
     "execution_count": 54,
     "metadata": {},
     "output_type": "execute_result"
    }
   ],
   "source": [
    "type(imdata)"
   ]
  },
  {
   "cell_type": "code",
   "execution_count": 55,
   "id": "30610b53",
   "metadata": {},
   "outputs": [],
   "source": [
    "imresponse = client.start_document_text_detection(\n",
    "    DocumentLocation={\n",
    "        'S3Object': {\n",
    "            'Bucket': \"pdf-ocr-images\",\n",
    "            'Name': \"testimg2.jpg\"\n",
    "        }\n",
    "    })"
   ]
  },
  {
   "cell_type": "code",
   "execution_count": 56,
   "id": "d9f2bb9a",
   "metadata": {},
   "outputs": [],
   "source": [
    "jobIdImg = imresponse[\"JobId\"]\n",
    "    \n",
    "# Extract text\n",
    "textractmodule = client.get_document_text_detection(JobId=jobIdImg)"
   ]
  },
  {
   "cell_type": "code",
   "execution_count": 57,
   "id": "18d908c4",
   "metadata": {},
   "outputs": [],
   "source": [
    "# Check if the OCR is complete\n",
    "status = textractmodule[\"JobStatus\"]\n",
    "    \n",
    "while(status == \"IN_PROGRESS\"):\n",
    "    time.sleep(5)\n",
    "    textractmodule = client.get_document_text_detection(JobId=jobIdImg)\n",
    "    status = textractmodule[\"JobStatus\"]"
   ]
  },
  {
   "cell_type": "code",
   "execution_count": 58,
   "id": "47cbef2b",
   "metadata": {},
   "outputs": [],
   "source": [
    "text = []\n",
    "for block in textractmodule[\"Blocks\"]:\n",
    "    if block[\"BlockType\"] == \"LINE\":\n",
    "        text.append(block[\"Text\"])"
   ]
  },
  {
   "cell_type": "code",
   "execution_count": 59,
   "id": "f3a759d2",
   "metadata": {},
   "outputs": [
    {
     "data": {
      "text/plain": [
       "['-5 -2',\n",
       " '-2 -2',\n",
       " '-7 -7 -4',\n",
       " '-4 -2 - 1',\n",
       " '-6 -6 -4 -4',\n",
       " '0 0 1 2',\n",
       " '-6 -6 -5 -5 -33 -',\n",
       " '-1',\n",
       " '-2',\n",
       " '3',\n",
       " '-1 - - -2 -2 -2 -2',\n",
       " '0',\n",
       " '1',\n",
       " '-3',\n",
       " '-2-2-1-1',\n",
       " '-1-3 -2 -2',\n",
       " '-3 -2-2',\n",
       " '-2 -3 - 1',\n",
       " '-2 -2',\n",
       " '-4 0']"
      ]
     },
     "execution_count": 59,
     "metadata": {},
     "output_type": "execute_result"
    }
   ],
   "source": [
    "text"
   ]
  },
  {
   "cell_type": "code",
   "execution_count": 38,
   "id": "df778dec",
   "metadata": {},
   "outputs": [],
   "source": [
    "test = []\n",
    "for i in text:\n",
    "    a = re.findall(\"(\\d+|\\-\\d+)\", i)\n",
    "    test = test + a"
   ]
  },
  {
   "cell_type": "code",
   "execution_count": 40,
   "id": "eb8b9b96",
   "metadata": {},
   "outputs": [
    {
     "data": {
      "text/plain": [
       "52"
      ]
     },
     "execution_count": 40,
     "metadata": {},
     "output_type": "execute_result"
    }
   ],
   "source": [
    "len(test)"
   ]
  },
  {
   "cell_type": "code",
   "execution_count": 14,
   "id": "5b95b7ca",
   "metadata": {},
   "outputs": [],
   "source": [
    "# Start up the client\n",
    "client = boto3.client('textract', 'us-east-1')\n",
    "\n",
    "obj = s3.Object(s3BucketName, files[0])\n",
    "fs  = obj.get()['Body'].read()"
   ]
  },
  {
   "cell_type": "code",
   "execution_count": 31,
   "id": "76255c05",
   "metadata": {},
   "outputs": [
    {
     "data": {
      "text/plain": [
       "bytearray"
      ]
     },
     "execution_count": 31,
     "metadata": {},
     "output_type": "execute_result"
    }
   ],
   "source": [
    "type(bytearray(fs))"
   ]
  },
  {
   "cell_type": "code",
   "execution_count": 25,
   "id": "3c59940a",
   "metadata": {},
   "outputs": [],
   "source": [
    "import os\n",
    "import io\n",
    "import PIL.Image as Image"
   ]
  },
  {
   "cell_type": "code",
   "execution_count": 33,
   "id": "65614b9b",
   "metadata": {},
   "outputs": [
    {
     "ename": "ValueError",
     "evalue": "embedded null byte",
     "output_type": "error",
     "traceback": [
      "\u001b[0;31m---------------------------------------------------------------------------\u001b[0m",
      "\u001b[0;31mValueError\u001b[0m                                Traceback (most recent call last)",
      "\u001b[0;32m/var/folders/7m/n2zn61593k18rvyz907d2skc0000gn/T/ipykernel_971/927355021.py\u001b[0m in \u001b[0;36m<module>\u001b[0;34m\u001b[0m\n\u001b[0;32m----> 1\u001b[0;31m \u001b[0mimage\u001b[0m \u001b[0;34m=\u001b[0m \u001b[0mImage\u001b[0m\u001b[0;34m.\u001b[0m\u001b[0mopen\u001b[0m\u001b[0;34m(\u001b[0m\u001b[0mfs\u001b[0m\u001b[0;34m)\u001b[0m\u001b[0;34m\u001b[0m\u001b[0;34m\u001b[0m\u001b[0m\n\u001b[0m",
      "\u001b[0;32m~/opt/anaconda3/lib/python3.9/site-packages/PIL/Image.py\u001b[0m in \u001b[0;36mopen\u001b[0;34m(fp, mode, formats)\u001b[0m\n\u001b[1;32m   2973\u001b[0m \u001b[0;34m\u001b[0m\u001b[0m\n\u001b[1;32m   2974\u001b[0m     \u001b[0;32mif\u001b[0m \u001b[0mfilename\u001b[0m\u001b[0;34m:\u001b[0m\u001b[0;34m\u001b[0m\u001b[0;34m\u001b[0m\u001b[0m\n\u001b[0;32m-> 2975\u001b[0;31m         \u001b[0mfp\u001b[0m \u001b[0;34m=\u001b[0m \u001b[0mbuiltins\u001b[0m\u001b[0;34m.\u001b[0m\u001b[0mopen\u001b[0m\u001b[0;34m(\u001b[0m\u001b[0mfilename\u001b[0m\u001b[0;34m,\u001b[0m \u001b[0;34m\"rb\"\u001b[0m\u001b[0;34m)\u001b[0m\u001b[0;34m\u001b[0m\u001b[0;34m\u001b[0m\u001b[0m\n\u001b[0m\u001b[1;32m   2976\u001b[0m         \u001b[0mexclusive_fp\u001b[0m \u001b[0;34m=\u001b[0m \u001b[0;32mTrue\u001b[0m\u001b[0;34m\u001b[0m\u001b[0;34m\u001b[0m\u001b[0m\n\u001b[1;32m   2977\u001b[0m \u001b[0;34m\u001b[0m\u001b[0m\n",
      "\u001b[0;31mValueError\u001b[0m: embedded null byte"
     ]
    }
   ],
   "source": [
    "image = Image.open(io)"
   ]
  },
  {
   "cell_type": "code",
   "execution_count": 20,
   "id": "65d0232c",
   "metadata": {},
   "outputs": [
    {
     "ename": "PDFPageCountError",
     "evalue": "Unable to get page count.\nI/O Error: Couldn't open file 'pdf_file': No such file or directory.\n",
     "output_type": "error",
     "traceback": [
      "\u001b[0;31m---------------------------------------------------------------------------\u001b[0m",
      "\u001b[0;31mValueError\u001b[0m                                Traceback (most recent call last)",
      "\u001b[0;32m~/opt/anaconda3/lib/python3.9/site-packages/pdf2image/pdf2image.py\u001b[0m in \u001b[0;36mpdfinfo_from_path\u001b[0;34m(pdf_path, userpw, poppler_path, rawdates, timeout)\u001b[0m\n\u001b[1;32m    478\u001b[0m         \u001b[0;32mif\u001b[0m \u001b[0;34m\"Pages\"\u001b[0m \u001b[0;32mnot\u001b[0m \u001b[0;32min\u001b[0m \u001b[0md\u001b[0m\u001b[0;34m:\u001b[0m\u001b[0;34m\u001b[0m\u001b[0;34m\u001b[0m\u001b[0m\n\u001b[0;32m--> 479\u001b[0;31m             \u001b[0;32mraise\u001b[0m \u001b[0mValueError\u001b[0m\u001b[0;34m\u001b[0m\u001b[0;34m\u001b[0m\u001b[0m\n\u001b[0m\u001b[1;32m    480\u001b[0m \u001b[0;34m\u001b[0m\u001b[0m\n",
      "\u001b[0;31mValueError\u001b[0m: ",
      "\nDuring handling of the above exception, another exception occurred:\n",
      "\u001b[0;31mPDFPageCountError\u001b[0m                         Traceback (most recent call last)",
      "\u001b[0;32m/var/folders/7m/n2zn61593k18rvyz907d2skc0000gn/T/ipykernel_971/390447032.py\u001b[0m in \u001b[0;36m<module>\u001b[0;34m\u001b[0m\n\u001b[0;32m----> 1\u001b[0;31m \u001b[0mpages\u001b[0m \u001b[0;34m=\u001b[0m \u001b[0mconvert_from_path\u001b[0m\u001b[0;34m(\u001b[0m\u001b[0;34m'pdf_file'\u001b[0m\u001b[0;34m,\u001b[0m \u001b[0;36m500\u001b[0m\u001b[0;34m)\u001b[0m\u001b[0;34m\u001b[0m\u001b[0;34m\u001b[0m\u001b[0m\n\u001b[0m\u001b[1;32m      2\u001b[0m \u001b[0mpages\u001b[0m\u001b[0;34m\u001b[0m\u001b[0;34m\u001b[0m\u001b[0m\n",
      "\u001b[0;32m~/opt/anaconda3/lib/python3.9/site-packages/pdf2image/pdf2image.py\u001b[0m in \u001b[0;36mconvert_from_path\u001b[0;34m(pdf_path, dpi, output_folder, first_page, last_page, fmt, jpegopt, thread_count, userpw, use_cropbox, strict, transparent, single_file, output_file, poppler_path, grayscale, size, paths_only, use_pdftocairo, timeout, hide_annotations)\u001b[0m\n\u001b[1;32m     96\u001b[0m         \u001b[0mpoppler_path\u001b[0m \u001b[0;34m=\u001b[0m \u001b[0mpoppler_path\u001b[0m\u001b[0;34m.\u001b[0m\u001b[0mas_posix\u001b[0m\u001b[0;34m(\u001b[0m\u001b[0;34m)\u001b[0m\u001b[0;34m\u001b[0m\u001b[0;34m\u001b[0m\u001b[0m\n\u001b[1;32m     97\u001b[0m \u001b[0;34m\u001b[0m\u001b[0m\n\u001b[0;32m---> 98\u001b[0;31m     \u001b[0mpage_count\u001b[0m \u001b[0;34m=\u001b[0m \u001b[0mpdfinfo_from_path\u001b[0m\u001b[0;34m(\u001b[0m\u001b[0mpdf_path\u001b[0m\u001b[0;34m,\u001b[0m \u001b[0muserpw\u001b[0m\u001b[0;34m,\u001b[0m \u001b[0mpoppler_path\u001b[0m\u001b[0;34m=\u001b[0m\u001b[0mpoppler_path\u001b[0m\u001b[0;34m)\u001b[0m\u001b[0;34m[\u001b[0m\u001b[0;34m\"Pages\"\u001b[0m\u001b[0;34m]\u001b[0m\u001b[0;34m\u001b[0m\u001b[0;34m\u001b[0m\u001b[0m\n\u001b[0m\u001b[1;32m     99\u001b[0m \u001b[0;34m\u001b[0m\u001b[0m\n\u001b[1;32m    100\u001b[0m     \u001b[0;31m# We start by getting the output format, the buffer processing function and if we need pdftocairo\u001b[0m\u001b[0;34m\u001b[0m\u001b[0;34m\u001b[0m\u001b[0m\n",
      "\u001b[0;32m~/opt/anaconda3/lib/python3.9/site-packages/pdf2image/pdf2image.py\u001b[0m in \u001b[0;36mpdfinfo_from_path\u001b[0;34m(pdf_path, userpw, poppler_path, rawdates, timeout)\u001b[0m\n\u001b[1;32m    486\u001b[0m         )\n\u001b[1;32m    487\u001b[0m     \u001b[0;32mexcept\u001b[0m \u001b[0mValueError\u001b[0m\u001b[0;34m:\u001b[0m\u001b[0;34m\u001b[0m\u001b[0;34m\u001b[0m\u001b[0m\n\u001b[0;32m--> 488\u001b[0;31m         raise PDFPageCountError(\n\u001b[0m\u001b[1;32m    489\u001b[0m             \u001b[0;34m\"Unable to get page count.\\n%s\"\u001b[0m \u001b[0;34m%\u001b[0m \u001b[0merr\u001b[0m\u001b[0;34m.\u001b[0m\u001b[0mdecode\u001b[0m\u001b[0;34m(\u001b[0m\u001b[0;34m\"utf8\"\u001b[0m\u001b[0;34m,\u001b[0m \u001b[0;34m\"ignore\"\u001b[0m\u001b[0;34m)\u001b[0m\u001b[0;34m\u001b[0m\u001b[0;34m\u001b[0m\u001b[0m\n\u001b[1;32m    490\u001b[0m         )\n",
      "\u001b[0;31mPDFPageCountError\u001b[0m: Unable to get page count.\nI/O Error: Couldn't open file 'pdf_file': No such file or directory.\n"
     ]
    }
   ],
   "source": [
    "pages = convert_from_path('pdf_file', 500)\n",
    "pages"
   ]
  },
  {
   "cell_type": "code",
   "execution_count": 63,
   "id": "6d5abf2b",
   "metadata": {},
   "outputs": [
    {
     "data": {
      "text/plain": [
       "['Patient:',\n",
       " 'SD4207,',\n",
       " 'ZEISS',\n",
       " 'Date of Birth: Apr 28, 1946',\n",
       " 'Gender: Other',\n",
       " 'Patient ID:',\n",
       " 'SD4207',\n",
       " 'UCSD Ophthalmology Research',\n",
       " 'OD',\n",
       " 'Single Field Analysis',\n",
       " 'Central 24-2 Threshold Test',\n",
       " 'Fixation Monitor:',\n",
       " 'Gaze/Blind Spot',\n",
       " 'Stimulus:',\n",
       " 'III, White',\n",
       " 'Date:',\n",
       " 'Sep 15, 2021',\n",
       " 'Fixation Target:',\n",
       " 'Central',\n",
       " 'Background:',\n",
       " '31.5 asb',\n",
       " 'Time:',\n",
       " '10:40 AM',\n",
       " 'Fixation Losses:',\n",
       " '4/17 XX',\n",
       " 'Strategy:',\n",
       " 'SITA Standard',\n",
       " 'Age:',\n",
       " '75',\n",
       " 'False POS Errors:',\n",
       " '14%',\n",
       " 'Pupil Diameter:',\n",
       " '5.3 mm',\n",
       " '*',\n",
       " 'False NEG Errors:',\n",
       " '0%',\n",
       " 'Visual Acuity:',\n",
       " '1.0',\n",
       " 'Test Duration:',\n",
       " '07:55',\n",
       " 'Rx: +2.50 DS +1.50 DC X 10',\n",
       " 'Fovea:',\n",
       " '31 dB ::',\n",
       " '<0',\n",
       " '1',\n",
       " '17',\n",
       " '16',\n",
       " '<0',\n",
       " '<0',\n",
       " '1',\n",
       " '3',\n",
       " '22',\n",
       " '21',\n",
       " '<0',\n",
       " '7',\n",
       " '<0',\n",
       " '<0',\n",
       " '0',\n",
       " '<0',\n",
       " '20',\n",
       " '27',\n",
       " '0',\n",
       " '<0',\n",
       " '<0',\n",
       " '<0',\n",
       " '<0',\n",
       " '11',\n",
       " '0',\n",
       " '20',\n",
       " '27',\n",
       " '30°',\n",
       " '-',\n",
       " 'A',\n",
       " '- 30°',\n",
       " '30°',\n",
       " '16',\n",
       " '21',\n",
       " '24',\n",
       " '26',\n",
       " '5',\n",
       " '30',\n",
       " '28',\n",
       " '<0',\n",
       " '28',\n",
       " '24',\n",
       " '27',\n",
       " '28',\n",
       " '28',\n",
       " '25',\n",
       " '24',\n",
       " '28',\n",
       " '26',\n",
       " '26',\n",
       " '29',\n",
       " '28',\n",
       " '29',\n",
       " '30',\n",
       " '28',\n",
       " '28',\n",
       " '28',\n",
       " '30 28',\n",
       " '-28-25',\n",
       " '-9 9',\n",
       " '-27-24',\n",
       " '-8 -9',\n",
       " '-29-30-27',\n",
       " '-25-5-5',\n",
       " '-29-30-27',\n",
       " '-25-5-5',\n",
       " '-29-22-32-32-30-31-8-1',\n",
       " '-29-22-31-32',\n",
       " '-29-31 -8 0',\n",
       " '-25-30-32-33-33-',\n",
       " '-20-30',\n",
       " '-1',\n",
       " '-24-30-32-32-33--',\n",
       " '-19-30',\n",
       " '0',\n",
       " '-2 -3 -1',\n",
       " '-1 -2',\n",
       " '0',\n",
       " '-4-3-3-3',\n",
       " '-6 -6 -2 -3',\n",
       " '-3 -2 -2 -2',\n",
       " '-5 -6 -1 -3',\n",
       " 'GHT:',\n",
       " 'Outside Normal Limits',\n",
       " '-2 -1 -2',\n",
       " '-1 0 -1',\n",
       " '-2 0 -1',\n",
       " '0 1 -1',\n",
       " '0 -1 1 0',\n",
       " '0 0',\n",
       " '1 0',\n",
       " 'VFI24-2: 53%',\n",
       " 'MD24-2:',\n",
       " '-13.42 dB P< 0.5%',\n",
       " 'Total Deviation',\n",
       " 'Pattern Deviation',\n",
       " 'PSD24-2:',\n",
       " '14.02 dB P < 0.5%',\n",
       " 'Low Test Reliability ***',\n",
       " '::',\n",
       " 'P< 5%',\n",
       " 'P<2%',\n",
       " 'P < 1%',\n",
       " 'P < 0.5%',\n",
       " '-',\n",
       " 'Comments',\n",
       " 'Signature',\n",
       " 'ZEISS',\n",
       " 'HFA II-i 750-8685/5.0',\n",
       " 'Version 3.5.0.0',\n",
       " 'Created: 10/13/2021 10:19:16',\n",
       " 'Page of 1']"
      ]
     },
     "execution_count": 63,
     "metadata": {},
     "output_type": "execute_result"
    }
   ],
   "source": [
    "text"
   ]
  },
  {
   "cell_type": "code",
   "execution_count": 70,
   "id": "296bf960",
   "metadata": {},
   "outputs": [
    {
     "name": "stdout",
     "output_type": "stream",
     "text": [
      "10\n"
     ]
    },
    {
     "data": {
      "text/plain": [
       "(  Batch_UID Exam_UID InstrumentModel InstrumentSerialNumber  \\\n",
       " 0       NaN      NaN             750                   8685   \n",
       " \n",
       "   InstrumentSoftwareVersion PatientID GIVEN_NAME LAST_NAME StudyCode  \\\n",
       " 0                       4.2    SD4000     SD4000    SD4000       NaN   \n",
       " \n",
       "        aeDOB  ... cCnt_TDP_LessThan1 cCnt_PDP_LessThan1 cCnt_TDP_LessThan05  \\\n",
       " 0  6/13/1951  ...                NaN                NaN                 NaN   \n",
       " \n",
       "   cCnt_PDP_LessThan05 kUsedADAGESBL09 sFLAGAbn3ConsecConfirmed  \\\n",
       " 0                 NaN             NaN                      NaN   \n",
       " \n",
       "   sFLAGAbn3ConsecUnconfirmed sFLAGNorm3ConsecConfirmed  \\\n",
       " 0                        NaN                       NaN   \n",
       " \n",
       "   sFLAGNorm3ConsecUnconfirmed LowPatientReliabilityStatus  \n",
       " 0                         NaN                         NaN  \n",
       " \n",
       " [1 rows x 531 columns],\n",
       " 'Central 24-2')"
      ]
     },
     "execution_count": 70,
     "metadata": {},
     "output_type": "execute_result"
    }
   ],
   "source": [
    "output = key_value_output(text)\n",
    "\n",
    "raw_text_output(output, text)"
   ]
  },
  {
   "cell_type": "code",
   "execution_count": 17,
   "id": "30d5ba1e",
   "metadata": {},
   "outputs": [
    {
     "name": "stdout",
     "output_type": "stream",
     "text": [
      "1.15 dB\n"
     ]
    }
   ],
   "source": [
    "for i, x in enumerate(text):\n",
    "\n",
    "    rx    = re.search(\"MD\", x)\n",
    "    \n",
    "    if rx:\n",
    "        mdidx = i+1\n",
    "        \n",
    "        if not text[mdidx].endswith(\"dB\"):\n",
    "            MD = \"Not Significant\"\n",
    "        else:\n",
    "            MD = text[mdidx].strip(\" dB\")\n",
    "        \n",
    "        print(text[mdidx])\n",
    "        #print(rx.group(0))"
   ]
  },
  {
   "cell_type": "code",
   "execution_count": 18,
   "id": "d244660e",
   "metadata": {},
   "outputs": [
    {
     "data": {
      "text/plain": [
       "'1.15'"
      ]
     },
     "execution_count": 18,
     "metadata": {},
     "output_type": "execute_result"
    }
   ],
   "source": [
    "MD"
   ]
  },
  {
   "cell_type": "code",
   "execution_count": 62,
   "id": "27cf6149",
   "metadata": {},
   "outputs": [
    {
     "data": {
      "text/plain": [
       "['Patient:',\n",
       " 'SD4002,',\n",
       " 'ZEISS',\n",
       " 'Date of Birth:',\n",
       " 'Oct 09, 1959',\n",
       " 'Gender: Other',\n",
       " 'Patient ID: SD4002',\n",
       " 'OD',\n",
       " 'Single Field Analysis',\n",
       " 'Central 24-2 Threshold Test',\n",
       " 'Fixation Monitor:',\n",
       " 'Gaze/Blind Spot',\n",
       " 'Stimulus:',\n",
       " 'III, White',\n",
       " 'Date:',\n",
       " 'Aug 04, 2010',\n",
       " 'Fixation Target:',\n",
       " 'Central',\n",
       " 'Background:',\n",
       " '31.5 asb',\n",
       " 'Time:',\n",
       " '1:00 PM',\n",
       " 'Fixation Losses:',\n",
       " '0/13',\n",
       " 'Strategy:',\n",
       " 'SITA-Standard',\n",
       " 'Age:',\n",
       " '50',\n",
       " 'False POS Errors:',\n",
       " '1%',\n",
       " 'Pupil Diameter:',\n",
       " '4.8 mm',\n",
       " '*',\n",
       " 'False NEG Errors:',\n",
       " '0%',\n",
       " 'Visual Acuity:',\n",
       " '0.8',\n",
       " 'Test Duration:',\n",
       " '03:47',\n",
       " 'Rx: +1.25DS +1.50 DC X5',\n",
       " 'Fovea:',\n",
       " '38 dB',\n",
       " '31',\n",
       " '29',\n",
       " '32',\n",
       " '30',\n",
       " '32',\n",
       " '31',\n",
       " '31',\n",
       " '32',\n",
       " '32',\n",
       " '31',\n",
       " '30',\n",
       " '32',\n",
       " '33',\n",
       " '34',\n",
       " '33',\n",
       " '32',\n",
       " '32',\n",
       " '30',\n",
       " '31',\n",
       " '32',\n",
       " '32',\n",
       " '33',\n",
       " '34',\n",
       " '33',\n",
       " '32',\n",
       " '31',\n",
       " '34',\n",
       " '30°',\n",
       " '-',\n",
       " '30°',\n",
       " '30°',\n",
       " '29',\n",
       " '30',\n",
       " '32',\n",
       " '34',\n",
       " '34',\n",
       " '34',\n",
       " '34',\n",
       " '0',\n",
       " '32',\n",
       " '31',\n",
       " '32',\n",
       " '34',\n",
       " '33',\n",
       " '34',\n",
       " '33',\n",
       " '34',\n",
       " '33',\n",
       " '33',\n",
       " '32',\n",
       " '32',\n",
       " '32',\n",
       " '31',\n",
       " '32',\n",
       " '30',\n",
       " '32',\n",
       " '32',\n",
       " '32',\n",
       " '3 2',\n",
       " '4',\n",
       " '3',\n",
       " '0 -1',\n",
       " '1',\n",
       " '0',\n",
       " '3',\n",
       " '1',\n",
       " '1',\n",
       " '2',\n",
       " '3',\n",
       " '3',\n",
       " '0 -2 -2',\n",
       " '-1',\n",
       " '0',\n",
       " '0',\n",
       " '1',\n",
       " '1',\n",
       " '2',\n",
       " '3',\n",
       " '2',\n",
       " '2',\n",
       " '2',\n",
       " '1',\n",
       " '-2 -2 -1 0',\n",
       " '-1',\n",
       " '-1',\n",
       " '-1',\n",
       " '-2',\n",
       " '4',\n",
       " '2',\n",
       " '0',\n",
       " '1',\n",
       " '1',\n",
       " '1',\n",
       " '0',\n",
       " '4',\n",
       " '1',\n",
       " '-1',\n",
       " '-3',\n",
       " '-2',\n",
       " '-2',\n",
       " '-2 -3',\n",
       " '1',\n",
       " '2',\n",
       " '0',\n",
       " '1',\n",
       " '1',\n",
       " '1',\n",
       " '1',\n",
       " '2',\n",
       " '2',\n",
       " '-1',\n",
       " '-3',\n",
       " '-2',\n",
       " '-2',\n",
       " '-2',\n",
       " '-2 -1',\n",
       " '-1',\n",
       " '2',\n",
       " '1',\n",
       " '2',\n",
       " '1',\n",
       " '2',\n",
       " '1',\n",
       " '3',\n",
       " '3',\n",
       " '-1 -2 -1 -2',\n",
       " '-1 -2 0 0',\n",
       " 'GHT:',\n",
       " 'Within Normal Limits',\n",
       " '3',\n",
       " '1',\n",
       " '0',\n",
       " '0',\n",
       " '0',\n",
       " '2',\n",
       " '0 -2 -3',\n",
       " '-3 -2 -1',\n",
       " '1',\n",
       " '2',\n",
       " '2',\n",
       " '2',\n",
       " '-2 -1 -1 -1',\n",
       " 'VFI:',\n",
       " '100%',\n",
       " 'Total Deviation',\n",
       " 'Pattern Deviation',\n",
       " 'MD:',\n",
       " '1.45 dB',\n",
       " 'PSD:',\n",
       " '0.96 dB',\n",
       " '::',\n",
       " 'P<5%',\n",
       " 'P<2%',\n",
       " 'P< 1%',\n",
       " 'P< 0.5%',\n",
       " 'Comments',\n",
       " 'Signature',\n",
       " 'ZEISS',\n",
       " 'HFA II-i 750-9790/4.2',\n",
       " 'Version 2.0.4.33',\n",
       " 'Created: 11/18/2015 10:31:40 AM',\n",
       " 'Page of 1']"
      ]
     },
     "execution_count": 62,
     "metadata": {},
     "output_type": "execute_result"
    }
   ],
   "source": [
    "text"
   ]
  },
  {
   "cell_type": "code",
   "execution_count": 58,
   "id": "6f88ccc8",
   "metadata": {},
   "outputs": [
    {
     "data": {
      "text/plain": [
       "'2.00'"
      ]
     },
     "execution_count": 58,
     "metadata": {},
     "output_type": "execute_result"
    }
   ],
   "source": [
    "re.findall(\"(\\d+\\.\\d+)\\s?DS\", rxval)[0]"
   ]
  },
  {
   "cell_type": "code",
   "execution_count": 68,
   "id": "6439bd5f",
   "metadata": {},
   "outputs": [],
   "source": [
    "a = np.array([1, 2, 3, 4])"
   ]
  },
  {
   "cell_type": "code",
   "execution_count": 69,
   "id": "1809a355",
   "metadata": {},
   "outputs": [
    {
     "data": {
      "text/plain": [
       "array([2])"
      ]
     },
     "execution_count": 69,
     "metadata": {},
     "output_type": "execute_result"
    }
   ],
   "source": [
    "a[[False, True, False, False]]"
   ]
  },
  {
   "cell_type": "code",
   "execution_count": 67,
   "id": "7fca613b",
   "metadata": {},
   "outputs": [
    {
     "data": {
      "text/plain": [
       "[1, 2, 3, 1, 2, 3, 1, 2, 3]"
      ]
     },
     "execution_count": 67,
     "metadata": {},
     "output_type": "execute_result"
    }
   ],
   "source": [
    "[1, 2, 3] * 3"
   ]
  }
 ],
 "metadata": {
  "kernelspec": {
   "display_name": "Python 3 (ipykernel)",
   "language": "python",
   "name": "python3"
  },
  "language_info": {
   "codemirror_mode": {
    "name": "ipython",
    "version": 3
   },
   "file_extension": ".py",
   "mimetype": "text/x-python",
   "name": "python",
   "nbconvert_exporter": "python",
   "pygments_lexer": "ipython3",
   "version": "3.9.7"
  }
 },
 "nbformat": 4,
 "nbformat_minor": 5
}
