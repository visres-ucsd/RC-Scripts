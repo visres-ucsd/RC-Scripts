{
 "cells": [
  {
   "cell_type": "code",
   "execution_count": 1,
   "metadata": {},
   "outputs": [],
   "source": [
    "import PIL\n",
    "import pytesseract\n",
    "import numpy as np\n",
    "\n",
    "from pdf2image import convert_from_path"
   ]
  },
  {
   "cell_type": "code",
   "execution_count": 56,
   "metadata": {},
   "outputs": [],
   "source": [
    "fp = '/Users/nicolebrye/Desktop/VO00005.pdf'"
   ]
  },
  {
   "cell_type": "code",
   "execution_count": 83,
   "metadata": {},
   "outputs": [],
   "source": [
    "pages = convert_from_path(fp, 600)"
   ]
  },
  {
   "cell_type": "code",
   "execution_count": 84,
   "metadata": {},
   "outputs": [],
   "source": [
    "for page in pages:\n",
    "    page.save(\"out.png\", \"PNG\")"
   ]
  },
  {
   "cell_type": "code",
   "execution_count": 475,
   "metadata": {},
   "outputs": [],
   "source": [
    "# Top portion OCR\n",
    "crop1 = img[1:3000]\n",
    "\n",
    "# Middle portion OCR\n",
    "crop2 = img[1850:2500]\n",
    "crop3 = img[2500:2900]\n",
    "crop4 = img[2900:3300]\n",
    "\n",
    "# End portion OCR\n",
    "crop5 = img[3300:]"
   ]
  },
  {
   "cell_type": "code",
   "execution_count": 85,
   "metadata": {},
   "outputs": [],
   "source": [
    "img = np.array(PIL.Image.open(\"/Users/nicolebrye/Desktop/out.png\"))"
   ]
  },
  {
   "cell_type": "code",
   "execution_count": 125,
   "metadata": {},
   "outputs": [],
   "source": [
    "cropped = img[1:3000]"
   ]
  },
  {
   "cell_type": "code",
   "execution_count": 122,
   "metadata": {},
   "outputs": [
    {
     "data": {
      "text/plain": [
       "7019"
      ]
     },
     "execution_count": 122,
     "metadata": {},
     "output_type": "execute_result"
    }
   ],
   "source": [
    "len(img)"
   ]
  },
  {
   "cell_type": "code",
   "execution_count": 476,
   "metadata": {},
   "outputs": [],
   "source": [
    "text = pytesseract.image_to_string(crop1)"
   ]
  },
  {
   "cell_type": "code",
   "execution_count": 477,
   "metadata": {},
   "outputs": [
    {
     "data": {
      "text/plain": [
       "'Patient: VO0005,\\nDate of Birth: Sep 09, 1946\\n\\nGender: Female\\n\\nPatient ID: WOO005 UCSD Ophthalmology Research\\n\\n= OD BSelGia WAVE WAS Central 10-2 Threshold Test\\nFixation Monitor: Gaze/Blind Spot Stimulus: Ill, White Date: Jun 09, 2020\\nFixation Target: Central Background: 31.5 asb Time: 8:19AM\\nFixation Losses: 0/13 Strategy: SITA Fast Age: 73\\n\\nFalse POS Errors: 7% Pupil Diameter: 5.8 mm *\\n\\nFalse NEG Errors: 12% Visual Acuity:\\n\\nTest Duration: 04:50 Rx: +4.50 DS\\n\\nFovea: Off\\n\\n'"
      ]
     },
     "execution_count": 477,
     "metadata": {},
     "output_type": "execute_result"
    }
   ],
   "source": [
    "text"
   ]
  },
  {
   "cell_type": "code",
   "execution_count": 481,
   "metadata": {},
   "outputs": [
    {
     "data": {
      "text/plain": [
       "['Patient: VO0005,',\n",
       " 'Date of Birth: Sep 09, 1946',\n",
       " '',\n",
       " 'Gender: Female',\n",
       " '',\n",
       " 'Patient ID: WOO005 UCSD Ophthalmology Research',\n",
       " '',\n",
       " '= OD BSelGia WAVE WAS Central 10-2 Threshold Test',\n",
       " 'Fixation Monitor: Gaze/Blind Spot Stimulus: Ill, White Date: Jun 09, 2020',\n",
       " 'Fixation Target: Central Background: 31.5 asb Time: 8:19AM',\n",
       " 'Fixation Losses: 0/13 Strategy: SITA Fast Age: 73',\n",
       " '',\n",
       " 'False POS Errors: 7% Pupil Diameter: 5.8 mm *',\n",
       " '',\n",
       " 'False NEG Errors: 12% Visual Acuity:',\n",
       " '',\n",
       " 'Test Duration: 04:50 Rx: +4.50 DS',\n",
       " '',\n",
       " 'Fovea: Off',\n",
       " '',\n",
       " '']"
      ]
     },
     "execution_count": 481,
     "metadata": {},
     "output_type": "execute_result"
    }
   ],
   "source": [
    "text.split(\"\\n\")"
   ]
  },
  {
   "cell_type": "code",
   "execution_count": 472,
   "metadata": {},
   "outputs": [],
   "source": [
    "cropped2 = img[3860:3980]"
   ]
  },
  {
   "cell_type": "code",
   "execution_count": 210,
   "metadata": {},
   "outputs": [],
   "source": [
    "testimg = np.array(PIL.Image.open(\"/Users/nicolebrye/Desktop/canitreadthis.png\"))"
   ]
  },
  {
   "cell_type": "code",
   "execution_count": 473,
   "metadata": {},
   "outputs": [],
   "source": [
    "text2 = pytesseract.image_to_string(cropped2)"
   ]
  },
  {
   "cell_type": "code",
   "execution_count": 474,
   "metadata": {},
   "outputs": [
    {
     "data": {
      "text/plain": [
       "'-1 -2 0 0\\n\\n0\\n\\n-1\\n\\n0 0\\n'"
      ]
     },
     "execution_count": 474,
     "metadata": {},
     "output_type": "execute_result"
    }
   ],
   "source": [
    "text2"
   ]
  },
  {
   "cell_type": "code",
   "execution_count": 462,
   "metadata": {},
   "outputs": [],
   "source": [
    "data = PIL.Image.fromarray(cropped2)"
   ]
  },
  {
   "cell_type": "code",
   "execution_count": 463,
   "metadata": {},
   "outputs": [],
   "source": [
    "data.save(\"whatismylife.png\")"
   ]
  }
 ],
 "metadata": {
  "kernelspec": {
   "display_name": "Python 3 (ipykernel)",
   "language": "python",
   "name": "python3"
  },
  "language_info": {
   "codemirror_mode": {
    "name": "ipython",
    "version": 3
   },
   "file_extension": ".py",
   "mimetype": "text/x-python",
   "name": "python",
   "nbconvert_exporter": "python",
   "pygments_lexer": "ipython3",
   "version": "3.9.7"
  }
 },
 "nbformat": 4,
 "nbformat_minor": 4
}
