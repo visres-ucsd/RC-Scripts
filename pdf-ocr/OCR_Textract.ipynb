{
 "cells": [
  {
   "cell_type": "markdown",
   "metadata": {},
   "source": [
    "#### Imports"
   ]
  },
  {
   "cell_type": "code",
   "execution_count": 1,
   "metadata": {},
   "outputs": [],
   "source": [
    "import boto3\n",
    "from trp import Document\n",
    "\n",
    "import re\n",
    "import os\n",
    "import json\n",
    "import numpy as np\n",
    "import pandas as pd\n",
    "import datetime as dt"
   ]
  },
  {
   "cell_type": "markdown",
   "metadata": {},
   "source": [
    "#### Interaction with AWS"
   ]
  },
  {
   "cell_type": "code",
   "execution_count": 2,
   "metadata": {},
   "outputs": [],
   "source": [
    "# Document names\n",
    "s3BucketName = \"textract-console-us-east-1-ac45ba84-46aa-4f6d-a329-c1b5067c0763\"\n",
    "PlaindocumentName = \"VO00005.pdf\""
   ]
  },
  {
   "cell_type": "code",
   "execution_count": 3,
   "metadata": {},
   "outputs": [],
   "source": [
    "# Configuration and client\n",
    "textractmodule = boto3.client(\"textract\", 'us-east-1')"
   ]
  },
  {
   "cell_type": "code",
   "execution_count": 6,
   "metadata": {},
   "outputs": [
    {
     "ename": "InvalidS3ObjectException",
     "evalue": "An error occurred (InvalidS3ObjectException) when calling the StartDocumentTextDetection operation: Unable to get object metadata from S3. Check object key, region and/or access permissions.",
     "output_type": "error",
     "traceback": [
      "\u001b[0;31m---------------------------------------------------------------------------\u001b[0m",
      "\u001b[0;31mInvalidS3ObjectException\u001b[0m                  Traceback (most recent call last)",
      "\u001b[0;32m/var/folders/7m/n2zn61593k18rvyz907d2skc0000gn/T/ipykernel_3533/3537295950.py\u001b[0m in \u001b[0;36m<module>\u001b[0;34m\u001b[0m\n\u001b[0;32m----> 1\u001b[0;31m response = textractmodule.start_document_text_detection(\n\u001b[0m\u001b[1;32m      2\u001b[0m     DocumentLocation={\n\u001b[1;32m      3\u001b[0m         'S3Object': {\n\u001b[1;32m      4\u001b[0m             \u001b[0;34m'Bucket'\u001b[0m\u001b[0;34m:\u001b[0m \u001b[0ms3BucketName\u001b[0m\u001b[0;34m,\u001b[0m\u001b[0;34m\u001b[0m\u001b[0;34m\u001b[0m\u001b[0m\n\u001b[1;32m      5\u001b[0m             \u001b[0;34m'Name'\u001b[0m\u001b[0;34m:\u001b[0m \u001b[0mPlaindocumentName\u001b[0m\u001b[0;34m\u001b[0m\u001b[0;34m\u001b[0m\u001b[0m\n",
      "\u001b[0;32m~/opt/anaconda3/lib/python3.9/site-packages/botocore/client.py\u001b[0m in \u001b[0;36m_api_call\u001b[0;34m(self, *args, **kwargs)\u001b[0m\n\u001b[1;32m    399\u001b[0m                     \"%s() only accepts keyword arguments.\" % py_operation_name)\n\u001b[1;32m    400\u001b[0m             \u001b[0;31m# The \"self\" in this scope is referring to the BaseClient.\u001b[0m\u001b[0;34m\u001b[0m\u001b[0;34m\u001b[0m\u001b[0m\n\u001b[0;32m--> 401\u001b[0;31m             \u001b[0;32mreturn\u001b[0m \u001b[0mself\u001b[0m\u001b[0;34m.\u001b[0m\u001b[0m_make_api_call\u001b[0m\u001b[0;34m(\u001b[0m\u001b[0moperation_name\u001b[0m\u001b[0;34m,\u001b[0m \u001b[0mkwargs\u001b[0m\u001b[0;34m)\u001b[0m\u001b[0;34m\u001b[0m\u001b[0;34m\u001b[0m\u001b[0m\n\u001b[0m\u001b[1;32m    402\u001b[0m \u001b[0;34m\u001b[0m\u001b[0m\n\u001b[1;32m    403\u001b[0m         \u001b[0m_api_call\u001b[0m\u001b[0;34m.\u001b[0m\u001b[0m__name__\u001b[0m \u001b[0;34m=\u001b[0m \u001b[0mstr\u001b[0m\u001b[0;34m(\u001b[0m\u001b[0mpy_operation_name\u001b[0m\u001b[0;34m)\u001b[0m\u001b[0;34m\u001b[0m\u001b[0;34m\u001b[0m\u001b[0m\n",
      "\u001b[0;32m~/opt/anaconda3/lib/python3.9/site-packages/botocore/client.py\u001b[0m in \u001b[0;36m_make_api_call\u001b[0;34m(self, operation_name, api_params)\u001b[0m\n\u001b[1;32m    729\u001b[0m             \u001b[0merror_code\u001b[0m \u001b[0;34m=\u001b[0m \u001b[0mparsed_response\u001b[0m\u001b[0;34m.\u001b[0m\u001b[0mget\u001b[0m\u001b[0;34m(\u001b[0m\u001b[0;34m\"Error\"\u001b[0m\u001b[0;34m,\u001b[0m \u001b[0;34m{\u001b[0m\u001b[0;34m}\u001b[0m\u001b[0;34m)\u001b[0m\u001b[0;34m.\u001b[0m\u001b[0mget\u001b[0m\u001b[0;34m(\u001b[0m\u001b[0;34m\"Code\"\u001b[0m\u001b[0;34m)\u001b[0m\u001b[0;34m\u001b[0m\u001b[0;34m\u001b[0m\u001b[0m\n\u001b[1;32m    730\u001b[0m             \u001b[0merror_class\u001b[0m \u001b[0;34m=\u001b[0m \u001b[0mself\u001b[0m\u001b[0;34m.\u001b[0m\u001b[0mexceptions\u001b[0m\u001b[0;34m.\u001b[0m\u001b[0mfrom_code\u001b[0m\u001b[0;34m(\u001b[0m\u001b[0merror_code\u001b[0m\u001b[0;34m)\u001b[0m\u001b[0;34m\u001b[0m\u001b[0;34m\u001b[0m\u001b[0m\n\u001b[0;32m--> 731\u001b[0;31m             \u001b[0;32mraise\u001b[0m \u001b[0merror_class\u001b[0m\u001b[0;34m(\u001b[0m\u001b[0mparsed_response\u001b[0m\u001b[0;34m,\u001b[0m \u001b[0moperation_name\u001b[0m\u001b[0;34m)\u001b[0m\u001b[0;34m\u001b[0m\u001b[0;34m\u001b[0m\u001b[0m\n\u001b[0m\u001b[1;32m    732\u001b[0m         \u001b[0;32melse\u001b[0m\u001b[0;34m:\u001b[0m\u001b[0;34m\u001b[0m\u001b[0;34m\u001b[0m\u001b[0m\n\u001b[1;32m    733\u001b[0m             \u001b[0;32mreturn\u001b[0m \u001b[0mparsed_response\u001b[0m\u001b[0;34m\u001b[0m\u001b[0;34m\u001b[0m\u001b[0m\n",
      "\u001b[0;31mInvalidS3ObjectException\u001b[0m: An error occurred (InvalidS3ObjectException) when calling the StartDocumentTextDetection operation: Unable to get object metadata from S3. Check object key, region and/or access permissions."
     ]
    }
   ],
   "source": [
    "response = textractmodule.start_document_text_detection(\n",
    "    DocumentLocation={\n",
    "        'S3Object': {\n",
    "            'Bucket': s3BucketName,\n",
    "            'Name': PlaindocumentName\n",
    "        }\n",
    "    })"
   ]
  },
  {
   "cell_type": "code",
   "execution_count": 4,
   "metadata": {},
   "outputs": [
    {
     "ename": "InvalidS3ObjectException",
     "evalue": "An error occurred (InvalidS3ObjectException) when calling the DetectDocumentText operation: Unable to get object metadata from S3. Check object key, region and/or access permissions.",
     "output_type": "error",
     "traceback": [
      "\u001b[0;31m---------------------------------------------------------------------------\u001b[0m",
      "\u001b[0;31mInvalidS3ObjectException\u001b[0m                  Traceback (most recent call last)",
      "\u001b[0;32m/var/folders/7m/n2zn61593k18rvyz907d2skc0000gn/T/ipykernel_1180/2300620688.py\u001b[0m in \u001b[0;36m<module>\u001b[0;34m\u001b[0m\n\u001b[1;32m      1\u001b[0m \u001b[0;31m# Detect text from document\u001b[0m\u001b[0;34m\u001b[0m\u001b[0;34m\u001b[0m\u001b[0m\n\u001b[0;32m----> 2\u001b[0;31m response = textractmodule.detect_document_text(\n\u001b[0m\u001b[1;32m      3\u001b[0m     Document={\n\u001b[1;32m      4\u001b[0m         'S3Object': {\n\u001b[1;32m      5\u001b[0m             \u001b[0;34m'Bucket'\u001b[0m\u001b[0;34m:\u001b[0m \u001b[0ms3BucketName\u001b[0m\u001b[0;34m,\u001b[0m\u001b[0;34m\u001b[0m\u001b[0;34m\u001b[0m\u001b[0m\n",
      "\u001b[0;32m~/opt/anaconda3/lib/python3.9/site-packages/botocore/client.py\u001b[0m in \u001b[0;36m_api_call\u001b[0;34m(self, *args, **kwargs)\u001b[0m\n\u001b[1;32m    399\u001b[0m                     \"%s() only accepts keyword arguments.\" % py_operation_name)\n\u001b[1;32m    400\u001b[0m             \u001b[0;31m# The \"self\" in this scope is referring to the BaseClient.\u001b[0m\u001b[0;34m\u001b[0m\u001b[0;34m\u001b[0m\u001b[0m\n\u001b[0;32m--> 401\u001b[0;31m             \u001b[0;32mreturn\u001b[0m \u001b[0mself\u001b[0m\u001b[0;34m.\u001b[0m\u001b[0m_make_api_call\u001b[0m\u001b[0;34m(\u001b[0m\u001b[0moperation_name\u001b[0m\u001b[0;34m,\u001b[0m \u001b[0mkwargs\u001b[0m\u001b[0;34m)\u001b[0m\u001b[0;34m\u001b[0m\u001b[0;34m\u001b[0m\u001b[0m\n\u001b[0m\u001b[1;32m    402\u001b[0m \u001b[0;34m\u001b[0m\u001b[0m\n\u001b[1;32m    403\u001b[0m         \u001b[0m_api_call\u001b[0m\u001b[0;34m.\u001b[0m\u001b[0m__name__\u001b[0m \u001b[0;34m=\u001b[0m \u001b[0mstr\u001b[0m\u001b[0;34m(\u001b[0m\u001b[0mpy_operation_name\u001b[0m\u001b[0;34m)\u001b[0m\u001b[0;34m\u001b[0m\u001b[0;34m\u001b[0m\u001b[0m\n",
      "\u001b[0;32m~/opt/anaconda3/lib/python3.9/site-packages/botocore/client.py\u001b[0m in \u001b[0;36m_make_api_call\u001b[0;34m(self, operation_name, api_params)\u001b[0m\n\u001b[1;32m    729\u001b[0m             \u001b[0merror_code\u001b[0m \u001b[0;34m=\u001b[0m \u001b[0mparsed_response\u001b[0m\u001b[0;34m.\u001b[0m\u001b[0mget\u001b[0m\u001b[0;34m(\u001b[0m\u001b[0;34m\"Error\"\u001b[0m\u001b[0;34m,\u001b[0m \u001b[0;34m{\u001b[0m\u001b[0;34m}\u001b[0m\u001b[0;34m)\u001b[0m\u001b[0;34m.\u001b[0m\u001b[0mget\u001b[0m\u001b[0;34m(\u001b[0m\u001b[0;34m\"Code\"\u001b[0m\u001b[0;34m)\u001b[0m\u001b[0;34m\u001b[0m\u001b[0;34m\u001b[0m\u001b[0m\n\u001b[1;32m    730\u001b[0m             \u001b[0merror_class\u001b[0m \u001b[0;34m=\u001b[0m \u001b[0mself\u001b[0m\u001b[0;34m.\u001b[0m\u001b[0mexceptions\u001b[0m\u001b[0;34m.\u001b[0m\u001b[0mfrom_code\u001b[0m\u001b[0;34m(\u001b[0m\u001b[0merror_code\u001b[0m\u001b[0;34m)\u001b[0m\u001b[0;34m\u001b[0m\u001b[0;34m\u001b[0m\u001b[0m\n\u001b[0;32m--> 731\u001b[0;31m             \u001b[0;32mraise\u001b[0m \u001b[0merror_class\u001b[0m\u001b[0;34m(\u001b[0m\u001b[0mparsed_response\u001b[0m\u001b[0;34m,\u001b[0m \u001b[0moperation_name\u001b[0m\u001b[0;34m)\u001b[0m\u001b[0;34m\u001b[0m\u001b[0;34m\u001b[0m\u001b[0m\n\u001b[0m\u001b[1;32m    732\u001b[0m         \u001b[0;32melse\u001b[0m\u001b[0;34m:\u001b[0m\u001b[0;34m\u001b[0m\u001b[0;34m\u001b[0m\u001b[0m\n\u001b[1;32m    733\u001b[0m             \u001b[0;32mreturn\u001b[0m \u001b[0mparsed_response\u001b[0m\u001b[0;34m\u001b[0m\u001b[0;34m\u001b[0m\u001b[0m\n",
      "\u001b[0;31mInvalidS3ObjectException\u001b[0m: An error occurred (InvalidS3ObjectException) when calling the DetectDocumentText operation: Unable to get object metadata from S3. Check object key, region and/or access permissions."
     ]
    }
   ],
   "source": [
    "# Detect text from document\n",
    "response = textractmodule.detect_document_text(\n",
    "    Document={\n",
    "        'S3Object': {\n",
    "            'Bucket': s3BucketName,\n",
    "            'Name': PlaindocumentName\n",
    "        }\n",
    "    })\n",
    "\n",
    "print ('------------- Print Plaintext detected text ------------------------------')\n",
    "for item in response[\"Blocks\"]:\n",
    "    if item[\"BlockType\"] == \"LINE\":\n",
    "        print ('\\033[92m'+item[\"Text\"]+'\\033[92m')"
   ]
  },
  {
   "cell_type": "markdown",
   "metadata": {},
   "source": [
    "#### Cleaning the Result: Key Value Pairs"
   ]
  },
  {
   "cell_type": "code",
   "execution_count": 5,
   "metadata": {},
   "outputs": [],
   "source": [
    "fp = \"/Users/nicolebrye/Desktop/HGC/Data_Management/pdf-ocr/SD4000s_20220426_24-2\""
   ]
  },
  {
   "cell_type": "code",
   "execution_count": 6,
   "metadata": {},
   "outputs": [],
   "source": [
    "cols = [\"HGCParserVersion\", \"XMLConversionTimeStamp\", \"HFA2_SOFTWARE_VERSION\", \"HFA_XML_VERSION\",\n",
    "        \"PATIENT_ID\", \"FULL_NAME\", \"GIVEN_NAME\", \"MIDDLE_NAME\", \"LAST_NAME\", \"NAME_PREFIX\",\n",
    "        \"NAME_SUFFIX\", \"BIRTH_DATE\", \"VISIT_DATE\", \"STUDY_UID\", \"SERIES_DATE_TIME\", \"MODALITY\",\n",
    "        \"SITE\", \"INSTRUMENT_NAME\", \"INSTRUMENT_MANUFACTURER\", \"INSTRUMENT_MODEL_NUMBER\",\n",
    "        \"INSTRUMENT_SERIAL_NUMBER\", \"INSTRUMENT_SOFTWARE_VERSION\", \"DISPLAY_NAME\",\n",
    "        \"CLINICAL_NOTES\", \"EXAM_TIME\", \"CD_HORIZONTAL\", \"CD_VERTICAL\", \"IOP\", \"TRIAL_RX_SPHERE\",\n",
    "        \"TRIAL_RX_CYLINDER\", \"TRIAL_RX_AXIS\", \"DISTANCE_RX_SPHERE\", \"DISTANCE_RX_CYLINDER\",\n",
    "        \"DISTANCE_RX_AXIS\", \"PUPIL_DIAMETER\", \"PUPIL_DIAMETER_AUTO\", \"DIAGNOSIS_CODE\",\n",
    "        \"PROCEDURE_CODE\", \"VA\", \"VA_STRING\", \"TEST_TYPE\", \"IMAGE_TYPE\", \"IMAGE_FILE_NAME\",\n",
    "        \"TEST_PATTERN\", \"TEST_STRATEGY\", \"STIMULUS_COLOR\", \"STIMULUS_SIZE\", \"BACKGROUND_COLOR\",\n",
    "        \"EXAM_DURATION\", \"FIXATION_TARGET\", \"FIXATION_MONITOR\", \"BLIND_SPOT_X\", \"BLIND_SPOT_Y\",\n",
    "        \"BLIND_SPOT_STIMULUS_SIZE\", \"FOVEAL_RESULT\", \"FOVEAL_THRESHOLD\", \"CENTRAL_REF_LEVEL\",\n",
    "        \"THROWN_OUT_POINTS\", \"MINIMUM_STIMULUS\", \"FIELD_SIZE\", \"LANGUAGE\",\n",
    "        \"FALSE_NEGATIVE_METHOD\", \"FALSE_NEGATIVE_TRIALS\", \"FALSE_NEGATIVE_ERRORS\",\n",
    "        \"FALSE_NEGATIVE_PERCENT\", \"FALSE_POSITIVE_TRIALS\",\n",
    "        \"FALSE_POSITIVE_ERRORS\", \"FALSE_POSITIVE_PERCENT\", \"FIXATION_CHECK_TRIALS\",\n",
    "        \"FIXATION_CHECK_ERRORS\", \"QUESTIONS_ASKED\", \"REFERENCE_TEST_DATE\",\n",
    "        \"REFERENCE_TEST_CODE\", \"SF_STATUS\", \"SF\", \"NUM_THRESHOLD_POINTS\",\n",
    "        \"N9_S27_Thr\", \"N3_S27_Thr\", \"T3_S27_Thr\", \"T9_S27_Thr\", \"N15_S21_Thr\", \"N9_S21_Thr\",\n",
    "        \"N3_S21_Thr\", \"T3_S21_Thr\", \"T9_S21_Thr\", \"T15_S21_Thr\", \"N21_S15_Thr\", \"N15_S15_Thr\",\n",
    "        \"N9_S15_Thr\", \"N3_S15_Thr\", \"T3_S15_Thr\", \"T9_S15_Thr\", \"T15_S15_Thr\", \"T21_S15_Thr\",\n",
    "        \"N27_S9_Thr\", \"N21_S9_Thr\", \"N15_S9_Thr\", \"N9_S9_Thr\", \"N3_S9_Thr\", \"T3_S9_Thr\",\n",
    "        \"T9_S9_Thr\", \"T15_S9_Thr\", \"T21_S9_Thr\", \"T27_S9_Thr\", \"N27_S3_Thr\", \"N21_S3_Thr\",\n",
    "        \"N15_S3_Thr\", \"N9_S3_Thr\", \"N3_S3_Thr\", \"T3_S3_Thr\", \"T9_S3_Thr\", \"T15_S3_Thr\",\n",
    "        \"T21_S3_Thr\", \"T27_S3_Thr\", \"N27_I3_Thr\", \"N21_I3_Thr\", \"N15_I3_Thr\", \"N9_I3_Thr\",\n",
    "        \"N3_I3_Thr\", \"T3_I3_Thr\", \"T9_I3_Thr\", \"T15_I3_Thr\", \"T21_I3_Thr\", \"T27_I3_Thr\",\n",
    "        \"N27_I9_Thr\", \"N21_I9_Thr\", \"N15_I9_Thr\", \"N9_I9_Thr\", \"N3_I9_Thr\", \"T3_I9_Thr\",\n",
    "        \"T9_I9_Thr\", \"T15_I9_Thr\", \"T21_I9_Thr\", \"T27_I9_Thr\", \"N21_I15_Thr\", \"N15_I15_Thr\",\n",
    "        \"N9_I15_Thr\", \"N3_I15_Thr\", \"T3_I15_Thr\", \"T9_I15_Thr\", \"T15_I15_Thr\", \"T21_I15_Thr\",\n",
    "        \"N15_I21_Thr\", \"N9_I21_Thr\", \"N3_I21_Thr\", \"T3_I21_Thr\", \"T9_I21_Thr\", \"T15_I21_Thr\",\n",
    "        \"N9_I27_Thr\", \"N3_I27_Thr\", \"T3_I27_Thr\", \"T9_I27_Thr\",\n",
    "        \"STATPAC_STATUS\", \"LOW_PATIENT_RELIABILITY_STATUS\", \"GHT\", \"MD\", \"MD_PROBABILITY\",\n",
    "        \"PSD\", \"PSD_PROBABILITY\", \"CPSD\", \"CPSD_PROBABILITY\", \"SF_PROBABILITY\", \"VFI\",\n",
    "        \"FOVEAL_THRESHOLD_PROBABILITY\", \"NUM_TOTAL_DEV_VALUE_POINTS\",\n",
    "        \"N9_S27_TD\", \"N3_S27_TD\", \"T3_S27_TD\", \"T9_S27_TD\", \"N15_S21_TD\", \"N9_S21_TD\",\n",
    "        \"N3_S21_TD\", \"T3_S21_TD\", \"T9_S21_TD\", \"T15_S21_TD\", \"N21_S15_TD\", \"N15_S15_TD\",\n",
    "        \"N9_S15_TD\", \"N3_S15_TD\", \"T3_S15_TD\", \"T9_S15_TD\", \"T15_S15_TD\", \"T21_S15_TD\",\n",
    "        \"N27_S9_TD\", \"N21_S9_TD\", \"N15_S9_TD\", \"N9_S9_TD\", \"N3_S9_TD\", \"T3_S9_TD\",\n",
    "        \"T9_S9_TD\", \"T15_S9_TD\", \"T21_S9_TD\", \"T27_S9_TD\", \"N27_S3_TD\", \"N21_S3_TD\",\n",
    "        \"N15_S3_TD\", \"N9_S3_TD\", \"N3_S3_TD\", \"T3_S3_TD\", \"T9_S3_TD\", \"T15_S3_TD\",\n",
    "        \"T21_S3_TD\", \"T27_S3_TD\", \"N27_I3_TD\", \"N21_I3_TD\", \"N15_I3_TD\", \"N9_I3_TD\",\n",
    "        \"N3_I3_TD\", \"T3_I3_TD\", \"T9_I3_TD\", \"T15_I3_TD\", \"T21_I3_TD\", \"T27_I3_TD\",\n",
    "        \"N27_I9_TD\", \"N21_I9_TD\", \"N15_I9_TD\", \"N9_I9_TD\", \"N3_I9_TD\", \"T3_I9_TD\",\n",
    "        \"T9_I9_TD\", \"T15_I9_TD\", \"T21_I9_TD\", \"T27_I9_TD\", \"N21_I15_TD\", \"N15_I15_TD\",\n",
    "        \"N9_I15_TD\", \"N3_I15_TD\", \"T3_I15_TD\", \"T9_I15_TD\", \"T15_I15_TD\", \"T21_I15_TD\",\n",
    "        \"N15_I21_TD\", \"N9_I21_TD\", \"N3_I21_TD\", \"T3_I21_TD\", \"T9_I21_TD\", \"T15_I21_TD\",\n",
    "        \"N9_I27_TD\", \"N3_I27_TD\", \"T3_I27_TD\", \"T9_I27_TD\",\n",
    "        \"NUM_PATTERN_DEV_VALUE_POINTS\",\n",
    "        \"N9_S27_PD\", \"N3_S27_PD\", \"T3_S27_PD\", \"T9_S27_PD\", \"N15_S21_PD\", \"N9_S21_PD\",\n",
    "        \"N3_S21_PD\", \"T3_S21_PD\", \"T9_S21_PD\", \"T15_S21_PD\", \"N21_S15_PD\", \"N15_S15_PD\",\n",
    "        \"N9_S15_PD\", \"N3_S15_PD\", \"T3_S15_PD\", \"T9_S15_PD\", \"T15_S15_PD\", \"T21_S15_PD\",\n",
    "        \"N27_S9_PD\", \"N21_S9_PD\", \"N15_S9_PD\", \"N9_S9_PD\", \"N3_S9_PD\", \"T3_S9_PD\",\n",
    "        \"T9_S9_PD\", \"T15_S9_PD\", \"T21_S9_PD\", \"T27_S9_PD\", \"N27_S3_PD\", \"N21_S3_PD\",\n",
    "        \"N15_S3_PD\", \"N9_S3_PD\", \"N3_S3_PD\", \"T3_S3_PD\", \"T9_S3_PD\", \"T15_S3_PD\",\n",
    "        \"T21_S3_PD\", \"T27_S3_PD\", \"N27_I3_PD\", \"N21_I3_PD\", \"N15_I3_PD\", \"N9_I3_PD\",\n",
    "        \"N3_I3_PD\", \"T3_I3_PD\", \"T9_I3_PD\", \"T15_I3_PD\", \"T21_I3_PD\", \"T27_I3_PD\",\n",
    "        \"N27_I9_PD\", \"N21_I9_PD\", \"N15_I9_PD\", \"N9_I9_PD\", \"N3_I9_PD\", \"T3_I9_PD\",\n",
    "        \"T9_I9_PD\", \"T15_I9_PD\", \"T21_I9_PD\", \"T27_I9_PD\", \"N21_I15_PD\", \"N15_I15_PD\",\n",
    "        \"N9_I15_PD\", \"N3_I15_PD\", \"T3_I15_PD\", \"T9_I15_PD\", \"T15_I15_PD\", \"T21_I15_PD\",\n",
    "        \"N15_I21_PD\", \"N9_I21_PD\", \"N3_I21_PD\", \"T3_I21_PD\", \"T9_I21_PD\", \"T15_I21_PD\",\n",
    "        \"N9_I27_PD\", \"N3_I27_PD\", \"T3_I27_PD\", \"T9_I27_PD\",\n",
    "        \"NUM_TOTAL_DEV_PROB_POINTS\",\n",
    "        \"N9_S27_TDP\", \"N3_S27_TDP\", \"T3_S27_TDP\", \"T9_S27_TDP\", \"N15_S21_TDP\", \"N9_S21_TDP\",\n",
    "        \"N3_S21_TDP\", \"T3_S21_TDP\", \"T9_S21_TDP\", \"T15_S21_TDP\", \"N21_S15_TDP\", \"N15_S15_TDP\",\n",
    "        \"N9_S15_TDP\", \"N3_S15_TDP\", \"T3_S15_TDP\", \"T9_S15_TDP\", \"T15_S15_TDP\", \"T21_S15_TDP\",\n",
    "        \"N27_S9_TDP\", \"N21_S9_TDP\", \"N15_S9_TDP\", \"N9_S9_TDP\", \"N3_S9_TDP\", \"T3_S9_TDP\",\n",
    "        \"T9_S9_TDP\", \"T15_S9_TDP\", \"T21_S9_TDP\", \"T27_S9_TDP\", \"N27_S3_TDP\", \"N21_S3_TDP\",\n",
    "        \"N15_S3_TDP\", \"N9_S3_TDP\", \"N3_S3_TDP\", \"T3_S3_TDP\", \"T9_S3_TDP\", \"T15_S3_TDP\",\n",
    "        \"T21_S3_TDP\", \"T27_S3_TDP\", \"N27_I3_TDP\", \"N21_I3_TDP\", \"N15_I3_TDP\", \"N9_I3_TDP\",\n",
    "        \"N3_I3_TDP\", \"T3_I3_TDP\", \"T9_I3_TDP\", \"T15_I3_TDP\", \"T21_I3_TDP\", \"T27_I3_TDP\",\n",
    "        \"N27_I9_TDP\", \"N21_I9_TDP\", \"N15_I9_TDP\", \"N9_I9_TDP\", \"N3_I9_TDP\", \"T3_I9_TDP\",\n",
    "        \"T9_I9_TDP\", \"T15_I9_TDP\", \"T21_I9_TDP\", \"T27_I9_TDP\", \"N21_I15_TDP\", \"N15_I15_TDP\",\n",
    "        \"N9_I15_TDP\", \"N3_I15_TDP\", \"T3_I15_TDP\", \"T9_I15_TDP\", \"T15_I15_TDP\", \"T21_I15_TDP\",\n",
    "        \"N15_I21_TDP\", \"N9_I21_TDP\", \"N3_I21_TDP\", \"T3_I21_TDP\", \"T9_I21_TDP\", \"T15_I21_TDP\",\n",
    "        \"N9_I27_TDP\", \"N3_I27_TDP\", \"T3_I27_TDP\", \"T9_I27_TDP\",\n",
    "        \"NUM_PATTERN_DEV_PROB_POINTS\",\n",
    "        \"N9_S27_PDP\", \"N3_S27_PDP\", \"T3_S27_PDP\", \"T9_S27_PDP\", \"N15_S21_PDP\", \"N9_S21_PDP\",\n",
    "        \"N3_S21_PDP\", \"T3_S21_PDP\", \"T9_S21_PDP\", \"T15_S21_PDP\", \"N21_S15_PDP\", \"N15_S15_PDP\",\n",
    "        \"N9_S15_PDP\", \"N3_S15_PDP\", \"T3_S15_PDP\", \"T9_S15_PDP\", \"T15_S15_PDP\", \"T21_S15_PDP\",\n",
    "        \"N27_S9_PDP\", \"N21_S9_PDP\", \"N15_S9_PDP\", \"N9_S9_PDP\", \"N3_S9_PDP\", \"T3_S9_PDP\",\n",
    "        \"T9_S9_PDP\", \"T15_S9_PDP\", \"T21_S9_PDP\", \"T27_S9_PDP\", \"N27_S3_PDP\", \"N21_S3_PDP\",\n",
    "        \"N15_S3_PDP\", \"N9_S3_PDP\", \"N3_S3_PDP\", \"T3_S3_PDP\", \"T9_S3_PDP\", \"T15_S3_PDP\",\n",
    "        \"T21_S3_PDP\", \"T27_S3_PDP\", \"N27_I3_PDP\", \"N21_I3_PDP\", \"N15_I3_PDP\", \"N9_I3_PDP\",\n",
    "        \"N3_I3_PDP\", \"T3_I3_PDP\", \"T9_I3_PDP\", \"T15_I3_PDP\", \"T21_I3_PDP\", \"T27_I3_PDP\",\n",
    "        \"N27_I9_PDP\", \"N21_I9_PDP\", \"N15_I9_PDP\", \"N9_I9_PDP\", \"N3_I9_PDP\", \"T3_I9_PDP\",\n",
    "        \"T9_I9_PDP\", \"T15_I9_PDP\", \"T21_I9_PDP\", \"T27_I9_PDP\", \"N21_I15_PDP\", \"N15_I15_PDP\",\n",
    "        \"N9_I15_PDP\", \"N3_I15_PDP\", \"T3_I15_PDP\", \"T9_I15_PDP\", \"T15_I15_PDP\", \"T21_I15_PDP\",\n",
    "        \"N15_I21_PDP\", \"N9_I21_PDP\", \"N3_I21_PDP\", \"T3_I21_PDP\", \"T9_I21_PDP\", \"T15_I21_PDP\",\n",
    "        \"N9_I27_PDP\", \"N3_I27_PDP\", \"T3_I27_PDP\", \"T9_I27_PDP\"]"
   ]
  },
  {
   "cell_type": "code",
   "execution_count": 7,
   "metadata": {},
   "outputs": [],
   "source": [
    "# Read the csv file of results\n",
    "result = pd.read_csv(os.path.join(fp, \"keyValues.csv\"))\n",
    "\n",
    "# Create a dictionary of the output\n",
    "keys   = result[\"key\"].str.strip(\": \")\n",
    "values = result[\"value\"].str.strip(\", \")\n",
    "\n",
    "temp = dict(zip(keys, values))"
   ]
  },
  {
   "cell_type": "code",
   "execution_count": 8,
   "metadata": {},
   "outputs": [],
   "source": [
    "# Initialize pandas DataFrame\n",
    "output = pd.DataFrame(columns=cols, index=[0])\n",
    "\n",
    "# Important dates\n",
    "DOB = pd.to_datetime(temp[\"Date of Birth\"])\n",
    "VIS = pd.to_datetime(temp[\"Date\"])\n",
    "\n",
    "# Patient Info\n",
    "output[\"PATIENT_ID\"] = temp[\"Patient ID\"]\n",
    "output[\"FULL_NAME\"]  = temp[\"Patient\"]\n",
    "output[\"LAST_NAME\"]  = temp[\"Patient\"]\n",
    "output[\"BIRTH_DATE\"] = str(DOB.month) + \"/\" + str(DOB.day) + \"/\" + str(DOB.year)[-2:]\n",
    "\n",
    "# Visit Info\n",
    "output[\"EXAM_TIME\"]     = temp[\"Time\"].split()[0]\n",
    "output[\"VISIT_DATE\"]    = str(VIS.month) + \"/\" + str(VIS.day) + \"/\" + str(VIS.year)[-2:]\n",
    "output[\"TEST_STRATEGY\"] = temp[\"Strategy\"]\n",
    "output[\"EXAM_DURATION\"] = temp[\"Test Duration\"]\n",
    "\n",
    "# Eye Info\n",
    "output[\"VA\"] = temp[\"Visual Acuity\"]\n",
    "output[\"MD\"] = temp[\"MD\"].strip(\" dB\")\n",
    "output[\"PSD\"] = temp[\"PSD\"].strip(\" dB\")\n",
    "\n",
    "# Other Info\n",
    "output[\"FIXATION_TARGET\"]  = temp[\"Fixation Target\"]\n",
    "output[\"FIXATION_MONITOR\"] = temp[\"Fixation Monitor\"]\n",
    "output[\"STIMULUS_SIZE\"]    = temp[\"Stimulus\"].split(\", \")[0]\n",
    "output[\"STIMULUS_COLOR\"]   = temp[\"Stimulus\"].split()[1]\n",
    "output[\"BACKGROUND_COLOR\"] = output[\"STIMULUS_COLOR\"] + \" (\" + temp[\"Background\"] + \")\"\n",
    "output[\"PUPIL_DIAMETER\"]   = temp[\"Pupil Diameter\"].split()[0]\n",
    "output[\"FOVEAL_THRESHOLD\"] = temp[\"Fovea\"].strip(\" dB\")\n",
    "output[\"GHT\"]              = temp[\"GHT\"]\n",
    "output[\"VFI\"]              = temp[\"VFI\"].strip(\"%\")\n",
    "\n",
    "output[\"FIXATION_CHECK_ERRORS\"]  = temp[\"Fixation Losses\"].split(\"/\")[0]\n",
    "output[\"FIXATION_CHECK_TRIALS\"]  = temp[\"Fixation Losses\"].split(\"/\")[1]\n",
    "output[\"FALSE_POSITIVE_PERCENT\"] = temp[\"False POS Errors\"].strip(\"%\")\n",
    "output[\"FALSE_NEGATIVE_PERCENT\"] = temp[\"False NEG Errors\"].strip(\"%\")\n",
    "output[\"INSTRUMENT_MANUFACTURER\"] = \"Carl Zeiss Meditec\""
   ]
  },
  {
   "cell_type": "markdown",
   "metadata": {},
   "source": [
    "#### Cleaning the Result: Raw Text Document"
   ]
  },
  {
   "cell_type": "code",
   "execution_count": 9,
   "metadata": {},
   "outputs": [],
   "source": [
    "# Read in the raw text document\n",
    "textfile = os.path.join(fp, \"rawText.txt\")\n",
    "\n",
    "with open(textfile) as f:\n",
    "    lines = f.readlines()"
   ]
  },
  {
   "cell_type": "code",
   "execution_count": 10,
   "metadata": {},
   "outputs": [],
   "source": [
    "# Find the thr points as well as other important information\n",
    "THR = []\n",
    "for i, x in enumerate(lines):\n",
    "    \n",
    "    point = re.search(\"^\\d{2}\\\\n$\", x)\n",
    "    eye   = re.search(\"(^OD$|^OS$)\", x)\n",
    "    test  = re.search(\"\\s\\d{2}-\\d\\s\", x)\n",
    "    inst  = re.search(\"HFA\", x)\n",
    "    vers  = re.search(\"Version\", x)\n",
    "    rx    = re.search(\"Rx:\\s.*\", x)\n",
    "    field = re.search(\"°\", x)\n",
    "    \n",
    "    if point:\n",
    "        THR.append(point.group(0).strip(\"\\n\"))\n",
    "        \n",
    "    if eye:\n",
    "        SITE = eye.group(0).strip(\"\\n\")\n",
    "        \n",
    "    if test:\n",
    "        words = x.split()\n",
    "        \n",
    "        TEST_PATTERN = \" \".join([words[0], words[1]])\n",
    "        TEST_TYPE    = words[2]\n",
    "        \n",
    "    if inst:\n",
    "        inst_info = x.split()\n",
    "        \n",
    "        INSTRUMENT_NAME = \" \".join([inst_info[0], inst_info[1]])\n",
    "        INSTRUMENT_MODEL_NUMBER = inst_info[-1].split(\"-\")[0]\n",
    "        INSTRUMENT_SERIAL_NUMBER = inst_info[-1].split(\"-\")[1][:4]\n",
    "        INSTRUMENT_SOFTWARE_VERSION = inst_info[-1].split(\"/\")[-1]\n",
    "        \n",
    "    if vers:\n",
    "        VERSION = x.strip(\"\\n\").split()[1]  \n",
    "        \n",
    "    if rx:\n",
    "        TRIAL_RX_SPHERE = rx.group(0).split()[1]\n",
    "        \n",
    "    if field:\n",
    "        FIELD_SIZE = x.strip()\n",
    "        \n",
    "# Remove age\n",
    "THR = THR[1:]"
   ]
  },
  {
   "cell_type": "code",
   "execution_count": 11,
   "metadata": {},
   "outputs": [],
   "source": [
    "# Find the TD and PD Points\n",
    "TDPD = []\n",
    "for i, x in enumerate(lines):\n",
    "    \n",
    "    point = re.search(\"(^\\-\\d\\n|^\\d\\n|^\\-\\d\\s[^A-z]+\\n|\\d\\s[^A-z]+\\n)$\", x)\n",
    "    \n",
    "    if point:\n",
    "        value = point.group(0).strip(\"\\n\").split()\n",
    "        TDPD  = TDPD + value\n",
    "           \n",
    "# Split into TD and PD\n",
    "TD = TDPD[:4] + TDPD[8:14] + TDPD[20:28] + TDPD[36:44] + TDPD[52:60] + TDPD[68:76] + TDPD[84:90] + TDPD[96:100]\n",
    "PD = TDPD[4:8] + TDPD[14:20] + TDPD[28:36] + TDPD[44:52] + TDPD[60:68] + TDPD[76:84] + TDPD[90:96] + TDPD[100:]"
   ]
  },
  {
   "cell_type": "code",
   "execution_count": 12,
   "metadata": {},
   "outputs": [],
   "source": [
    "if SITE == \"OS\":\n",
    "    ORDER = ['T9_S21', 'T3_S21', 'N3_S21', 'N9_S21', 'T15_S15',\n",
    "             'T9_S15', 'T3_S15', 'N3_S15', 'N9_S15', 'N15_S15',\n",
    "             'T21_S9', 'T15_S9', 'T9_S9', 'T3_S9', 'N3_S9','N9_S9',\n",
    "             'N15_S9', 'N21_S9', 'T21_S3', 'T15_S3', 'T9_S3','T3_S3',\n",
    "             'N3_S3', 'N9_S3', 'N15_S3', 'N21_S3', 'N27_S3', \n",
    "             'T21_I3', 'T15_I3', 'T9_I3', 'T3_I3', 'N3_I3', 'N9_I3',\n",
    "             'N15_I3', 'N21_I3', 'N27_I3', 'T21_I9', 'T15_I9',\n",
    "             'T9_I9', 'T3_I9', 'N3_I9', 'N9_I9', 'N15_I9', 'N21_I9',\n",
    "             'T15_I15', 'T9_I15', 'T3_I15', 'N3_I15', 'N9_I15',\n",
    "             'N15_I15', 'T9_I21', 'T3_I21', 'N3_I21', 'N9_I21'\n",
    "            ]\n",
    "else:\n",
    "    ORDER = ['N9_S21', 'N3_S21', 'T3_S21', 'T9_S21', 'N15_S15',\n",
    "                 'N9_S15', 'N3_S15', 'T3_S15', 'T9_S15', 'T15_S15',\n",
    "                 'N21_S9', 'N15_S9', 'N9_S9', 'N3_S9', 'T3_S9',\n",
    "                 'T9_S9', 'T15_S9', 'T21_S9', 'N27_S3', 'N21_S3',\n",
    "                 'N15_S3', 'N9_S3', 'N3_S3', 'T3_S3', 'T9_S3',\n",
    "                 'T15_S3', 'T21_S3', 'N27_I3', 'N21_I3', 'N15_I3',\n",
    "                 'N9_I3', 'N3_I3', 'T3_I3', 'T9_I3', 'T15_I3',\n",
    "                 'T21_I3', 'N21_I9', 'N15_I9', 'N9_I9', 'N3_I9',\n",
    "                 'T3_I9', 'T9_I9', 'T15_I9', 'T21_I9', 'N15_I15',\n",
    "                 'N9_I15', 'N3_I15', 'T3_I15', 'T9_I15', 'T15_I15',\n",
    "                 'N9_I21', 'N3_I21', 'T3_I21', 'T9_I21']\n",
    "    \n",
    "thr_order = [x + \"_Thr\" for x in ORDER]\n",
    "td_order  = [x + \"_TD\" for x in ORDER]\n",
    "pd_order  = [x + \"_PD\" for x in ORDER]\n",
    "\n",
    "td_order.remove(\"T15_S3_TD\")\n",
    "td_order.remove(\"T15_I3_TD\")\n",
    "\n",
    "pd_order.remove(\"T15_S3_PD\")\n",
    "pd_order.remove(\"T15_I3_PD\")"
   ]
  },
  {
   "cell_type": "code",
   "execution_count": 13,
   "metadata": {},
   "outputs": [],
   "source": [
    "# Populate the data frame with thr points\n",
    "output[\"SITE\"] = SITE\n",
    "output[\"NUM_THRESHOLD_POINTS\"] = len(THR)\n",
    "\n",
    "output[thr_order] = THR\n",
    "\n",
    "# Populate the data frame with td points\n",
    "output[\"NUM_TOTAL_DEV_VALUE_POINTS\"] = len(TD)\n",
    "\n",
    "output[td_order] = TD\n",
    "\n",
    "# Populate the data frame with pd points\n",
    "output[\"NUM_PATTERN_DEV_VALUE_POINTS\"] = len(PD)\n",
    "\n",
    "output[pd_order] = PD"
   ]
  },
  {
   "cell_type": "code",
   "execution_count": 14,
   "metadata": {},
   "outputs": [],
   "source": [
    "# Populate the data frame with other acquired info\n",
    "output[\"TEST_TYPE\"]       = TEST_TYPE\n",
    "output[\"TEST_PATTERN\"]    = TEST_PATTERN\n",
    "output[\"TRIAL_RX_SPHERE\"] = TRIAL_RX_SPHERE\n",
    "output[\"FIELD_SIZE\"]      = FIELD_SIZE\n",
    "\n",
    "output[\"INSTRUMENT_NAME\"] = INSTRUMENT_NAME\n",
    "output[\"INSTRUMENT_MODEL_NUMBER\"] = INSTRUMENT_MODEL_NUMBER\n",
    "output[\"INSTRUMENT_SERIAL_NUMBER\"] = INSTRUMENT_SERIAL_NUMBER\n",
    "output[\"INSTRUMENT_SOFTWARE_VERSION\"] = INSTRUMENT_SOFTWARE_VERSION"
   ]
  },
  {
   "cell_type": "markdown",
   "metadata": {},
   "source": [
    "#### Write the output to a csv"
   ]
  },
  {
   "cell_type": "code",
   "execution_count": 15,
   "metadata": {},
   "outputs": [],
   "source": [
    "output.to_csv(\"test_24-2.csv\", index=False)"
   ]
  },
  {
   "cell_type": "markdown",
   "metadata": {},
   "source": [
    "#### Attempt to read the symbols"
   ]
  },
  {
   "cell_type": "code",
   "execution_count": 18,
   "metadata": {},
   "outputs": [],
   "source": [
    "import PIL\n",
    "import pytesseract\n"
   ]
  },
  {
   "cell_type": "code",
   "execution_count": 19,
   "metadata": {},
   "outputs": [],
   "source": [
    "img = np.array(PIL.Image.open(\"/Users/nicolebrye/Desktop/out.png\"))"
   ]
  },
  {
   "cell_type": "code",
   "execution_count": 39,
   "metadata": {},
   "outputs": [],
   "source": [
    "crop1 = img[:50]"
   ]
  },
  {
   "cell_type": "code",
   "execution_count": 40,
   "metadata": {},
   "outputs": [],
   "source": [
    "text = pytesseract.image_to_string(crop1)"
   ]
  },
  {
   "cell_type": "code",
   "execution_count": 52,
   "metadata": {},
   "outputs": [],
   "source": [
    "a = pd.DataFrame(img[0])"
   ]
  },
  {
   "cell_type": "code",
   "execution_count": 56,
   "metadata": {},
   "outputs": [
    {
     "data": {
      "text/plain": [
       "True"
      ]
     },
     "execution_count": 56,
     "metadata": {},
     "output_type": "execute_result"
    }
   ],
   "source": [
    "any(a == 256)"
   ]
  },
  {
   "cell_type": "code",
   "execution_count": 62,
   "metadata": {},
   "outputs": [
    {
     "data": {
      "text/plain": [
       "True"
      ]
     },
     "execution_count": 62,
     "metadata": {},
     "output_type": "execute_result"
    }
   ],
   "source": [
    "all(a[3] == 255)"
   ]
  }
 ],
 "metadata": {
  "kernelspec": {
   "display_name": "Python 3 (ipykernel)",
   "language": "python",
   "name": "python3"
  },
  "language_info": {
   "codemirror_mode": {
    "name": "ipython",
    "version": 3
   },
   "file_extension": ".py",
   "mimetype": "text/x-python",
   "name": "python",
   "nbconvert_exporter": "python",
   "pygments_lexer": "ipython3",
   "version": "3.9.7"
  }
 },
 "nbformat": 4,
 "nbformat_minor": 4
}
